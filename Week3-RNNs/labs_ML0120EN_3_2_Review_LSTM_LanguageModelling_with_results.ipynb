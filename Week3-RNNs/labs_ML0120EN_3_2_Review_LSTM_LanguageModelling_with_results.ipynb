{
  "nbformat": 4,
  "nbformat_minor": 0,
  "metadata": {
    "anaconda-cloud": {},
    "kernelspec": {
      "display_name": "Python 3",
      "language": "python",
      "name": "python3"
    },
    "language_info": {
      "codemirror_mode": {
        "name": "ipython",
        "version": 3
      },
      "file_extension": ".py",
      "mimetype": "text/x-python",
      "name": "python",
      "nbconvert_exporter": "python",
      "pygments_lexer": "ipython3",
      "version": "3.8.0"
    },
    "colab": {
      "name": "labs_ML0120EN-3.2-Review-LSTM-LanguageModelling_with_results.ipynb",
      "provenance": []
    }
  },
  "cells": [
    {
      "cell_type": "markdown",
      "metadata": {
        "id": "obXrIqIExGER"
      },
      "source": [
        "<a href=\"https://www.skills.network/?utm_medium=Exinfluencer&utm_source=Exinfluencer&utm_content=000026UJ&utm_term=10006555&utm_id=NA-SkillsNetwork-Channel-SkillsNetworkCoursesIBMDeveloperSkillsNetworkDL0120ENSkillsNetwork20629446-2021-01-01\"><img src=\"https://cf-courses-data.s3.us.cloud-object-storage.appdomain.cloud/IBM-DL0120ENedX/labs/Template%20for%20Instructional%20Hands-on%20Labs/images/IDSNlogo.png\" width=\"400px\" align=\"center\"></a>\n",
        "\n",
        "<h1 align=\"center\"><font size=\"5\">RECURRENT NETWORKS and LSTM IN DEEP LEARNING</font></h1>\n"
      ]
    },
    {
      "cell_type": "markdown",
      "metadata": {
        "id": "S50WGIbCxGEU"
      },
      "source": [
        "<h2>Applying Recurrent Neural Networks/LSTM for Language Modeling</h2>\n",
        "Hello and welcome to this part. In this notebook, we will go over the topic of Language Modelling, and create a Recurrent Neural Network model based on the Long Short-Term Memory unit to train and benchmark on the Penn Treebank dataset. By the end of this notebook, you should be able to understand how TensorFlow builds and executes a RNN model for Language Modelling.\n"
      ]
    },
    {
      "cell_type": "markdown",
      "metadata": {
        "id": "LjFM9ZJjxGEU"
      },
      "source": [
        "<h2>The Objective</h2>\n",
        "By now, you should have an understanding of how Recurrent Networks work -- a specialized model to process sequential data by keeping track of the \"state\" or context. In this notebook, we go over a TensorFlow code snippet for creating a model focused on <b>Language Modelling</b> -- a very relevant task that is the cornerstone of many different linguistic problems such as <b>Speech Recognition, Machine Translation and Image Captioning</b>. For this, we will be using the Penn Treebank dataset, which is an often-used dataset for benchmarking Language Modelling models.\n"
      ]
    },
    {
      "cell_type": "markdown",
      "metadata": {
        "id": "PTo3syPOxGEV"
      },
      "source": [
        "<h2>Table of Contents</h2>\n",
        "<ol>\n",
        "    <li><a href=\"https://#language_modelling\">What exactly is Language Modelling?</a></li>\n",
        "    <li><a href=\"https://#treebank_dataset\">The Penn Treebank dataset</a></li>\n",
        "    <li><a href=\"https://#word_embedding\">Word Embedding</a></li>\n",
        "    <li><a href=\"https://#building_lstm_model\">Building the LSTM model for Language Modeling</a></li>\n",
        "    <li><a href=\"https://#ltsm\">LTSM</a></li>\n",
        "</ol>\n",
        "<p></p>\n",
        "</div>\n",
        "<br>\n"
      ]
    },
    {
      "cell_type": "markdown",
      "metadata": {
        "button": false,
        "deletable": true,
        "new_sheet": false,
        "run_control": {
          "read_only": false
        },
        "id": "TuwyqEjJxGEV"
      },
      "source": [
        "***\n"
      ]
    },
    {
      "cell_type": "markdown",
      "metadata": {
        "id": "RR3tNMXPxGEW"
      },
      "source": [
        "<a id=\"language_modelling\"></a>\n",
        "\n",
        "<h2>What exactly is Language Modelling?</h2>\n",
        "Language Modelling, to put it simply, <b>is the task of assigning probabilities to sequences of words</b>. This means that, given a context of one or a sequence of words in the language the model was trained on, the model should provide the next most probable words or sequence of words that follows from the given sequence of words the sentence. Language Modelling is one of the most important tasks in Natural Language Processing.\n",
        "\n",
        "<img src=\"https://ibm.box.com/shared/static/1d1i5gub6wljby2vani2vzxp0xsph702.png\" width=\"1080\">\n",
        "<center><i>Example of a sentence being predicted</i></center>\n",
        "<br><br>\n",
        "In this example, one can see the predictions for the next word of a sentence, given the context \"This is an\". As you can see, this boils down to a sequential data analysis task -- you are given a word or a sequence of words (the input data), and, given the context (the state), you need to find out what is the next word (the prediction). This kind of analysis is very important for language-related tasks such as <b>Speech Recognition, Machine Translation, Image Captioning, Text Correction</b> and many other very relevant problems. \n",
        "\n",
        "<img src=\"https://ibm.box.com/shared/static/az39idf9ipfdpc5ugifpgxnydelhyf3i.png\" width=\"1080\">\n",
        "<center><i>The above example is a schema of an RNN in execution</i></center>\n",
        "<br><br>\n",
        "As the above image shows, Recurrent Network models fit this problem like a glove. Alongside LSTM and its capacity to maintain the model's state for over one thousand time steps, we have all the tools we need to undertake this problem. The goal for this notebook is to create a model that can reach <b>low levels of perplexity</b> on our desired dataset.\n",
        "\n",
        "For Language Modelling problems, <b>perplexity</b> is the way to gauge efficiency. Perplexity is simply a measure of how well a probabilistic model is able to predict its sample. A higher-level way to explain this would be saying that <b>low perplexity means a higher degree of trust in the predictions the model makes</b>. Therefore, the lower perplexity is, the better.\n"
      ]
    },
    {
      "cell_type": "markdown",
      "metadata": {
        "id": "rooiC8YJxGEW"
      },
      "source": [
        "<a id=\"treebank_dataset\"></a>\n",
        "\n",
        "<h2>The Penn Treebank dataset</h2>\n",
        "Historically, datasets big enough for Natural Language Processing are hard to come by. This is in part due to the necessity of the sentences to be broken down and tagged with a certain degree of correctness -- or else the models trained on it won't be able to be correct at all. This means that we need a <b>large amount of data, annotated by or at least corrected by humans</b>. This is, of course, not an easy task at all.\n",
        "\n",
        "The Penn Treebank, or PTB for short, is a dataset maintained by the University of Pennsylvania. It is <i>huge</i> -- there are over <b>four million and eight hundred thousand</b> annotated words in it, all corrected by humans. It is composed of many different sources, from abstracts of Department of Energy papers to texts from the Library of America. Since it is verifiably correct and of such a huge size, the Penn Treebank is commonly used as a benchmark dataset for Language Modelling.\n",
        "\n",
        "The dataset is divided in different kinds of annotations, such as Piece-of-Speech, Syntactic and Semantic skeletons. For this example, we will simply use a sample of clean, non-annotated words (with the exception of one tag --<code>\\<unk></code>\n",
        ", which is used for rare words such as uncommon proper nouns) for our model. This means that we just want to predict what the next words would be, not what they mean in context or their classes on a given sentence.\n",
        "\n",
        "<center>Example of text from the dataset we are going to use, <b>ptb.train</b></center>\n",
        "<br><br>\n",
        "\n",
        "<div class=\"alert alert-block alert-info\" style=\"margin-top: 20px\">\n",
        "    <center>the percentage of lung cancer deaths among the workers at the west <code>&lt;unk&gt;</code> mass. paper factory appears to be the highest for any asbestos workers studied in western industrialized countries he said \n",
        " the plant which is owned by <code>&lt;unk&gt;</code> & <code>&lt;unk&gt;</code> co. was under contract with <code>&lt;unk&gt;</code> to make the cigarette filters \n",
        " the finding probably will support those who argue that the U.S. should regulate the class of asbestos including <code>&lt;unk&gt;</code> more <code>&lt;unk&gt;</code> than the common kind of asbestos <code>&lt;unk&gt;</code> found in most schools and other buildings dr. <code>&lt;unk&gt;</code> said</center>\n",
        "</div>\n"
      ]
    },
    {
      "cell_type": "markdown",
      "metadata": {
        "button": false,
        "deletable": true,
        "new_sheet": false,
        "run_control": {
          "read_only": false
        },
        "id": "AuH0sObNxGEX"
      },
      "source": [
        "<a id=\"word_embedding\"></a>\n",
        "\n",
        "<h2>Word Embeddings</h2><br/>\n",
        "\n",
        "For better processing, in this example, we will make use of <a href=\"https://www.tensorflow.org/tutorials/word2vec/?utm_medium=Exinfluencer&utm_source=Exinfluencer&utm_content=000026UJ&utm_term=10006555&utm_id=NA-SkillsNetwork-Channel-SkillsNetworkCoursesIBMDeveloperSkillsNetworkDL0120ENSkillsNetwork20629446-2021-01-01\"><b>word embeddings</b></a>, which is <b>a way of representing sentence structures or words as n-dimensional vectors (where n is a reasonably high number, such as 200 or 500) of real numbers</b>. Basically, we will assign each word a randomly-initialized vector, and input those into the network to be processed. After a number of iterations, these vectors are expected to assume values that help the network to correctly predict what it needs to -- in our case, the probable next word in the sentence. This is shown to be a very effective task in Natural Language Processing, and is a commonplace practice. <br><br> <font size=\"4\"><strong>\n",
        "$$Vec(\"Example\") = \\[0.02, 0.00, 0.00, 0.92, 0.30, \\ldots]$$ </strong></font> <br>\n",
        "Word Embedding tends to group up similarly used words <i>reasonably</i> close together in the vectorial space. For example, if we use T-SNE (a dimensional reduction visualization algorithm) to flatten the dimensions of our vectors into a 2-dimensional space and plot these words in a 2-dimensional space, we might see something like this:\n",
        "\n",
        "<img src=\"https://ibm.box.com/shared/static/bqhc5dg879gcoabzhxra1w8rkg3od1cu.png\" width=\"800\">\n",
        "<center><i>T-SNE Mockup with clusters marked for easier visualization</i></center>\n",
        "<br><br>\n",
        "As you can see, words that are frequently used together, in place of each other, or in the same places as them tend to be grouped together -- being closer together the higher they are correlated. For example, \"None\" is pretty semantically close to \"Zero\", while a phrase that uses \"Italy\", you could probably also fit \"Germany\" in it, with little damage to the sentence structure. The vectorial \"closeness\" for similar words like this is a great indicator of a well-built model.\n",
        "\n",
        "<hr>\n"
      ]
    },
    {
      "cell_type": "markdown",
      "metadata": {
        "button": false,
        "deletable": true,
        "new_sheet": false,
        "run_control": {
          "read_only": false
        },
        "id": "ILIni2eexGEY"
      },
      "source": [
        "We need to import the necessary modules for our code. We need <b><code>numpy</code></b> and <b><code>tensorflow</code></b>, obviously. Additionally, we can import directly the <b><code>tensorflow\\.models.rnn</code></b> model, which includes the function for building RNNs, and <b><code>tensorflow\\.models.rnn.ptb.reader</code></b> which is the helper module for getting the input data from the dataset we just downloaded.\n",
        "\n",
        "If you want to learn more take a look at <https://github.com/tensorflow/models/blob/master/tutorials/rnn/ptb/reader.py>\n"
      ]
    },
    {
      "cell_type": "code",
      "metadata": {
        "tags": [],
        "colab": {
          "base_uri": "https://localhost:8080/"
        },
        "id": "GkF_iB2_xGEZ",
        "outputId": "3baf5548-9aab-412c-847e-db83259203e4"
      },
      "source": [
        "!pip install tensorflow==2.2.0rc0\n",
        "!pip install numpy"
      ],
      "execution_count": null,
      "outputs": [
        {
          "output_type": "stream",
          "name": "stdout",
          "text": [
            "Collecting tensorflow==2.2.0rc0\n",
            "  Downloading tensorflow-2.2.0rc0-cp37-cp37m-manylinux2010_x86_64.whl (515.9 MB)\n",
            "\u001b[K     |████████████████████████████████| 515.9 MB 22 kB/s \n",
            "\u001b[?25hRequirement already satisfied: six>=1.12.0 in /usr/local/lib/python3.7/dist-packages (from tensorflow==2.2.0rc0) (1.15.0)\n",
            "Requirement already satisfied: wheel>=0.26 in /usr/local/lib/python3.7/dist-packages (from tensorflow==2.2.0rc0) (0.37.0)\n",
            "Collecting gast==0.3.3\n",
            "  Downloading gast-0.3.3-py2.py3-none-any.whl (9.7 kB)\n",
            "Requirement already satisfied: absl-py>=0.7.0 in /usr/local/lib/python3.7/dist-packages (from tensorflow==2.2.0rc0) (0.12.0)\n",
            "Requirement already satisfied: keras-preprocessing>=1.1.0 in /usr/local/lib/python3.7/dist-packages (from tensorflow==2.2.0rc0) (1.1.2)\n",
            "Requirement already satisfied: numpy<2.0,>=1.16.0 in /usr/local/lib/python3.7/dist-packages (from tensorflow==2.2.0rc0) (1.19.5)\n",
            "Requirement already satisfied: grpcio>=1.8.6 in /usr/local/lib/python3.7/dist-packages (from tensorflow==2.2.0rc0) (1.41.0)\n",
            "Requirement already satisfied: protobuf>=3.8.0 in /usr/local/lib/python3.7/dist-packages (from tensorflow==2.2.0rc0) (3.17.3)\n",
            "Collecting tensorboard<2.2.0,>=2.1.0\n",
            "  Downloading tensorboard-2.1.1-py3-none-any.whl (3.8 MB)\n",
            "\u001b[K     |████████████████████████████████| 3.8 MB 31.4 MB/s \n",
            "\u001b[?25hRequirement already satisfied: termcolor>=1.1.0 in /usr/local/lib/python3.7/dist-packages (from tensorflow==2.2.0rc0) (1.1.0)\n",
            "Requirement already satisfied: astunparse==1.6.3 in /usr/local/lib/python3.7/dist-packages (from tensorflow==2.2.0rc0) (1.6.3)\n",
            "Collecting h5py<2.11.0,>=2.10.0\n",
            "  Downloading h5py-2.10.0-cp37-cp37m-manylinux1_x86_64.whl (2.9 MB)\n",
            "\u001b[K     |████████████████████████████████| 2.9 MB 46.5 MB/s \n",
            "\u001b[?25hRequirement already satisfied: wrapt>=1.11.1 in /usr/local/lib/python3.7/dist-packages (from tensorflow==2.2.0rc0) (1.12.1)\n",
            "Collecting tensorflow-estimator<2.2.0,>=2.1.0\n",
            "  Downloading tensorflow_estimator-2.1.0-py2.py3-none-any.whl (448 kB)\n",
            "\u001b[K     |████████████████████████████████| 448 kB 51.9 MB/s \n",
            "\u001b[?25hRequirement already satisfied: opt-einsum>=2.3.2 in /usr/local/lib/python3.7/dist-packages (from tensorflow==2.2.0rc0) (3.3.0)\n",
            "Requirement already satisfied: scipy==1.4.1 in /usr/local/lib/python3.7/dist-packages (from tensorflow==2.2.0rc0) (1.4.1)\n",
            "Requirement already satisfied: google-pasta>=0.1.8 in /usr/local/lib/python3.7/dist-packages (from tensorflow==2.2.0rc0) (0.2.0)\n",
            "Requirement already satisfied: markdown>=2.6.8 in /usr/local/lib/python3.7/dist-packages (from tensorboard<2.2.0,>=2.1.0->tensorflow==2.2.0rc0) (3.3.4)\n",
            "Requirement already satisfied: google-auth<2,>=1.6.3 in /usr/local/lib/python3.7/dist-packages (from tensorboard<2.2.0,>=2.1.0->tensorflow==2.2.0rc0) (1.35.0)\n",
            "Requirement already satisfied: werkzeug>=0.11.15 in /usr/local/lib/python3.7/dist-packages (from tensorboard<2.2.0,>=2.1.0->tensorflow==2.2.0rc0) (1.0.1)\n",
            "Requirement already satisfied: google-auth-oauthlib<0.5,>=0.4.1 in /usr/local/lib/python3.7/dist-packages (from tensorboard<2.2.0,>=2.1.0->tensorflow==2.2.0rc0) (0.4.6)\n",
            "Requirement already satisfied: setuptools>=41.0.0 in /usr/local/lib/python3.7/dist-packages (from tensorboard<2.2.0,>=2.1.0->tensorflow==2.2.0rc0) (57.4.0)\n",
            "Requirement already satisfied: requests<3,>=2.21.0 in /usr/local/lib/python3.7/dist-packages (from tensorboard<2.2.0,>=2.1.0->tensorflow==2.2.0rc0) (2.23.0)\n",
            "Requirement already satisfied: cachetools<5.0,>=2.0.0 in /usr/local/lib/python3.7/dist-packages (from google-auth<2,>=1.6.3->tensorboard<2.2.0,>=2.1.0->tensorflow==2.2.0rc0) (4.2.4)\n",
            "Requirement already satisfied: rsa<5,>=3.1.4 in /usr/local/lib/python3.7/dist-packages (from google-auth<2,>=1.6.3->tensorboard<2.2.0,>=2.1.0->tensorflow==2.2.0rc0) (4.7.2)\n",
            "Requirement already satisfied: pyasn1-modules>=0.2.1 in /usr/local/lib/python3.7/dist-packages (from google-auth<2,>=1.6.3->tensorboard<2.2.0,>=2.1.0->tensorflow==2.2.0rc0) (0.2.8)\n",
            "Requirement already satisfied: requests-oauthlib>=0.7.0 in /usr/local/lib/python3.7/dist-packages (from google-auth-oauthlib<0.5,>=0.4.1->tensorboard<2.2.0,>=2.1.0->tensorflow==2.2.0rc0) (1.3.0)\n",
            "Requirement already satisfied: importlib-metadata in /usr/local/lib/python3.7/dist-packages (from markdown>=2.6.8->tensorboard<2.2.0,>=2.1.0->tensorflow==2.2.0rc0) (4.8.1)\n",
            "Requirement already satisfied: pyasn1<0.5.0,>=0.4.6 in /usr/local/lib/python3.7/dist-packages (from pyasn1-modules>=0.2.1->google-auth<2,>=1.6.3->tensorboard<2.2.0,>=2.1.0->tensorflow==2.2.0rc0) (0.4.8)\n",
            "Requirement already satisfied: idna<3,>=2.5 in /usr/local/lib/python3.7/dist-packages (from requests<3,>=2.21.0->tensorboard<2.2.0,>=2.1.0->tensorflow==2.2.0rc0) (2.10)\n",
            "Requirement already satisfied: certifi>=2017.4.17 in /usr/local/lib/python3.7/dist-packages (from requests<3,>=2.21.0->tensorboard<2.2.0,>=2.1.0->tensorflow==2.2.0rc0) (2021.5.30)\n",
            "Requirement already satisfied: chardet<4,>=3.0.2 in /usr/local/lib/python3.7/dist-packages (from requests<3,>=2.21.0->tensorboard<2.2.0,>=2.1.0->tensorflow==2.2.0rc0) (3.0.4)\n",
            "Requirement already satisfied: urllib3!=1.25.0,!=1.25.1,<1.26,>=1.21.1 in /usr/local/lib/python3.7/dist-packages (from requests<3,>=2.21.0->tensorboard<2.2.0,>=2.1.0->tensorflow==2.2.0rc0) (1.24.3)\n",
            "Requirement already satisfied: oauthlib>=3.0.0 in /usr/local/lib/python3.7/dist-packages (from requests-oauthlib>=0.7.0->google-auth-oauthlib<0.5,>=0.4.1->tensorboard<2.2.0,>=2.1.0->tensorflow==2.2.0rc0) (3.1.1)\n",
            "Requirement already satisfied: zipp>=0.5 in /usr/local/lib/python3.7/dist-packages (from importlib-metadata->markdown>=2.6.8->tensorboard<2.2.0,>=2.1.0->tensorflow==2.2.0rc0) (3.6.0)\n",
            "Requirement already satisfied: typing-extensions>=3.6.4 in /usr/local/lib/python3.7/dist-packages (from importlib-metadata->markdown>=2.6.8->tensorboard<2.2.0,>=2.1.0->tensorflow==2.2.0rc0) (3.7.4.3)\n",
            "Installing collected packages: tensorflow-estimator, tensorboard, h5py, gast, tensorflow\n",
            "  Attempting uninstall: tensorflow-estimator\n",
            "    Found existing installation: tensorflow-estimator 2.6.0\n",
            "    Uninstalling tensorflow-estimator-2.6.0:\n",
            "      Successfully uninstalled tensorflow-estimator-2.6.0\n",
            "  Attempting uninstall: tensorboard\n",
            "    Found existing installation: tensorboard 2.6.0\n",
            "    Uninstalling tensorboard-2.6.0:\n",
            "      Successfully uninstalled tensorboard-2.6.0\n",
            "  Attempting uninstall: h5py\n",
            "    Found existing installation: h5py 3.1.0\n",
            "    Uninstalling h5py-3.1.0:\n",
            "      Successfully uninstalled h5py-3.1.0\n",
            "  Attempting uninstall: gast\n",
            "    Found existing installation: gast 0.4.0\n",
            "    Uninstalling gast-0.4.0:\n",
            "      Successfully uninstalled gast-0.4.0\n",
            "  Attempting uninstall: tensorflow\n",
            "    Found existing installation: tensorflow 2.6.0\n",
            "    Uninstalling tensorflow-2.6.0:\n",
            "      Successfully uninstalled tensorflow-2.6.0\n",
            "Successfully installed gast-0.3.3 h5py-2.10.0 tensorboard-2.1.1 tensorflow-2.2.0rc0 tensorflow-estimator-2.1.0\n",
            "Requirement already satisfied: numpy in /usr/local/lib/python3.7/dist-packages (1.19.5)\n"
          ]
        }
      ]
    },
    {
      "cell_type": "code",
      "metadata": {
        "id": "702PTgGbxGEa"
      },
      "source": [
        "import time\n",
        "import numpy as np\n",
        "import tensorflow as tf\n",
        "if not tf.__version__ == '2.2.0-rc0':\n",
        "    print(tf.__version__)\n",
        "    raise ValueError('please upgrade to TensorFlow 2.2.0-rc0, or restart your Kernel (Kernel->Restart & Clear Output)')"
      ],
      "execution_count": null,
      "outputs": []
    },
    {
      "cell_type": "markdown",
      "metadata": {
        "id": "J0LTaD0mxGEb"
      },
      "source": [
        "IMPORTANT! => Please restart the kernel by clicking on \"Kernel\"->\"Restart and Clear Outout\" and wait until all output disapears. Then your changes are beeing picked up\n"
      ]
    },
    {
      "cell_type": "code",
      "metadata": {
        "button": false,
        "deletable": true,
        "new_sheet": false,
        "run_control": {
          "read_only": false
        },
        "tags": [],
        "id": "1x4uZm4AxGEb"
      },
      "source": [
        "!mkdir data\n",
        "!mkdir data/ptb\n",
        "!wget -q -O data/ptb/reader.py https://cf-courses-data.s3.us.cloud-object-storage.appdomain.cloud/IBMDeveloperSkillsNetwork-DL0120EN-SkillsNetwork/labs/Week3/data/ptb/reader.py\n",
        "!cp data/ptb/reader.py . \n"
      ],
      "execution_count": null,
      "outputs": []
    },
    {
      "cell_type": "code",
      "metadata": {
        "tags": [],
        "id": "VqnERHYPxGEb"
      },
      "source": [
        "import reader"
      ],
      "execution_count": null,
      "outputs": []
    },
    {
      "cell_type": "markdown",
      "metadata": {
        "button": false,
        "deletable": true,
        "new_sheet": false,
        "run_control": {
          "read_only": false
        },
        "id": "YPQtkeWHxGEc"
      },
      "source": [
        "<a id=\"building_lstm_model\"></a>\n",
        "\n",
        "<h2>Building the LSTM model for Language Modeling</h2>\n",
        "Now that we know exactly what we are doing, we can start building our model using TensorFlow. The very first thing we need to do is download and extract the <code>simple-examples</code> dataset, which can be done by executing the code cell below.\n"
      ]
    },
    {
      "cell_type": "code",
      "metadata": {
        "button": false,
        "deletable": true,
        "new_sheet": false,
        "run_control": {
          "read_only": false
        },
        "tags": [],
        "colab": {
          "base_uri": "https://localhost:8080/"
        },
        "id": "KEi0MxwfxGEc",
        "outputId": "b2bb8796-5745-4bcb-f621-128ca0016f35"
      },
      "source": [
        "!wget http://www.fit.vutbr.cz/~imikolov/rnnlm/simple-examples.tgz \n",
        "!tar xzf simple-examples.tgz -C data/"
      ],
      "execution_count": null,
      "outputs": [
        {
          "output_type": "stream",
          "name": "stdout",
          "text": [
            "--2021-10-31 15:04:20--  http://www.fit.vutbr.cz/~imikolov/rnnlm/simple-examples.tgz\n",
            "Resolving www.fit.vutbr.cz (www.fit.vutbr.cz)... 147.229.9.23, 2001:67c:1220:809::93e5:917\n",
            "Connecting to www.fit.vutbr.cz (www.fit.vutbr.cz)|147.229.9.23|:80... connected.\n",
            "HTTP request sent, awaiting response... 200 OK\n",
            "Length: 34869662 (33M) [application/x-gtar]\n",
            "Saving to: ‘simple-examples.tgz’\n",
            "\n",
            "simple-examples.tgz 100%[===================>]  33.25M  8.45MB/s    in 3.9s    \n",
            "\n",
            "2021-10-31 15:04:25 (8.45 MB/s) - ‘simple-examples.tgz’ saved [34869662/34869662]\n",
            "\n"
          ]
        }
      ]
    },
    {
      "cell_type": "markdown",
      "metadata": {
        "button": false,
        "deletable": true,
        "new_sheet": false,
        "run_control": {
          "read_only": false
        },
        "id": "OjzSKkEixGEc"
      },
      "source": [
        "Additionally, for the sake of making it easy to play around with the model's hyperparameters, we can declare them beforehand. Feel free to change these -- you will see a difference in performance each time you change those!\n"
      ]
    },
    {
      "cell_type": "code",
      "metadata": {
        "button": false,
        "deletable": true,
        "new_sheet": false,
        "run_control": {
          "read_only": false
        },
        "id": "RDw7Yc8GxGEc"
      },
      "source": [
        "#Initial weight scale\n",
        "init_scale = 0.1\n",
        "#Initial learning rate\n",
        "learning_rate = 1.0\n",
        "#Maximum permissible norm for the gradient (For gradient clipping -- another measure against Exploding Gradients)\n",
        "max_grad_norm = 5\n",
        "#The number of layers in our model\n",
        "num_layers = 2\n",
        "#The total number of recurrence steps, also known as the number of layers when our RNN is \"unfolded\"\n",
        "num_steps = 20\n",
        "#The number of processing units (neurons) in the hidden layers\n",
        "hidden_size_l1 = 256\n",
        "hidden_size_l2 = 128\n",
        "#The maximum number of epochs trained with the initial learning rate\n",
        "max_epoch_decay_lr = 4\n",
        "#The total number of epochs in training\n",
        "max_epoch = 15\n",
        "#The probability for keeping data in the Dropout Layer (This is an optimization, but is outside our scope for this notebook!)\n",
        "#At 1, we ignore the Dropout Layer wrapping.\n",
        "keep_prob = 1\n",
        "#The decay for the learning rate\n",
        "decay = 0.5\n",
        "#The size for each batch of data\n",
        "batch_size = 30\n",
        "#The size of our vocabulary\n",
        "vocab_size = 10000\n",
        "embeding_vector_size= 200\n",
        "#Training flag to separate training from testing\n",
        "is_training = 1\n",
        "#Data directory for our dataset\n",
        "data_dir = \"data/simple-examples/data/\""
      ],
      "execution_count": null,
      "outputs": []
    },
    {
      "cell_type": "markdown",
      "metadata": {
        "button": false,
        "new_sheet": false,
        "run_control": {
          "read_only": false
        },
        "id": "NJORtIEsxGEd"
      },
      "source": [
        "Some clarifications for LSTM architecture based on the arguments:\n",
        "\n",
        "Network structure:\n",
        "\n",
        "<ul>\n",
        "    <li>In this network, the number of LSTM cells are 2. To give the model more expressive power, we can add multiple layers of LSTMs to process the data. The output of the first layer will become the input of the second and so on.\n",
        "    </li>\n",
        "    <li>The recurrence steps is 20, that is, when our RNN is \"Unfolded\", the recurrence step is 20.</li>   \n",
        "    <li>the structure is like:\n",
        "        <ul>\n",
        "            <li>200 input units -> [200x200] Weight -> 200 Hidden units (first layer) -> [200x200] Weight matrix  -> 200 Hidden units (second layer) ->  [200] weight Matrix -> 200 unit output</li>\n",
        "        </ul>\n",
        "    </li>\n",
        "</ul>\n",
        "<br>\n",
        "\n",
        "Input layer:\n",
        "\n",
        "<ul>\n",
        "    <li>The network has 200 input units.</li>\n",
        "    <li>Suppose each word is represented by an embedding vector of dimensionality e=200. The input layer of each cell will have 200 linear units. These e=200 linear units are connected to each of the h=200 LSTM units in the hidden layer (assuming there is only one hidden layer, though our case has 2 layers).\n",
        "    </li>\n",
        "    <li>The input shape is [batch_size, num_steps], that is [30x20]. It will turn into [30x20x200] after embedding, and then 20x[30x200]\n",
        "    </li>\n",
        "</ul>\n",
        "<br>\n",
        "\n",
        "Hidden layer:\n",
        "\n",
        "<ul>\n",
        "    <li>Each LSTM has 200 hidden units which is equivalent to the dimensionality of the embedding words and output.</li>\n",
        "</ul>\n",
        "<br>\n"
      ]
    },
    {
      "cell_type": "markdown",
      "metadata": {
        "button": false,
        "deletable": true,
        "new_sheet": false,
        "run_control": {
          "read_only": false
        },
        "id": "vorEhpo7xGEd"
      },
      "source": [
        "There is a lot to be done and a ton of information to process at the same time, so go over this code slowly. It may seem complex at first, but if you try to apply what you just learned about language modelling to the code you see, you should be able to understand it.\n",
        "\n",
        "This code is adapted from the <a href=\"https://github.com/tensorflow/models?utm_medium=Exinfluencer&utm_source=Exinfluencer&utm_content=000026UJ&utm_term=10006555&utm_id=NA-SkillsNetwork-Channel-SkillsNetworkCoursesIBMDeveloperSkillsNetworkDL0120ENSkillsNetwork20629446-2021-01-01\">PTBModel</a> example bundled with the TensorFlow source code.\n",
        "\n",
        "<h3>Training data</h3>\n",
        "The story starts from data:\n",
        "<ul>\n",
        "    <li>Train data is a list of words, of size 929589, represented by numbers, e.g. [9971, 9972, 9974, 9975,...]</li>\n",
        "    <li>We read data as mini-batch of size b=30. Assume the size of each sentence is 20 words (num_steps = 20). Then it will take $$floor(\\frac{N}{b \\times h})+1=1548$$ iterations for the learner to go through all sentences once. Where N is the size of the list of words, b is batch size, and h is size of each sentence. So, the number of iterators is 1548\n",
        "    </li>\n",
        "    <li>Each batch data is read from train dataset of size 600, and shape of [30x20]</li>\n",
        "</ul>\n"
      ]
    },
    {
      "cell_type": "code",
      "metadata": {
        "button": false,
        "deletable": true,
        "new_sheet": false,
        "run_control": {
          "read_only": false
        },
        "id": "awl7NymPxGEd"
      },
      "source": [
        "# Reads the data and separates it into training data, validation data and testing data\n",
        "raw_data = reader.ptb_raw_data(data_dir)\n",
        "train_data, valid_data, test_data, vocab, word_to_id = raw_data"
      ],
      "execution_count": null,
      "outputs": []
    },
    {
      "cell_type": "code",
      "metadata": {
        "colab": {
          "base_uri": "https://localhost:8080/"
        },
        "id": "MgXNDvlMxGEd",
        "outputId": "663abbb8-d7eb-4b13-e730-37942a422f3b"
      },
      "source": [
        "len(train_data)"
      ],
      "execution_count": null,
      "outputs": [
        {
          "output_type": "execute_result",
          "data": {
            "text/plain": [
              "929589"
            ]
          },
          "metadata": {},
          "execution_count": 8
        }
      ]
    },
    {
      "cell_type": "code",
      "metadata": {
        "tags": [],
        "colab": {
          "base_uri": "https://localhost:8080/"
        },
        "id": "funhEXbYxGEe",
        "outputId": "976ce25a-72f1-4331-c844-b64a2a0d2ed6"
      },
      "source": [
        "def id_to_word(id_list):\n",
        "    line = []\n",
        "    for w in id_list:\n",
        "        for word, wid in word_to_id.items():\n",
        "            if wid == w:\n",
        "                line.append(word)\n",
        "    return line            \n",
        "                \n",
        "\n",
        "print(id_to_word(train_data[0:100]))"
      ],
      "execution_count": null,
      "outputs": [
        {
          "output_type": "stream",
          "name": "stdout",
          "text": [
            "['aer', 'banknote', 'berlitz', 'calloway', 'centrust', 'cluett', 'fromstein', 'gitano', 'guterman', 'hydro-quebec', 'ipo', 'kia', 'memotec', 'mlx', 'nahb', 'punts', 'rake', 'regatta', 'rubens', 'sim', 'snack-food', 'ssangyong', 'swapo', 'wachter', '<eos>', 'pierre', '<unk>', 'N', 'years', 'old', 'will', 'join', 'the', 'board', 'as', 'a', 'nonexecutive', 'director', 'nov.', 'N', '<eos>', 'mr.', '<unk>', 'is', 'chairman', 'of', '<unk>', 'n.v.', 'the', 'dutch', 'publishing', 'group', '<eos>', 'rudolph', '<unk>', 'N', 'years', 'old', 'and', 'former', 'chairman', 'of', 'consolidated', 'gold', 'fields', 'plc', 'was', 'named', 'a', 'nonexecutive', 'director', 'of', 'this', 'british', 'industrial', 'conglomerate', '<eos>', 'a', 'form', 'of', 'asbestos', 'once', 'used', 'to', 'make', 'kent', 'cigarette', 'filters', 'has', 'caused', 'a', 'high', 'percentage', 'of', 'cancer', 'deaths', 'among', 'a', 'group', 'of']\n"
          ]
        }
      ]
    },
    {
      "cell_type": "markdown",
      "metadata": {
        "button": false,
        "deletable": true,
        "new_sheet": false,
        "run_control": {
          "read_only": false
        },
        "id": "3UfsbD6_xGEe"
      },
      "source": [
        "Lets just read one mini-batch now and feed our network:\n"
      ]
    },
    {
      "cell_type": "code",
      "metadata": {
        "button": false,
        "deletable": true,
        "new_sheet": false,
        "run_control": {
          "read_only": false
        },
        "id": "uJwwfxzMxGEe"
      },
      "source": [
        "itera = reader.ptb_iterator(train_data, batch_size, num_steps)\n",
        "first_touple = itera.__next__()\n",
        "_input_data = first_touple[0]\n",
        "_targets = first_touple[1]"
      ],
      "execution_count": null,
      "outputs": []
    },
    {
      "cell_type": "code",
      "metadata": {
        "button": false,
        "deletable": true,
        "new_sheet": false,
        "run_control": {
          "read_only": false
        },
        "colab": {
          "base_uri": "https://localhost:8080/"
        },
        "id": "XouJBt_zxGEe",
        "outputId": "27b88a96-004e-412a-fd70-45af159b093a"
      },
      "source": [
        "_input_data.shape"
      ],
      "execution_count": null,
      "outputs": [
        {
          "output_type": "execute_result",
          "data": {
            "text/plain": [
              "(30, 20)"
            ]
          },
          "metadata": {},
          "execution_count": 11
        }
      ]
    },
    {
      "cell_type": "code",
      "metadata": {
        "colab": {
          "base_uri": "https://localhost:8080/"
        },
        "id": "EYPmqTswxGEe",
        "outputId": "f30cd483-cb8c-4ee4-8dca-771b8d99bcc9"
      },
      "source": [
        "_targets.shape"
      ],
      "execution_count": null,
      "outputs": [
        {
          "output_type": "execute_result",
          "data": {
            "text/plain": [
              "(30, 20)"
            ]
          },
          "metadata": {},
          "execution_count": 12
        }
      ]
    },
    {
      "cell_type": "markdown",
      "metadata": {
        "button": false,
        "deletable": true,
        "new_sheet": false,
        "run_control": {
          "read_only": false
        },
        "id": "sW6byA1KxGEf"
      },
      "source": [
        "Lets look at 3 sentences of our input x:\n"
      ]
    },
    {
      "cell_type": "code",
      "metadata": {
        "button": false,
        "deletable": true,
        "new_sheet": false,
        "run_control": {
          "read_only": false
        },
        "colab": {
          "base_uri": "https://localhost:8080/"
        },
        "id": "aDiw3eHXxGEf",
        "outputId": "ab60ebb6-9fc0-4910-fdff-de55ee3e22ad"
      },
      "source": [
        "_input_data[0:3]"
      ],
      "execution_count": null,
      "outputs": [
        {
          "output_type": "execute_result",
          "data": {
            "text/plain": [
              "array([[9970, 9971, 9972, 9974, 9975, 9976, 9980, 9981, 9982, 9983, 9984,\n",
              "        9986, 9987, 9988, 9989, 9991, 9992, 9993, 9994, 9995],\n",
              "       [2654,    6,  334, 2886,    4,    1,  233,  711,  834,   11,  130,\n",
              "         123,    7,  514,    2,   63,   10,  514,    8,  605],\n",
              "       [   0, 1071,    4,    0,  185,   24,  368,   20,   31, 3109,  954,\n",
              "          12,    3,   21,    2, 2915,    2,   12,    3,   21]],\n",
              "      dtype=int32)"
            ]
          },
          "metadata": {},
          "execution_count": 13
        }
      ]
    },
    {
      "cell_type": "code",
      "metadata": {
        "colab": {
          "base_uri": "https://localhost:8080/"
        },
        "id": "TjBVawGOxGEf",
        "outputId": "e5ccf2ee-294e-49d0-ed69-6bad0cadafb6"
      },
      "source": [
        "print(id_to_word(_input_data[0,:]))"
      ],
      "execution_count": null,
      "outputs": [
        {
          "output_type": "stream",
          "name": "stdout",
          "text": [
            "['aer', 'banknote', 'berlitz', 'calloway', 'centrust', 'cluett', 'fromstein', 'gitano', 'guterman', 'hydro-quebec', 'ipo', 'kia', 'memotec', 'mlx', 'nahb', 'punts', 'rake', 'regatta', 'rubens', 'sim']\n"
          ]
        }
      ]
    },
    {
      "cell_type": "markdown",
      "metadata": {
        "button": false,
        "deletable": true,
        "new_sheet": false,
        "run_control": {
          "read_only": false
        },
        "id": "L8S9YxWdxGEf"
      },
      "source": [
        "<h3>Embeddings</h3>\n",
        "We have to convert the words in our dataset to vectors of numbers. The traditional approach is to use one-hot encoding method that is usually used for converting categorical values to numerical values. However, One-hot encoded vectors are high-dimensional, sparse and in a big dataset, computationally inefficient. So, we use word2vec approach. It is, in fact, a layer in our LSTM network, where the word IDs will be represented as a dense representation before feeding to the LSTM. \n",
        "\n",
        "The embedded vectors also get updated during the training process of the deep neural network.\n",
        "We create the embeddings for our input data. <b>embedding_vocab</b> is matrix of \\[10000x200] for all 10000 unique words.\n"
      ]
    },
    {
      "cell_type": "markdown",
      "metadata": {
        "button": false,
        "deletable": true,
        "new_sheet": false,
        "run_control": {
          "read_only": false
        },
        "id": "ys6U6eCQxGEf"
      },
      "source": [
        "<b>embedding_lookup()</b> finds the embedded values for our batch of 30x20 words. It  goes to each row of <code>input_data</code>, and for each word in the row/sentence, finds the correspond vector in <code>embedding_dic<code>. <br>\n",
        "It creates a \\[30x20x200] tensor, so, the first element of <b>inputs</b> (the first sentence), is a matrix of 20x200, which each row of it, is vector representing a word in the sentence.\n"
      ]
    },
    {
      "cell_type": "code",
      "metadata": {
        "id": "8-6ZkVeKxGEg"
      },
      "source": [
        "embedding_layer = tf.keras.layers.Embedding(vocab_size, embeding_vector_size,batch_input_shape=(batch_size, num_steps),trainable=True,name=\"embedding_vocab\")  "
      ],
      "execution_count": null,
      "outputs": []
    },
    {
      "cell_type": "code",
      "metadata": {
        "id": "J57In-_WxGEg",
        "colab": {
          "base_uri": "https://localhost:8080/"
        },
        "outputId": "efe05804-e497-4450-8e8e-29a7ac7386fa"
      },
      "source": [
        "# Define where to get the data for our embeddings from\n",
        "inputs = embedding_layer(_input_data)\n",
        "inputs"
      ],
      "execution_count": null,
      "outputs": [
        {
          "output_type": "execute_result",
          "data": {
            "text/plain": [
              "<tf.Tensor: shape=(30, 20, 200), dtype=float32, numpy=\n",
              "array([[[-0.00046706,  0.02272863, -0.02521496, ...,  0.00890428,\n",
              "         -0.02643898, -0.03968517],\n",
              "        [-0.04641823, -0.00877168, -0.03130116, ..., -0.01362468,\n",
              "         -0.00272244, -0.04470092],\n",
              "        [-0.01628532, -0.01818486, -0.00880682, ..., -0.04939311,\n",
              "         -0.04657555,  0.04473679],\n",
              "        ...,\n",
              "        [-0.00151675, -0.01898451,  0.00742234, ..., -0.01984173,\n",
              "          0.03812811,  0.0215174 ],\n",
              "        [-0.02835982, -0.04869995, -0.04426051, ..., -0.02841163,\n",
              "          0.04581619, -0.01385998],\n",
              "        [-0.01940347,  0.02429255,  0.00608004, ..., -0.02686544,\n",
              "          0.02980658, -0.00732993]],\n",
              "\n",
              "       [[ 0.03223426,  0.00983425, -0.04118235, ...,  0.03793139,\n",
              "          0.0495842 ,  0.04545124],\n",
              "        [-0.04381527,  0.0275437 ,  0.00476975, ...,  0.03843241,\n",
              "          0.00052876, -0.00664294],\n",
              "        [-0.00742117,  0.03736328, -0.03602352, ..., -0.00186496,\n",
              "          0.03192294,  0.0286932 ],\n",
              "        ...,\n",
              "        [-0.04014289,  0.04649526,  0.04892227, ..., -0.02053529,\n",
              "         -0.02081577,  0.00848286],\n",
              "        [ 0.03523833, -0.00647737,  0.04107641, ...,  0.02414191,\n",
              "          0.04821092,  0.0158557 ],\n",
              "        [-0.01560994,  0.02112044,  0.03118933, ..., -0.04470389,\n",
              "         -0.04535588, -0.02478572]],\n",
              "\n",
              "       [[ 0.02957202,  0.02774692,  0.00085102, ...,  0.02158663,\n",
              "         -0.04653195, -0.03648304],\n",
              "        [ 0.01883422,  0.00879353, -0.00850326, ..., -0.04323326,\n",
              "         -0.02029495, -0.03997989],\n",
              "        [ 0.01701856, -0.01501511,  0.0448838 , ...,  0.01525717,\n",
              "          0.00269209, -0.03791057],\n",
              "        ...,\n",
              "        [ 0.04681293,  0.04385747, -0.00876739, ..., -0.02586578,\n",
              "          0.01010596, -0.04138715],\n",
              "        [ 0.01615404, -0.04129244, -0.01013875, ..., -0.0499566 ,\n",
              "          0.0440591 ,  0.02705726],\n",
              "        [ 0.03006342, -0.00658568, -0.0353529 , ...,  0.02384552,\n",
              "          0.01079106,  0.01804862]],\n",
              "\n",
              "       ...,\n",
              "\n",
              "       [[ 0.03702762,  0.03168007, -0.03581119, ...,  0.04533528,\n",
              "          0.00715601,  0.02357167],\n",
              "        [-0.02755843,  0.03340979,  0.03850344, ...,  0.02992566,\n",
              "          0.01020993,  0.01166608],\n",
              "        [ 0.02750586,  0.01270855, -0.02852699, ..., -0.00771648,\n",
              "         -0.01140136,  0.02055944],\n",
              "        ...,\n",
              "        [-0.00119781,  0.04174948,  0.00365068, ...,  0.04255767,\n",
              "          0.03219404, -0.02514402],\n",
              "        [ 0.03322143, -0.01473461,  0.03343293, ..., -0.04058881,\n",
              "          0.04562297, -0.01842666],\n",
              "        [ 0.04799432,  0.00461666,  0.04171026, ..., -0.03401119,\n",
              "         -0.02377614,  0.04769028]],\n",
              "\n",
              "       [[ 0.02146523, -0.02028292, -0.02093006, ..., -0.02128862,\n",
              "          0.03426217, -0.01469222],\n",
              "        [-0.01984029, -0.04308569, -0.03971062, ..., -0.0269798 ,\n",
              "          0.01689751,  0.04481587],\n",
              "        [ 0.01701856, -0.01501511,  0.0448838 , ...,  0.01525717,\n",
              "          0.00269209, -0.03791057],\n",
              "        ...,\n",
              "        [-0.00255647,  0.04639265,  0.01996296, ...,  0.04908938,\n",
              "         -0.04698485,  0.02750075],\n",
              "        [-0.04381527,  0.0275437 ,  0.00476975, ...,  0.03843241,\n",
              "          0.00052876, -0.00664294],\n",
              "        [-0.00299984, -0.03227191, -0.00943464, ...,  0.04915473,\n",
              "         -0.0485367 ,  0.04047627]],\n",
              "\n",
              "       [[ 0.0053172 ,  0.0409264 ,  0.04300673, ..., -0.03523285,\n",
              "         -0.03463787,  0.01306735],\n",
              "        [-0.02290624,  0.00415602, -0.04223286, ...,  0.00783966,\n",
              "          0.04593361, -0.01100612],\n",
              "        [-0.04708317,  0.02320471,  0.04133223, ..., -0.00072589,\n",
              "          0.04806706, -0.00595039],\n",
              "        ...,\n",
              "        [-0.01142911,  0.01186259, -0.02184709, ...,  0.01405815,\n",
              "          0.02331111, -0.03168985],\n",
              "        [-0.01429176,  0.01867476, -0.01798862, ...,  0.03014291,\n",
              "          0.00033129,  0.04791531],\n",
              "        [ 0.02154863, -0.00321232,  0.01663408, ..., -0.00247478,\n",
              "         -0.01775162,  0.03316201]]], dtype=float32)>"
            ]
          },
          "metadata": {},
          "execution_count": 16
        }
      ]
    },
    {
      "cell_type": "markdown",
      "metadata": {
        "id": "xcKnSk5bxGEg"
      },
      "source": [
        "<h3>Constructing Recurrent Neural Networks</h3>\n"
      ]
    },
    {
      "cell_type": "markdown",
      "metadata": {
        "button": false,
        "deletable": true,
        "new_sheet": false,
        "run_control": {
          "read_only": false
        },
        "id": "4XTH1gaaxGEg"
      },
      "source": [
        "In this step, we create the stacked LSTM using <b>tf.keras.layers.StackedRNNCells</b>, which is a 2 layer LSTM network:\n"
      ]
    },
    {
      "cell_type": "code",
      "metadata": {
        "id": "tsSz_5xKxGEg"
      },
      "source": [
        "lstm_cell_l1 = tf.keras.layers.LSTMCell(hidden_size_l1)\n",
        "lstm_cell_l2 = tf.keras.layers.LSTMCell(hidden_size_l2)"
      ],
      "execution_count": null,
      "outputs": []
    },
    {
      "cell_type": "code",
      "metadata": {
        "button": false,
        "deletable": true,
        "new_sheet": false,
        "run_control": {
          "read_only": false
        },
        "id": "ngL7XarmxGEg"
      },
      "source": [
        "stacked_lstm = tf.keras.layers.StackedRNNCells([lstm_cell_l1, lstm_cell_l2])"
      ],
      "execution_count": null,
      "outputs": []
    },
    {
      "cell_type": "markdown",
      "metadata": {
        "id": "0zHA0BXYxGEg"
      },
      "source": [
        "<b>tf.keras.layers.RNN</b> creates a recurrent neural network using <b>stacked_lstm</b>.\n",
        "\n",
        "The input should be a Tensor of shape: \\[batch_size, max_time, embedding_vector_size], in our case it would be (30, 20, 200)\n"
      ]
    },
    {
      "cell_type": "code",
      "metadata": {
        "id": "Kk_-LpbxxGEh"
      },
      "source": [
        "layer  =  tf.keras.layers.RNN(stacked_lstm,[batch_size, num_steps],return_state=False,stateful=True,trainable=True)"
      ],
      "execution_count": null,
      "outputs": []
    },
    {
      "cell_type": "markdown",
      "metadata": {
        "button": false,
        "deletable": true,
        "new_sheet": false,
        "run_control": {
          "read_only": false
        },
        "id": "drHS-m_bxGEh"
      },
      "source": [
        "Also, we initialize the states of the nework:\n",
        "\n",
        "<h4>_initial_state</h4>\n",
        "\n",
        "For each LSTM, there are 2 state matrices, c_state and m_state.  c_state and m_state represent \"Memory State\" and \"Cell State\". Each hidden layer, has a vector of size 30, which keeps the states. so, for 200 hidden units in each LSTM, we have a matrix of size \\[30x200]\n"
      ]
    },
    {
      "cell_type": "code",
      "metadata": {
        "id": "oLS8M3BnxGEh"
      },
      "source": [
        "init_state = tf.Variable(tf.zeros([batch_size,embeding_vector_size]),trainable=False)"
      ],
      "execution_count": null,
      "outputs": []
    },
    {
      "cell_type": "code",
      "metadata": {
        "id": "VGEoKDY2xGEh"
      },
      "source": [
        "layer.inital_state = init_state"
      ],
      "execution_count": null,
      "outputs": []
    },
    {
      "cell_type": "code",
      "metadata": {
        "id": "PR5_nlBtxGEh",
        "colab": {
          "base_uri": "https://localhost:8080/"
        },
        "outputId": "da4efddb-7cfa-4c19-bff5-3b4658461d00"
      },
      "source": [
        "layer.inital_state"
      ],
      "execution_count": null,
      "outputs": [
        {
          "output_type": "execute_result",
          "data": {
            "text/plain": [
              "<tf.Variable 'Variable:0' shape=(30, 200) dtype=float32, numpy=\n",
              "array([[0., 0., 0., ..., 0., 0., 0.],\n",
              "       [0., 0., 0., ..., 0., 0., 0.],\n",
              "       [0., 0., 0., ..., 0., 0., 0.],\n",
              "       ...,\n",
              "       [0., 0., 0., ..., 0., 0., 0.],\n",
              "       [0., 0., 0., ..., 0., 0., 0.],\n",
              "       [0., 0., 0., ..., 0., 0., 0.]], dtype=float32)>"
            ]
          },
          "metadata": {},
          "execution_count": 23
        }
      ]
    },
    {
      "cell_type": "markdown",
      "metadata": {
        "id": "eZzAzWF9xGEh"
      },
      "source": [
        "so, lets look at the outputs. The output of the stackedLSTM comes from 128 hidden_layer, and in each time step(=20), one of them get activated. we use the linear activation to map the 128 hidden layer to a \\[30X20 matrix]\n"
      ]
    },
    {
      "cell_type": "code",
      "metadata": {
        "id": "WA0UyrbtxGEh"
      },
      "source": [
        "outputs = layer(inputs)"
      ],
      "execution_count": null,
      "outputs": []
    },
    {
      "cell_type": "code",
      "metadata": {
        "id": "2ZCCqehuxGEh",
        "colab": {
          "base_uri": "https://localhost:8080/"
        },
        "outputId": "e45b4caa-c54b-449d-c254-995f9e9d1150"
      },
      "source": [
        "outputs"
      ],
      "execution_count": null,
      "outputs": [
        {
          "output_type": "execute_result",
          "data": {
            "text/plain": [
              "<tf.Tensor: shape=(30, 20, 128), dtype=float32, numpy=\n",
              "array([[[ 7.6213368e-04, -1.9984329e-03,  5.7395024e-04, ...,\n",
              "         -4.7193017e-04,  4.1128811e-04, -1.5374528e-04],\n",
              "        [ 2.0997473e-03, -1.9692767e-03,  1.5993856e-03, ...,\n",
              "          2.8988128e-04,  2.7828128e-03, -3.8880020e-04],\n",
              "        [ 2.5845869e-03, -1.0369809e-03,  1.4836385e-03, ...,\n",
              "         -3.3400688e-04,  3.2141698e-03,  3.7440221e-04],\n",
              "        ...,\n",
              "        [ 3.9972067e-03,  2.9081691e-03, -1.3275200e-03, ...,\n",
              "         -1.8679190e-03, -7.4400887e-04, -1.9816653e-04],\n",
              "        [ 3.0324014e-03,  1.4283417e-03, -2.5839694e-03, ...,\n",
              "         -1.7540096e-03, -2.8173171e-04,  9.6719060e-04],\n",
              "        [ 2.6113694e-03,  1.5056897e-03, -3.4947556e-03, ...,\n",
              "         -3.3126850e-04,  9.8397897e-04,  2.5136212e-03]],\n",
              "\n",
              "       [[ 7.8240607e-04, -1.0059241e-03, -1.1472916e-04, ...,\n",
              "          1.5618450e-04,  2.2868041e-04,  1.6483120e-03],\n",
              "        [ 9.1957022e-04, -2.6182220e-03, -1.2814369e-03, ...,\n",
              "          7.3463627e-04,  8.2574144e-04,  2.9732194e-03],\n",
              "        [ 1.3720095e-03, -3.1734472e-03, -2.8316693e-03, ...,\n",
              "         -2.2468959e-04,  8.2984945e-04,  3.3309236e-03],\n",
              "        ...,\n",
              "        [-4.3247421e-03, -6.6430290e-04,  5.8562052e-03, ...,\n",
              "          5.2688447e-06, -2.3475459e-03,  3.0793431e-03],\n",
              "        [-3.8752239e-03,  6.2514271e-04,  5.7242280e-03, ...,\n",
              "          4.2101770e-04, -3.3004826e-03,  1.3755076e-03],\n",
              "        [-4.4564749e-03,  9.2837570e-04,  5.2132979e-03, ...,\n",
              "          1.3853735e-03, -4.0731216e-03, -4.8956322e-04]],\n",
              "\n",
              "       [[ 8.5124804e-04,  2.2774740e-04, -1.0280367e-03, ...,\n",
              "         -1.4723703e-03, -9.8230073e-04, -1.5607540e-04],\n",
              "        [ 8.1023993e-04, -1.2126759e-04, -9.6157868e-04, ...,\n",
              "         -3.5926781e-03, -3.2028582e-04, -5.0402457e-05],\n",
              "        [-8.9152752e-05, -8.5442240e-04, -2.3343940e-03, ...,\n",
              "         -4.7863806e-03,  8.9850259e-04,  7.3867961e-04],\n",
              "        ...,\n",
              "        [-4.3769213e-03,  2.1642824e-03, -2.4624118e-03, ...,\n",
              "         -9.7004301e-04, -3.9889072e-03, -2.1160203e-03],\n",
              "        [-5.6346930e-03,  2.9936605e-03, -2.8769290e-03, ...,\n",
              "         -8.1629975e-04, -3.8564838e-03, -2.3182398e-03],\n",
              "        [-5.7258746e-03,  3.3809680e-03, -2.6943376e-03, ...,\n",
              "         -7.2301674e-04, -3.6946069e-03, -2.9775742e-03]],\n",
              "\n",
              "       ...,\n",
              "\n",
              "       [[ 5.3108105e-04,  3.2368905e-04,  6.3514331e-04, ...,\n",
              "          7.2654150e-04, -3.4041732e-04,  1.8854169e-04],\n",
              "        [ 1.0330874e-03,  1.5678036e-03,  9.9448196e-04, ...,\n",
              "          1.1887555e-03, -1.1960346e-03,  4.6982284e-04],\n",
              "        [-4.9463782e-04,  1.9770765e-03,  1.3992538e-03, ...,\n",
              "          8.5044396e-04, -1.7556633e-03,  3.9770361e-04],\n",
              "        ...,\n",
              "        [-3.4451524e-03,  6.0331938e-03, -3.0410360e-03, ...,\n",
              "          5.1792106e-03, -1.0977049e-04, -4.1692783e-03],\n",
              "        [-3.2850928e-03,  5.9816856e-03, -3.2216131e-03, ...,\n",
              "          5.2751759e-03, -1.8304009e-03, -3.9920527e-03],\n",
              "        [-2.8231777e-03,  6.4818054e-03, -2.8724079e-03, ...,\n",
              "          4.6251565e-03, -1.9584843e-03, -2.2173419e-03]],\n",
              "\n",
              "       [[-5.5209018e-04, -8.4137876e-04,  3.7717968e-04, ...,\n",
              "         -7.0651702e-04,  4.7720713e-04,  4.5232533e-05],\n",
              "        [-3.5597329e-04, -1.7172162e-03,  8.5623347e-04, ...,\n",
              "         -1.6596068e-03,  9.8306825e-04, -7.4884761e-04],\n",
              "        [-1.0112751e-03, -2.7886818e-03, -3.8145043e-04, ...,\n",
              "         -2.6233725e-03,  1.8966137e-03, -3.4736560e-04],\n",
              "        ...,\n",
              "        [-3.8260389e-03, -1.4128983e-03, -1.0588537e-03, ...,\n",
              "          1.7701199e-03, -1.9700159e-03,  2.3385622e-03],\n",
              "        [-3.8508887e-03, -2.3830377e-03, -2.4961128e-03, ...,\n",
              "          2.8732258e-03, -1.5112167e-03,  1.9214962e-03],\n",
              "        [-3.3061344e-03, -1.7368093e-03, -2.9051178e-03, ...,\n",
              "          2.1401369e-03, -7.0750952e-04,  2.5855768e-03]],\n",
              "\n",
              "       [[-9.0686523e-04, -1.2363518e-04,  1.1700328e-03, ...,\n",
              "          1.6958753e-04, -5.4000883e-04, -8.3124649e-04],\n",
              "        [-1.7088279e-03, -9.4658369e-04,  1.9805385e-03, ...,\n",
              "          3.0989206e-04, -8.9888228e-04, -2.7244855e-03],\n",
              "        [-2.4690300e-03, -1.6592296e-03,  2.1190883e-03, ...,\n",
              "         -2.3377422e-04, -1.2781301e-03, -1.9636643e-03],\n",
              "        ...,\n",
              "        [ 8.1306550e-04,  6.4607761e-03,  2.3073216e-03, ...,\n",
              "         -3.6833966e-03,  1.2033774e-03,  4.8216460e-03],\n",
              "        [ 6.3618418e-04,  6.1616544e-03,  3.8990544e-03, ...,\n",
              "         -3.1515576e-03,  1.4930101e-03,  5.7836794e-03],\n",
              "        [ 2.5313720e-04,  6.5569235e-03,  4.8771859e-03, ...,\n",
              "         -2.2942421e-03,  3.7996273e-04,  5.2249711e-03]]], dtype=float32)>"
            ]
          },
          "metadata": {},
          "execution_count": 25
        }
      ]
    },
    {
      "cell_type": "markdown",
      "metadata": {
        "button": false,
        "deletable": true,
        "new_sheet": false,
        "run_control": {
          "read_only": false
        },
        "id": "ffK69k-UxGEi"
      },
      "source": [
        "<h2>Dense layer</h2>\n",
        "We now create densely-connected neural network layer that would reshape the outputs tensor from  [30 x 20 x 128] to [30 x 20 x 10000].\n"
      ]
    },
    {
      "cell_type": "code",
      "metadata": {
        "id": "-f1S0zo3xGEi"
      },
      "source": [
        "dense = tf.keras.layers.Dense(vocab_size)"
      ],
      "execution_count": null,
      "outputs": []
    },
    {
      "cell_type": "code",
      "metadata": {
        "id": "qJ1vso2zxGEi"
      },
      "source": [
        "logits_outputs  = dense(outputs)"
      ],
      "execution_count": null,
      "outputs": []
    },
    {
      "cell_type": "code",
      "metadata": {
        "id": "xSOE1Ln2xGEi",
        "colab": {
          "base_uri": "https://localhost:8080/"
        },
        "outputId": "2a8df18f-2211-40c3-db2b-f48e2372fe29"
      },
      "source": [
        "print(\"shape of the output from dense layer: \", logits_outputs.shape) #(batch_size, sequence_length, vocab_size)"
      ],
      "execution_count": null,
      "outputs": [
        {
          "output_type": "stream",
          "name": "stdout",
          "text": [
            "shape of the output from dense layer:  (30, 20, 10000)\n"
          ]
        }
      ]
    },
    {
      "cell_type": "markdown",
      "metadata": {
        "id": "-MxqI2j5xGEi"
      },
      "source": [
        "<h2>Activation layer</h2>\n",
        "\n",
        "A softmax activation layers is also then applied to derive the probability of the output being in any of the multiclass(10000 in this case) possibilities.\n"
      ]
    },
    {
      "cell_type": "code",
      "metadata": {
        "id": "gPZp8FfgxGEi"
      },
      "source": [
        "activation = tf.keras.layers.Activation('softmax')"
      ],
      "execution_count": null,
      "outputs": []
    },
    {
      "cell_type": "code",
      "metadata": {
        "id": "fFRmtaCExGEi"
      },
      "source": [
        "output_words_prob = activation(logits_outputs)"
      ],
      "execution_count": null,
      "outputs": []
    },
    {
      "cell_type": "code",
      "metadata": {
        "id": "eoLyhcIkxGEi",
        "colab": {
          "base_uri": "https://localhost:8080/"
        },
        "outputId": "37c67611-a405-495c-d263-628d7105c36b"
      },
      "source": [
        "print(\"shape of the output from the activation layer: \", output_words_prob.shape) #(batch_size, sequence_length, vocab_size)"
      ],
      "execution_count": null,
      "outputs": [
        {
          "output_type": "stream",
          "name": "stdout",
          "text": [
            "shape of the output from the activation layer:  (30, 20, 10000)\n"
          ]
        }
      ]
    },
    {
      "cell_type": "markdown",
      "metadata": {
        "id": "_KKufo3kxGEi"
      },
      "source": [
        "Lets look at the probability of observing words for t=0 to t=20:\n"
      ]
    },
    {
      "cell_type": "code",
      "metadata": {
        "id": "r39EWMTwxGEj",
        "colab": {
          "base_uri": "https://localhost:8080/"
        },
        "outputId": "56ac0dfe-4c24-4c08-a8d3-515fad634d7f"
      },
      "source": [
        "print(\"The probability of observing words in t=0 to t=20\", output_words_prob[0,0:num_steps])"
      ],
      "execution_count": null,
      "outputs": [
        {
          "output_type": "stream",
          "name": "stdout",
          "text": [
            "The probability of observing words in t=0 to t=20 tf.Tensor(\n",
            "[[1.00006204e-04 9.99921322e-05 9.99923577e-05 ... 1.00021927e-04\n",
            "  1.00008569e-04 1.00002857e-04]\n",
            " [9.99936601e-05 1.00005855e-04 9.99936383e-05 ... 1.00028177e-04\n",
            "  1.00022917e-04 9.99921103e-05]\n",
            " [9.99952972e-05 1.00000085e-04 9.99909753e-05 ... 1.00048761e-04\n",
            "  1.00012869e-04 9.99976255e-05]\n",
            " ...\n",
            " [1.00046651e-04 1.00057907e-04 9.98513860e-05 ... 9.99379990e-05\n",
            "  9.98425094e-05 1.00019381e-04]\n",
            " [1.00051810e-04 1.00065692e-04 9.98664109e-05 ... 9.99362892e-05\n",
            "  9.98706601e-05 1.00016980e-04]\n",
            " [1.00041732e-04 1.00073499e-04 9.98851319e-05 ... 9.99439071e-05\n",
            "  9.98900214e-05 1.00005440e-04]], shape=(20, 10000), dtype=float32)\n"
          ]
        }
      ]
    },
    {
      "cell_type": "markdown",
      "metadata": {
        "button": false,
        "deletable": true,
        "new_sheet": false,
        "run_control": {
          "read_only": false
        },
        "id": "y22OOLBPxGEj"
      },
      "source": [
        "<h3>Prediction</h3>\n",
        "What is the word correspond to the probability output? Lets use the maximum probability:\n"
      ]
    },
    {
      "cell_type": "code",
      "metadata": {
        "id": "J2SmDT8WxGEj",
        "colab": {
          "base_uri": "https://localhost:8080/"
        },
        "outputId": "bf2177b6-9af1-41bd-dcc7-a8e88819652f"
      },
      "source": [
        "np.argmax(output_words_prob[0,0:num_steps], axis=1)"
      ],
      "execution_count": null,
      "outputs": [
        {
          "output_type": "execute_result",
          "data": {
            "text/plain": [
              "array([3017, 2162,  700,  700,  700, 5202, 5058, 5058, 5058, 2618, 2618,\n",
              "       6296, 3337, 3337, 3337, 3193, 2750, 2750, 7387, 7387])"
            ]
          },
          "metadata": {},
          "execution_count": 33
        }
      ]
    },
    {
      "cell_type": "markdown",
      "metadata": {
        "button": false,
        "deletable": true,
        "new_sheet": false,
        "run_control": {
          "read_only": false
        },
        "id": "3bfGI2llxGEj"
      },
      "source": [
        "So, what is the ground truth for the first word of first sentence? You can get it from target tensor, if you want to find the embedding vector:\n"
      ]
    },
    {
      "cell_type": "code",
      "metadata": {
        "button": false,
        "deletable": true,
        "new_sheet": false,
        "run_control": {
          "read_only": false
        },
        "id": "NCobdPHhxGEj",
        "colab": {
          "base_uri": "https://localhost:8080/"
        },
        "outputId": "53ec365a-0872-42fb-e6f6-96883eee1356"
      },
      "source": [
        "_targets[0]"
      ],
      "execution_count": null,
      "outputs": [
        {
          "output_type": "execute_result",
          "data": {
            "text/plain": [
              "array([9971, 9972, 9974, 9975, 9976, 9980, 9981, 9982, 9983, 9984, 9986,\n",
              "       9987, 9988, 9989, 9991, 9992, 9993, 9994, 9995, 9996], dtype=int32)"
            ]
          },
          "metadata": {},
          "execution_count": 34
        }
      ]
    },
    {
      "cell_type": "markdown",
      "metadata": {
        "button": false,
        "new_sheet": false,
        "run_control": {
          "read_only": false
        },
        "id": "bJTTKE8HxGEj"
      },
      "source": [
        "<h4>Objective function</h4>\n",
        "\n",
        "How similar the predicted words are to the target words?\n",
        "\n",
        "Now we have to define our objective function, to calculate the similarity of predicted values to ground truth, and then, penalize the model with the error. Our objective is to minimize loss function, that is, to minimize the average negative log probability of the target words:\n",
        "\n",
        "$$\\text{loss} = -\\frac{1}{N}\\sum\\_{i=1}^{N} \\ln p\\_{\\text{target}\\_i}$$\n",
        "\n",
        "This function is already implemented and available in TensorFlow through *tf.keras.losses.sparse_categorical_crossentropy*. It calculates the categorical cross-entropy loss for <b>logits</b> and the <b>target</b> sequence.\n",
        "\n",
        "The arguments of this function are:\n",
        "\n",
        "<ul>\n",
        "    <li>logits: List of 2D Tensors of shape [batch_size x num_decoder_symbols].</li>  \n",
        "    <li>targets: List of 1D batch-sized int32 Tensors of the same length as logits.</li>   \n",
        "</ul>\n"
      ]
    },
    {
      "cell_type": "code",
      "metadata": {
        "id": "mbf-_ATzxGEj"
      },
      "source": [
        "def crossentropy(y_true, y_pred):\n",
        "    return tf.keras.losses.sparse_categorical_crossentropy(y_true, y_pred)"
      ],
      "execution_count": null,
      "outputs": []
    },
    {
      "cell_type": "code",
      "metadata": {
        "id": "lqMq8rAixGEk"
      },
      "source": [
        "loss  = crossentropy(_targets, output_words_prob)"
      ],
      "execution_count": null,
      "outputs": []
    },
    {
      "cell_type": "markdown",
      "metadata": {
        "button": false,
        "new_sheet": false,
        "run_control": {
          "read_only": false
        },
        "id": "ZDF2oyUIxGEk"
      },
      "source": [
        "Lets look at the first 10 values of loss:\n"
      ]
    },
    {
      "cell_type": "code",
      "metadata": {
        "id": "x2-ox9cMxGEk",
        "colab": {
          "base_uri": "https://localhost:8080/"
        },
        "outputId": "10d61e00-1749-4227-a15f-5c138b6be096"
      },
      "source": [
        "loss[0,:10]"
      ],
      "execution_count": null,
      "outputs": [
        {
          "output_type": "execute_result",
          "data": {
            "text/plain": [
              "<tf.Tensor: shape=(10,), dtype=float32, numpy=\n",
              "array([9.210396, 9.210463, 9.210304, 9.210358, 9.210124, 9.209462,\n",
              "       9.209513, 9.211476, 9.210777, 9.210589], dtype=float32)>"
            ]
          },
          "metadata": {},
          "execution_count": 37
        }
      ]
    },
    {
      "cell_type": "markdown",
      "metadata": {
        "id": "xTycaAfGxGEk"
      },
      "source": [
        "Now, we define cost as average of the losses:\n"
      ]
    },
    {
      "cell_type": "code",
      "metadata": {
        "id": "0bltUHT_xGEk",
        "colab": {
          "base_uri": "https://localhost:8080/"
        },
        "outputId": "9eeeccd1-6a5b-424a-cf70-04f26c65a2fe"
      },
      "source": [
        "cost = tf.reduce_sum(loss / batch_size)\n",
        "cost"
      ],
      "execution_count": null,
      "outputs": [
        {
          "output_type": "execute_result",
          "data": {
            "text/plain": [
              "<tf.Tensor: shape=(), dtype=float32, numpy=184.20667>"
            ]
          },
          "metadata": {},
          "execution_count": 38
        }
      ]
    },
    {
      "cell_type": "markdown",
      "metadata": {
        "button": false,
        "deletable": true,
        "new_sheet": false,
        "run_control": {
          "read_only": false
        },
        "id": "hNEgdVGDxGEk"
      },
      "source": [
        "<h3>Training</h3>\n",
        "\n",
        "To do training for our network, we have to take the following steps:\n",
        "\n",
        "<ol>\n",
        "    <li>Define the optimizer.</li>\n",
        "    <li>Assemble layers to build model.</li>\n",
        "    <li>Calculate the gradients based on the loss function.</li>\n",
        "    <li>Apply the optimizer to the variables/gradients tuple.</li>\n",
        "</ol>\n"
      ]
    },
    {
      "cell_type": "markdown",
      "metadata": {
        "button": false,
        "deletable": true,
        "new_sheet": false,
        "run_control": {
          "read_only": false
        },
        "id": "UL1CjOSNxGEk"
      },
      "source": [
        "<h4>1. Define Optimizer</h4>\n"
      ]
    },
    {
      "cell_type": "code",
      "metadata": {
        "id": "ym1_G1uuxGEk"
      },
      "source": [
        "# Create a variable for the learning rate\n",
        "lr = tf.Variable(0.0, trainable=False)\n",
        "optimizer = tf.keras.optimizers.SGD(lr=lr, clipnorm=max_grad_norm)"
      ],
      "execution_count": null,
      "outputs": []
    },
    {
      "cell_type": "markdown",
      "metadata": {
        "id": "Hw_Gf8aLxGEk"
      },
      "source": [
        "<h4>2. Assemble layers to build model.</h4>\n"
      ]
    },
    {
      "cell_type": "code",
      "metadata": {
        "id": "SFRGJhxDxGEl",
        "colab": {
          "base_uri": "https://localhost:8080/"
        },
        "outputId": "1d2d82d2-88d9-418a-8615-062236cc56a5"
      },
      "source": [
        "model = tf.keras.Sequential()\n",
        "model.add(embedding_layer)\n",
        "model.add(layer)\n",
        "model.add(dense)\n",
        "model.add(activation)\n",
        "model.compile(loss=crossentropy, optimizer=optimizer)\n",
        "model.summary()"
      ],
      "execution_count": null,
      "outputs": [
        {
          "output_type": "stream",
          "name": "stdout",
          "text": [
            "Model: \"sequential\"\n",
            "_________________________________________________________________\n",
            "Layer (type)                 Output Shape              Param #   \n",
            "=================================================================\n",
            "embedding_vocab (Embedding)  (30, 20, 200)             2000000   \n",
            "_________________________________________________________________\n",
            "rnn (RNN)                    (30, 20, 128)             671088    \n",
            "_________________________________________________________________\n",
            "dense (Dense)                (30, 20, 10000)           1290000   \n",
            "_________________________________________________________________\n",
            "activation (Activation)      (30, 20, 10000)           0         \n",
            "=================================================================\n",
            "Total params: 3,961,088\n",
            "Trainable params: 3,955,088\n",
            "Non-trainable params: 6,000\n",
            "_________________________________________________________________\n"
          ]
        }
      ]
    },
    {
      "cell_type": "markdown",
      "metadata": {
        "button": false,
        "new_sheet": false,
        "run_control": {
          "read_only": false
        },
        "id": "BIyUrscZxGEl"
      },
      "source": [
        "<h4>2. Trainable Variables</h4>\n"
      ]
    },
    {
      "cell_type": "markdown",
      "metadata": {
        "button": false,
        "new_sheet": false,
        "run_control": {
          "read_only": false
        },
        "id": "EmW6rcwsxGEl"
      },
      "source": [
        "Defining a variable, if you passed <i>trainable=True</i>, the variable constructor automatically adds new variables to the graph collection <b>GraphKeys.TRAINABLE_VARIABLES</b>. Now, using <i>tf.trainable_variables()</i> you can get all variables created with <b>trainable=True</b>.\n"
      ]
    },
    {
      "cell_type": "code",
      "metadata": {
        "button": false,
        "new_sheet": false,
        "run_control": {
          "read_only": false
        },
        "id": "I7_cEdtoxGEl"
      },
      "source": [
        "# Get all TensorFlow variables marked as \"trainable\" (i.e. all of them except _lr, which we just created)\n",
        "tvars = model.trainable_variables"
      ],
      "execution_count": null,
      "outputs": []
    },
    {
      "cell_type": "markdown",
      "metadata": {
        "button": false,
        "new_sheet": false,
        "run_control": {
          "read_only": false
        },
        "id": "diTQHiPCxGEl"
      },
      "source": [
        "Note: we can find the name and scope of all variables:\n"
      ]
    },
    {
      "cell_type": "code",
      "metadata": {
        "button": false,
        "new_sheet": false,
        "run_control": {
          "read_only": false
        },
        "id": "pxHSJJP5xGEl",
        "colab": {
          "base_uri": "https://localhost:8080/"
        },
        "outputId": "7fa7f0ab-4763-46a3-81c1-63fc7fcbb461"
      },
      "source": [
        "[v.name for v in tvars] "
      ],
      "execution_count": null,
      "outputs": [
        {
          "output_type": "execute_result",
          "data": {
            "text/plain": [
              "['embedding_vocab/embeddings:0',\n",
              " 'rnn/stacked_rnn_cells/lstm_cell_2/kernel:0',\n",
              " 'rnn/stacked_rnn_cells/lstm_cell_2/recurrent_kernel:0',\n",
              " 'rnn/stacked_rnn_cells/lstm_cell_2/bias:0',\n",
              " 'rnn/stacked_rnn_cells/lstm_cell_3/kernel:0',\n",
              " 'rnn/stacked_rnn_cells/lstm_cell_3/recurrent_kernel:0',\n",
              " 'rnn/stacked_rnn_cells/lstm_cell_3/bias:0',\n",
              " 'dense/kernel:0',\n",
              " 'dense/bias:0']"
            ]
          },
          "metadata": {},
          "execution_count": 42
        }
      ]
    },
    {
      "cell_type": "markdown",
      "metadata": {
        "button": false,
        "new_sheet": false,
        "run_control": {
          "read_only": false
        },
        "id": "2zFmnrl4xGEl"
      },
      "source": [
        "<h4>3. Calculate the gradients based on the loss function</h4>\n"
      ]
    },
    {
      "cell_type": "markdown",
      "metadata": {
        "button": false,
        "deletable": true,
        "new_sheet": false,
        "run_control": {
          "read_only": false
        },
        "id": "sbYs-ywdxGEl"
      },
      "source": [
        "**Gradient**: The gradient of a function is the slope of its derivative (line), or in other words, the rate of change of a function. It's a vector (a direction to move) that points in the direction of greatest increase of the function, and calculated by the <b>derivative</b> operation.\n"
      ]
    },
    {
      "cell_type": "markdown",
      "metadata": {
        "id": "mkEF-rRnxGEl"
      },
      "source": [
        "First lets recall the gradient function using an toy example:\n",
        "$$ z = \\left(2x^2 + 3xy\\right)$$\n"
      ]
    },
    {
      "cell_type": "code",
      "metadata": {
        "id": "ky5-tI4UxGEm"
      },
      "source": [
        "x = tf.constant(1.0)\n",
        "y =  tf.constant(2.0)\n",
        "with tf.GradientTape(persistent=True) as g:\n",
        "    g.watch(x)\n",
        "    g.watch(y)\n",
        "    func_test = 2 * x * x + 3 * x * y"
      ],
      "execution_count": null,
      "outputs": []
    },
    {
      "cell_type": "markdown",
      "metadata": {
        "id": "m58w6B7cxGEm"
      },
      "source": [
        "The <b>tf.gradients()</b> function allows you to compute the symbolic gradient of one tensor with respect to one or more other tensors—including variables. <b>tf.gradients(func, xs)</b> constructs symbolic partial derivatives of sum of <b>func</b> w\\.r.t. <i>x</i> in <b>xs</b>.\n",
        "\n",
        "Now, lets look at the derivitive w\\.r.t. <b>var_x</b>:\n",
        "$$ \\frac{\\partial :}{\\partial \\:x}\\left(2x^2 + 3xy\\right) = 4x + 3y $$\n"
      ]
    },
    {
      "cell_type": "code",
      "metadata": {
        "id": "oKDLs9vzxGEm",
        "colab": {
          "base_uri": "https://localhost:8080/"
        },
        "outputId": "df7afb5f-eab4-49e4-82bb-26becbe061e2"
      },
      "source": [
        "var_grad = g.gradient(func_test, x) # Will compute to 10.0\n",
        "print(var_grad)"
      ],
      "execution_count": null,
      "outputs": [
        {
          "output_type": "stream",
          "name": "stdout",
          "text": [
            "tf.Tensor(10.0, shape=(), dtype=float32)\n"
          ]
        }
      ]
    },
    {
      "cell_type": "markdown",
      "metadata": {
        "id": "zeKi7QnpxGEm"
      },
      "source": [
        "the derivative w\\.r.t. <b>var_y</b>:\n",
        "$$ \\frac{\\partial :}{\\partial \\:y}\\left(2x^2 + 3xy\\right) = 3x $$\n"
      ]
    },
    {
      "cell_type": "code",
      "metadata": {
        "id": "ZYtn2BrHxGEm",
        "colab": {
          "base_uri": "https://localhost:8080/"
        },
        "outputId": "96a7a622-df33-49b7-8da9-18339dee623b"
      },
      "source": [
        "var_grad = g.gradient(func_test, y) # Will compute to 3.0\n",
        "print(var_grad)"
      ],
      "execution_count": null,
      "outputs": [
        {
          "output_type": "stream",
          "name": "stdout",
          "text": [
            "tf.Tensor(3.0, shape=(), dtype=float32)\n"
          ]
        }
      ]
    },
    {
      "cell_type": "markdown",
      "metadata": {
        "id": "Qq0yQPjqxGEm"
      },
      "source": [
        "Now, we can look at gradients w\\.r.t all variables:\n"
      ]
    },
    {
      "cell_type": "code",
      "metadata": {
        "id": "wSBtXXJqxGEm"
      },
      "source": [
        "with tf.GradientTape() as tape:\n",
        "    # Forward pass.\n",
        "    output_words_prob = model(_input_data)\n",
        "    # Loss value for this batch.\n",
        "    loss  = crossentropy(_targets, output_words_prob)\n",
        "    cost = tf.reduce_sum(loss,axis=0) / batch_size"
      ],
      "execution_count": null,
      "outputs": []
    },
    {
      "cell_type": "code",
      "metadata": {
        "id": "u6MAfbvfxGEm"
      },
      "source": [
        "# Get gradients of loss wrt the trainable variables.\n",
        "grad_t_list = tape.gradient(cost, tvars)"
      ],
      "execution_count": null,
      "outputs": []
    },
    {
      "cell_type": "code",
      "metadata": {
        "id": "3xA3Lc19xGEn",
        "colab": {
          "base_uri": "https://localhost:8080/"
        },
        "outputId": "be4cecb7-9996-4539-d3d2-2e16b2d4451e"
      },
      "source": [
        "print(grad_t_list)"
      ],
      "execution_count": null,
      "outputs": [
        {
          "output_type": "stream",
          "name": "stdout",
          "text": [
            "[<tensorflow.python.framework.indexed_slices.IndexedSlices object at 0x7f4dbaa75710>, <tf.Tensor: shape=(200, 1024), dtype=float32, numpy=\n",
            "array([[ 7.4289517e-07, -2.0088837e-07, -4.6134085e-07, ...,\n",
            "        -1.0456212e-07, -2.2139234e-07,  1.4676370e-07],\n",
            "       [-2.7551181e-08,  3.2958724e-08,  3.0830125e-07, ...,\n",
            "        -6.6630531e-07,  4.0860323e-07,  6.3690393e-08],\n",
            "       [ 1.6920885e-07, -2.5341078e-07,  8.4070734e-07, ...,\n",
            "        -1.1181729e-07,  6.6467658e-07, -1.6267856e-07],\n",
            "       ...,\n",
            "       [-3.9889576e-07, -3.8396729e-07,  5.6677396e-07, ...,\n",
            "         1.3618296e-07,  3.1801099e-07,  5.5424476e-07],\n",
            "       [-1.5671455e-07,  6.4307113e-07,  2.4045997e-07, ...,\n",
            "         1.1855874e-07,  4.5605739e-07, -2.1213532e-07],\n",
            "       [-2.3302312e-07,  3.3087659e-07, -1.0823144e-06, ...,\n",
            "        -3.8617549e-07,  4.5561069e-07,  6.3797989e-07]], dtype=float32)>, <tf.Tensor: shape=(256, 1024), dtype=float32, numpy=\n",
            "array([[-6.2250933e-08, -3.4872551e-07, -2.0117317e-07, ...,\n",
            "        -2.5073103e-07,  1.9622090e-07,  7.6770398e-08],\n",
            "       [ 2.0489799e-07, -3.4700986e-07, -1.9671464e-09, ...,\n",
            "         1.7355225e-07, -6.3846272e-08, -7.8578452e-08],\n",
            "       [-5.7427680e-09,  6.1296667e-08, -1.6668437e-07, ...,\n",
            "         2.9726857e-08, -6.7212174e-09,  6.5651719e-08],\n",
            "       ...,\n",
            "       [-9.6069314e-08, -7.7673626e-08, -2.5157526e-08, ...,\n",
            "         2.3680546e-08,  6.6086898e-08,  1.9366595e-08],\n",
            "       [ 3.0737933e-08, -7.9551050e-09, -2.4877789e-09, ...,\n",
            "         1.6378166e-07, -5.4020819e-07,  1.0887135e-08],\n",
            "       [-3.8347061e-08,  1.0806194e-07,  2.7866447e-08, ...,\n",
            "         1.2219101e-07, -1.1034960e-07,  9.2177594e-08]], dtype=float32)>, <tf.Tensor: shape=(1024,), dtype=float32, numpy=\n",
            "array([ 5.4236916e-06,  2.8430512e-05, -1.1399690e-05, ...,\n",
            "       -2.0558162e-05,  2.8900355e-05,  1.9784395e-05], dtype=float32)>, <tf.Tensor: shape=(256, 512), dtype=float32, numpy=\n",
            "array([[ 8.81409363e-08, -7.08524439e-09,  2.83639309e-07, ...,\n",
            "         1.73685706e-08, -9.91850158e-09, -5.48831096e-08],\n",
            "       [-1.49644379e-07, -8.76182114e-08, -1.59720486e-07, ...,\n",
            "         1.85227080e-07,  5.69950913e-08, -8.27076363e-08],\n",
            "       [ 1.13359413e-07, -3.47877140e-08,  3.34696963e-08, ...,\n",
            "         1.74708248e-07, -1.96933271e-07,  5.73269645e-08],\n",
            "       ...,\n",
            "       [-2.24476395e-07,  1.00385691e-07, -8.15787757e-08, ...,\n",
            "         1.09038211e-07,  1.16257965e-07, -2.69411345e-07],\n",
            "       [-7.14739130e-08, -1.07945695e-07, -2.18994529e-07, ...,\n",
            "        -1.28104901e-07, -9.57051753e-08, -5.43244845e-08],\n",
            "       [-6.76731418e-08,  7.54056515e-08, -5.78507944e-08, ...,\n",
            "         2.23304575e-08,  1.07646798e-08, -1.55064100e-07]], dtype=float32)>, <tf.Tensor: shape=(128, 512), dtype=float32, numpy=\n",
            "array([[-2.0073723e-07, -3.4945398e-08,  2.3762064e-08, ...,\n",
            "        -7.0841587e-08,  9.3229353e-08, -6.9936625e-08],\n",
            "       [-1.4507432e-07,  4.6180080e-08, -4.7316643e-08, ...,\n",
            "         8.8686896e-08, -4.0550852e-08, -9.6064795e-08],\n",
            "       [ 4.0313250e-08,  4.3897245e-08,  2.8869005e-07, ...,\n",
            "        -1.4445584e-07, -4.2838714e-08,  3.0894480e-08],\n",
            "       ...,\n",
            "       [ 1.5539332e-08, -7.2524657e-08,  5.2518764e-08, ...,\n",
            "         9.5395379e-08,  1.7693941e-07, -1.7592387e-07],\n",
            "       [ 1.9558236e-08,  2.1952005e-09,  7.1361157e-08, ...,\n",
            "         3.9979220e-08,  1.1726174e-07, -4.6629818e-08],\n",
            "       [ 1.5993160e-07,  2.8813728e-08,  3.7115260e-08, ...,\n",
            "         2.7292849e-08,  1.2590782e-09,  1.6035303e-07]], dtype=float32)>, <tf.Tensor: shape=(512,), dtype=float32, numpy=\n",
            "array([ 2.74255744e-05,  2.56348067e-05, -6.41610313e-06,  8.61624903e-06,\n",
            "       -3.37182792e-06, -5.01906834e-05, -3.69537593e-05,  4.75528250e-05,\n",
            "       -2.37286622e-05, -1.73221306e-05,  6.30003051e-05, -1.26259392e-05,\n",
            "       -2.43804898e-05,  8.65162656e-06, -5.71845067e-06,  2.44284383e-05,\n",
            "       -4.05151513e-05, -2.48336855e-05,  1.06971580e-04, -4.08431006e-05,\n",
            "       -1.25323686e-06, -2.27095534e-05,  3.57764839e-06, -1.43307398e-05,\n",
            "       -8.27170516e-06,  5.99710147e-05, -2.14481624e-05, -2.88929805e-05,\n",
            "       -3.12309821e-05,  1.19834540e-05,  3.23649328e-05, -5.20446374e-05,\n",
            "       -1.08051108e-06, -3.02243757e-06,  4.47725615e-05,  1.00577536e-05,\n",
            "       -3.68935434e-06,  1.70693929e-05,  8.52087760e-05, -1.87981186e-07,\n",
            "       -1.71877400e-06, -1.17639165e-05, -1.21736757e-05, -5.17807202e-05,\n",
            "        2.58408400e-05, -2.69194788e-06,  1.80172919e-05, -2.57449892e-06,\n",
            "       -3.85735621e-05, -4.56586022e-05, -4.90994862e-05,  1.31170935e-04,\n",
            "       -2.75240382e-06,  2.33525498e-06, -1.02399863e-05, -4.52903550e-05,\n",
            "        3.79177291e-05,  1.60866275e-05,  2.22115468e-05,  2.62511230e-06,\n",
            "        2.96898361e-05,  4.17738556e-05,  7.10370077e-05, -5.87097165e-05,\n",
            "       -2.57681841e-05, -6.65142361e-05,  3.05240901e-05, -1.86023462e-05,\n",
            "        1.74195011e-05,  8.62667875e-05,  7.57423186e-06,  2.54881288e-05,\n",
            "        6.79063305e-07, -8.40420471e-05,  6.06980393e-06, -8.12940016e-07,\n",
            "        3.47258065e-05,  4.48253522e-05,  5.14655621e-05, -3.45184208e-06,\n",
            "       -2.90221897e-06, -2.10077314e-06,  6.75003903e-05,  2.82429737e-05,\n",
            "        8.10763777e-06, -6.89307853e-06, -2.30381647e-05,  1.55333219e-05,\n",
            "        3.37082092e-05, -2.08363945e-05, -4.79617447e-05,  1.98428461e-06,\n",
            "       -1.64219582e-05,  5.49292381e-05, -1.07275537e-06,  3.16931000e-05,\n",
            "       -5.56853365e-06, -2.43885152e-05, -3.70338603e-05, -3.02670123e-05,\n",
            "       -2.50205412e-05,  1.19695978e-05, -1.04322135e-04, -3.63927866e-05,\n",
            "       -3.96845462e-06,  2.14660467e-05,  4.33635614e-06,  1.62823890e-05,\n",
            "        4.64581353e-05,  3.05695357e-05,  2.67936903e-05, -1.16201445e-05,\n",
            "       -1.28729152e-05,  3.92777147e-05, -1.83349912e-05,  4.36344490e-05,\n",
            "       -1.58616858e-05, -3.44788532e-05, -3.10229443e-05, -1.01082114e-05,\n",
            "       -3.89609268e-05, -4.85189412e-06,  2.38589255e-05, -2.92628611e-05,\n",
            "       -3.42091953e-05, -4.57244096e-06, -2.21435112e-05,  1.20999093e-05,\n",
            "        3.15671205e-05,  1.17370400e-05, -3.67149114e-05,  1.69935993e-05,\n",
            "       -1.38916130e-06, -7.09753804e-05, -2.19723024e-05,  4.47463681e-05,\n",
            "       -8.07775141e-05, -2.29850666e-05,  7.13620684e-05, -2.09978843e-05,\n",
            "       -1.49372217e-05,  3.20543186e-05, -2.86824852e-05,  4.99569942e-05,\n",
            "       -6.24500826e-05, -1.94519398e-05,  1.49651751e-04, -7.03064361e-05,\n",
            "        8.14645318e-06, -2.08611091e-05, -5.82140819e-06, -2.49617624e-05,\n",
            "       -1.34872580e-05,  9.47924491e-05, -4.88828809e-05, -3.13143973e-05,\n",
            "       -1.09761841e-05,  2.03274285e-05,  3.27567614e-05, -6.99639786e-05,\n",
            "        1.32215628e-05,  1.86114703e-05,  5.45647708e-05, -1.91110285e-05,\n",
            "       -4.78278525e-06,  2.24093419e-05,  1.25569873e-04, -4.63567176e-06,\n",
            "       -2.49849600e-05, -1.71153060e-05,  2.38750545e-05, -5.33641360e-05,\n",
            "        1.95088542e-05, -1.88857302e-06,  1.61261196e-05, -4.56956786e-06,\n",
            "       -3.23099375e-05, -5.22627088e-05, -4.33306413e-05,  1.95778659e-04,\n",
            "        1.02782178e-06, -1.23041791e-05, -7.51067410e-06, -4.55553854e-05,\n",
            "        1.01639547e-04,  4.51694032e-05,  3.53918731e-05,  1.77849743e-05,\n",
            "        4.75882553e-05,  2.31995164e-05,  1.04056278e-04, -5.55989245e-05,\n",
            "       -3.20246618e-05, -7.58357564e-05,  4.02536753e-05, -6.43347666e-05,\n",
            "        2.95307609e-06,  1.14346651e-04,  2.55987943e-05,  3.63011095e-05,\n",
            "       -2.82769524e-05, -1.24950544e-04, -2.73546684e-05, -4.84364455e-06,\n",
            "        2.77985237e-05,  6.79375953e-05,  8.51257864e-05,  1.07921214e-05,\n",
            "        2.55365376e-05,  9.94807760e-06,  8.90689771e-05,  4.05887149e-05,\n",
            "        4.16721414e-05,  1.16746851e-05, -3.56875171e-05,  2.91847027e-05,\n",
            "        2.68629083e-05, -1.16959836e-05, -6.38294150e-05, -5.76381854e-06,\n",
            "       -2.50402354e-05,  6.45961190e-05, -1.63001587e-05,  3.98804186e-05,\n",
            "       -3.39682265e-05, -5.06794240e-05, -4.90943312e-05, -4.02871083e-05,\n",
            "       -5.40224501e-05,  1.67523940e-05, -1.63575431e-04, -5.25919859e-05,\n",
            "       -2.00717695e-05,  4.02506303e-05,  8.49217577e-06,  4.63333345e-06,\n",
            "        7.47033700e-05,  3.43394167e-05,  7.52388587e-06,  2.30085243e-06,\n",
            "       -1.76872636e-05,  6.24605455e-05, -3.45274202e-05,  5.92899596e-05,\n",
            "       -1.45859449e-05, -4.37373419e-05, -2.44089606e-05, -4.47500461e-05,\n",
            "       -4.06742765e-05, -7.45412945e-06,  2.05477427e-05, -3.68150213e-05,\n",
            "       -5.93641380e-05, -2.41980615e-06, -2.97644001e-05,  2.30602418e-05,\n",
            "       -1.48851071e-02,  8.68072500e-04,  3.76110002e-02, -1.12427108e-03,\n",
            "       -1.89594962e-02,  3.32920589e-02,  2.03516223e-02,  1.51582118e-02,\n",
            "       -3.47572640e-02, -7.31773488e-03, -4.77930345e-02, -2.17947252e-02,\n",
            "        2.00162679e-02,  1.91598907e-02, -1.70769244e-02,  3.49474251e-02,\n",
            "        3.90195549e-02, -2.09989678e-02,  6.32176772e-02,  4.05897163e-02,\n",
            "       -5.07187620e-02,  1.07703116e-02, -1.61296222e-04,  1.64572820e-02,\n",
            "        5.54587785e-03,  1.79600045e-02, -2.86378968e-03, -1.21195707e-02,\n",
            "       -2.44012959e-02,  6.78621884e-03, -6.20409194e-03,  5.58853075e-02,\n",
            "       -1.92146823e-02, -2.35537291e-02,  4.87278849e-02,  1.67146381e-02,\n",
            "        1.67527492e-03, -7.09166098e-03,  3.86670083e-02,  4.27155867e-02,\n",
            "       -2.53355913e-02, -2.54042484e-02,  2.62148418e-02, -4.55039479e-02,\n",
            "        5.13304537e-03,  2.59008557e-02, -1.71953700e-02,  2.58480422e-02,\n",
            "       -2.64163837e-02,  1.56654082e-02,  8.24822858e-03, -5.05069606e-02,\n",
            "       -2.66394969e-02, -1.15890745e-02, -2.05563232e-02,  8.31225142e-03,\n",
            "       -3.00396569e-02,  1.09537086e-02,  6.25797221e-03, -2.49588545e-02,\n",
            "       -3.74298282e-02, -3.92438658e-03, -4.34433073e-02, -1.72587465e-02,\n",
            "       -1.09807085e-02, -3.36137153e-02,  2.22930405e-02,  3.30586615e-03,\n",
            "        2.01801062e-02, -3.68553624e-02,  2.23562121e-02,  6.95736660e-03,\n",
            "       -2.16059126e-02, -5.22243828e-02,  2.09236238e-02,  1.58816203e-02,\n",
            "        1.07097058e-02,  6.64588157e-03,  2.97525860e-02,  7.19209109e-03,\n",
            "       -1.21459197e-02, -7.00877188e-03,  3.26939188e-02, -6.37728162e-03,\n",
            "        3.80261727e-02,  4.74537835e-02, -1.11534297e-02,  2.95954831e-02,\n",
            "        7.93353072e-04,  3.05979922e-02, -2.92953961e-02, -2.30758321e-02,\n",
            "        1.44679751e-02, -4.97918203e-02,  7.83270970e-03,  1.83978193e-02,\n",
            "        3.03266235e-02,  2.53219549e-02,  1.79028660e-02,  5.08494116e-03,\n",
            "       -4.19811234e-02,  2.19721440e-02, -5.61214238e-02,  2.55001523e-02,\n",
            "        6.24031387e-03,  9.27367993e-03,  3.42565067e-02,  1.74358711e-02,\n",
            "       -1.76751912e-02, -8.36717058e-03, -1.25568723e-02,  8.58653896e-03,\n",
            "        3.41547560e-03,  2.77769212e-02,  1.76778017e-03, -5.74681349e-02,\n",
            "       -6.05817372e-03, -9.43016447e-03,  1.63821457e-03,  4.78397608e-02,\n",
            "        2.64327265e-02,  2.12084930e-02,  6.98102545e-03,  1.71492118e-02,\n",
            "        4.21547219e-02,  9.15334001e-03,  1.24756983e-02, -4.76173125e-04,\n",
            "        2.71922127e-05,  2.83097816e-05, -4.63879041e-06,  1.24598992e-05,\n",
            "       -7.24997608e-06, -7.68897298e-05, -3.53021824e-05,  4.76955538e-05,\n",
            "       -3.83406659e-05, -1.87830447e-05,  7.22289842e-05, -9.22058643e-06,\n",
            "       -3.24255197e-05,  6.25812390e-06, -1.29110231e-05,  2.82827332e-05,\n",
            "       -4.69197548e-05, -3.09929928e-05,  1.26658459e-04, -4.22396915e-05,\n",
            "       -6.58159706e-06, -2.29443831e-05,  6.27209738e-06, -9.27888323e-06,\n",
            "       -8.20566493e-06,  5.89812880e-05, -1.91806866e-05, -2.66603074e-05,\n",
            "       -2.16197404e-05,  2.56451494e-05,  4.13488851e-05, -6.08826849e-05,\n",
            "       -2.90158596e-06, -4.75688603e-06,  5.33599959e-05,  1.02142503e-05,\n",
            "       -1.48832423e-05,  9.48573143e-06,  1.17549826e-04, -1.28342144e-05,\n",
            "        3.54906661e-07, -8.65342281e-06, -7.39894131e-06, -6.38920246e-05,\n",
            "        2.56009425e-05,  3.10830728e-06,  2.01276162e-05, -5.17744138e-06,\n",
            "       -5.00804636e-05, -5.63357535e-05, -5.51958947e-05,  1.44427671e-04,\n",
            "       -1.34909587e-05,  3.92160109e-06, -8.27680924e-06, -4.88923943e-05,\n",
            "        4.55504123e-05,  1.72834189e-05,  2.71883946e-05,  4.68318194e-06,\n",
            "        2.76511782e-05,  4.15564573e-05,  8.95322955e-05, -5.87476679e-05,\n",
            "       -3.19953979e-05, -7.62364216e-05,  3.84795567e-05, -2.14101110e-05,\n",
            "        1.80806273e-05,  9.62800113e-05,  1.04157534e-05,  2.28335139e-05,\n",
            "       -2.80005770e-06, -1.07346263e-04,  3.77915285e-06, -3.20835443e-06,\n",
            "        3.30910116e-05,  4.76957139e-05,  5.18900415e-05,  2.03592117e-06,\n",
            "       -4.34406866e-06, -4.50984453e-06,  7.32257613e-05,  2.88076008e-05,\n",
            "        8.81431515e-06, -5.56418399e-06, -3.05960057e-05,  2.10133621e-05,\n",
            "        4.26833649e-05, -2.05751348e-05, -5.63931062e-05,  4.33056630e-06,\n",
            "       -1.89138154e-05,  5.92848373e-05, -2.37797440e-06,  3.67982066e-05,\n",
            "       -1.14505829e-05, -2.88448027e-05, -4.63041360e-05, -2.71171466e-05,\n",
            "       -2.37717904e-05,  1.45920530e-05, -1.17604839e-04, -3.29848117e-05,\n",
            "       -6.41874340e-06,  2.55232917e-05,  2.37398126e-06,  1.51725226e-05,\n",
            "        5.72629979e-05,  3.56307610e-05,  1.83532793e-05, -1.18047437e-05,\n",
            "       -1.12185253e-05,  4.88954029e-05, -1.93549440e-05,  4.78416441e-05,\n",
            "       -1.19591850e-05, -3.53252362e-05, -3.72830546e-05, -2.54627557e-05,\n",
            "       -4.60687188e-05, -7.98547262e-07,  2.83140143e-05, -3.19432802e-05,\n",
            "       -4.94791675e-05,  5.64362381e-07, -2.28451681e-05,  1.13324968e-05],\n",
            "      dtype=float32)>, <tf.Tensor: shape=(128, 10000), dtype=float32, numpy=\n",
            "array([[ 7.3626050e-04,  6.7842769e-04,  1.3867110e-03, ...,\n",
            "        -2.4323972e-06, -2.4311719e-06, -2.4315666e-06],\n",
            "       [-1.8606747e-03, -2.2840013e-03, -1.3177516e-03, ...,\n",
            "         3.3485890e-06,  3.3451752e-06,  3.3492406e-06],\n",
            "       [ 9.6937316e-04,  9.6926442e-04,  1.2500766e-03, ...,\n",
            "        -1.5520493e-06, -1.5497176e-06, -1.5516957e-06],\n",
            "       ...,\n",
            "       [ 5.6912517e-04,  7.8756572e-04,  5.4724558e-05, ...,\n",
            "        -1.2350126e-06, -1.2361572e-06, -1.2351630e-06],\n",
            "       [ 2.8984693e-03,  2.5560453e-03,  3.0225806e-03, ...,\n",
            "        -5.9116787e-06, -5.9071281e-06, -5.9117019e-06],\n",
            "       [-2.9584055e-04, -5.1222829e-04, -1.8995892e-03, ...,\n",
            "         1.5985307e-06,  1.5973137e-06,  1.5979807e-06]], dtype=float32)>, <tf.Tensor: shape=(10000,), dtype=float32, numpy=\n",
            "array([-0.7979982 , -1.0313314 , -1.0313319 , ...,  0.00200036,\n",
            "        0.00199916,  0.00200027], dtype=float32)>]\n"
          ]
        }
      ]
    },
    {
      "cell_type": "markdown",
      "metadata": {
        "button": false,
        "new_sheet": false,
        "run_control": {
          "read_only": false
        },
        "id": "zKt67ZL9xGEn"
      },
      "source": [
        "now, we have a list of tensors, t-list. We can use it to find clipped tensors. <b>clip_by_global_norm</b> clips values of multiple tensors by the ratio of the sum of their norms.\n",
        "\n",
        "<b>clip_by_global_norm</b> get <i>t-list</i> as input and returns 2 things:\n",
        "\n",
        "<ul>\n",
        "    <li>a list of clipped tensors, so called <i>list_clipped</i></li> \n",
        "    <li>the global norm (global_norm) of all tensors in t_list</li> \n",
        "</ul>\n"
      ]
    },
    {
      "cell_type": "code",
      "metadata": {
        "id": "1gXgSE8CxGEn",
        "colab": {
          "base_uri": "https://localhost:8080/"
        },
        "outputId": "33d19f5f-1613-4178-cdde-23a60e1321d2"
      },
      "source": [
        "# Define the gradient clipping threshold\n",
        "grads, _ = tf.clip_by_global_norm(grad_t_list, max_grad_norm)\n",
        "grads"
      ],
      "execution_count": null,
      "outputs": [
        {
          "output_type": "execute_result",
          "data": {
            "text/plain": [
              "[<tensorflow.python.framework.indexed_slices.IndexedSlices at 0x7f4dbaa17050>,\n",
              " <tf.Tensor: shape=(200, 1024), dtype=float32, numpy=\n",
              " array([[ 7.4289517e-07, -2.0088837e-07, -4.6134085e-07, ...,\n",
              "         -1.0456212e-07, -2.2139234e-07,  1.4676370e-07],\n",
              "        [-2.7551181e-08,  3.2958724e-08,  3.0830125e-07, ...,\n",
              "         -6.6630531e-07,  4.0860323e-07,  6.3690393e-08],\n",
              "        [ 1.6920885e-07, -2.5341078e-07,  8.4070734e-07, ...,\n",
              "         -1.1181729e-07,  6.6467658e-07, -1.6267856e-07],\n",
              "        ...,\n",
              "        [-3.9889576e-07, -3.8396729e-07,  5.6677396e-07, ...,\n",
              "          1.3618296e-07,  3.1801099e-07,  5.5424476e-07],\n",
              "        [-1.5671455e-07,  6.4307113e-07,  2.4045997e-07, ...,\n",
              "          1.1855874e-07,  4.5605739e-07, -2.1213532e-07],\n",
              "        [-2.3302312e-07,  3.3087659e-07, -1.0823144e-06, ...,\n",
              "         -3.8617549e-07,  4.5561069e-07,  6.3797989e-07]], dtype=float32)>,\n",
              " <tf.Tensor: shape=(256, 1024), dtype=float32, numpy=\n",
              " array([[-6.2250933e-08, -3.4872551e-07, -2.0117317e-07, ...,\n",
              "         -2.5073103e-07,  1.9622090e-07,  7.6770398e-08],\n",
              "        [ 2.0489799e-07, -3.4700986e-07, -1.9671464e-09, ...,\n",
              "          1.7355225e-07, -6.3846272e-08, -7.8578452e-08],\n",
              "        [-5.7427680e-09,  6.1296667e-08, -1.6668437e-07, ...,\n",
              "          2.9726857e-08, -6.7212174e-09,  6.5651719e-08],\n",
              "        ...,\n",
              "        [-9.6069314e-08, -7.7673626e-08, -2.5157526e-08, ...,\n",
              "          2.3680546e-08,  6.6086898e-08,  1.9366595e-08],\n",
              "        [ 3.0737933e-08, -7.9551050e-09, -2.4877789e-09, ...,\n",
              "          1.6378166e-07, -5.4020819e-07,  1.0887135e-08],\n",
              "        [-3.8347061e-08,  1.0806194e-07,  2.7866447e-08, ...,\n",
              "          1.2219101e-07, -1.1034960e-07,  9.2177594e-08]], dtype=float32)>,\n",
              " <tf.Tensor: shape=(1024,), dtype=float32, numpy=\n",
              " array([ 5.4236916e-06,  2.8430512e-05, -1.1399690e-05, ...,\n",
              "        -2.0558162e-05,  2.8900355e-05,  1.9784395e-05], dtype=float32)>,\n",
              " <tf.Tensor: shape=(256, 512), dtype=float32, numpy=\n",
              " array([[ 8.81409363e-08, -7.08524439e-09,  2.83639309e-07, ...,\n",
              "          1.73685706e-08, -9.91850158e-09, -5.48831096e-08],\n",
              "        [-1.49644379e-07, -8.76182114e-08, -1.59720486e-07, ...,\n",
              "          1.85227080e-07,  5.69950913e-08, -8.27076363e-08],\n",
              "        [ 1.13359413e-07, -3.47877140e-08,  3.34696963e-08, ...,\n",
              "          1.74708248e-07, -1.96933271e-07,  5.73269645e-08],\n",
              "        ...,\n",
              "        [-2.24476395e-07,  1.00385691e-07, -8.15787757e-08, ...,\n",
              "          1.09038211e-07,  1.16257965e-07, -2.69411345e-07],\n",
              "        [-7.14739130e-08, -1.07945695e-07, -2.18994529e-07, ...,\n",
              "         -1.28104901e-07, -9.57051753e-08, -5.43244845e-08],\n",
              "        [-6.76731418e-08,  7.54056515e-08, -5.78507944e-08, ...,\n",
              "          2.23304575e-08,  1.07646798e-08, -1.55064100e-07]], dtype=float32)>,\n",
              " <tf.Tensor: shape=(128, 512), dtype=float32, numpy=\n",
              " array([[-2.0073723e-07, -3.4945398e-08,  2.3762064e-08, ...,\n",
              "         -7.0841587e-08,  9.3229353e-08, -6.9936625e-08],\n",
              "        [-1.4507432e-07,  4.6180080e-08, -4.7316643e-08, ...,\n",
              "          8.8686896e-08, -4.0550852e-08, -9.6064795e-08],\n",
              "        [ 4.0313250e-08,  4.3897245e-08,  2.8869005e-07, ...,\n",
              "         -1.4445584e-07, -4.2838714e-08,  3.0894480e-08],\n",
              "        ...,\n",
              "        [ 1.5539332e-08, -7.2524657e-08,  5.2518764e-08, ...,\n",
              "          9.5395379e-08,  1.7693941e-07, -1.7592387e-07],\n",
              "        [ 1.9558236e-08,  2.1952005e-09,  7.1361157e-08, ...,\n",
              "          3.9979220e-08,  1.1726174e-07, -4.6629818e-08],\n",
              "        [ 1.5993160e-07,  2.8813728e-08,  3.7115260e-08, ...,\n",
              "          2.7292849e-08,  1.2590782e-09,  1.6035303e-07]], dtype=float32)>,\n",
              " <tf.Tensor: shape=(512,), dtype=float32, numpy=\n",
              " array([ 2.74255744e-05,  2.56348067e-05, -6.41610313e-06,  8.61624903e-06,\n",
              "        -3.37182792e-06, -5.01906834e-05, -3.69537593e-05,  4.75528250e-05,\n",
              "        -2.37286622e-05, -1.73221306e-05,  6.30003051e-05, -1.26259392e-05,\n",
              "        -2.43804898e-05,  8.65162656e-06, -5.71845067e-06,  2.44284383e-05,\n",
              "        -4.05151513e-05, -2.48336855e-05,  1.06971580e-04, -4.08431006e-05,\n",
              "        -1.25323686e-06, -2.27095534e-05,  3.57764839e-06, -1.43307398e-05,\n",
              "        -8.27170516e-06,  5.99710147e-05, -2.14481624e-05, -2.88929805e-05,\n",
              "        -3.12309821e-05,  1.19834540e-05,  3.23649328e-05, -5.20446374e-05,\n",
              "        -1.08051108e-06, -3.02243757e-06,  4.47725615e-05,  1.00577536e-05,\n",
              "        -3.68935434e-06,  1.70693929e-05,  8.52087760e-05, -1.87981186e-07,\n",
              "        -1.71877400e-06, -1.17639165e-05, -1.21736757e-05, -5.17807202e-05,\n",
              "         2.58408400e-05, -2.69194788e-06,  1.80172919e-05, -2.57449892e-06,\n",
              "        -3.85735621e-05, -4.56586022e-05, -4.90994862e-05,  1.31170935e-04,\n",
              "        -2.75240382e-06,  2.33525498e-06, -1.02399863e-05, -4.52903550e-05,\n",
              "         3.79177291e-05,  1.60866275e-05,  2.22115468e-05,  2.62511230e-06,\n",
              "         2.96898361e-05,  4.17738556e-05,  7.10370077e-05, -5.87097165e-05,\n",
              "        -2.57681841e-05, -6.65142361e-05,  3.05240901e-05, -1.86023462e-05,\n",
              "         1.74195011e-05,  8.62667875e-05,  7.57423186e-06,  2.54881288e-05,\n",
              "         6.79063305e-07, -8.40420471e-05,  6.06980393e-06, -8.12940016e-07,\n",
              "         3.47258065e-05,  4.48253522e-05,  5.14655621e-05, -3.45184208e-06,\n",
              "        -2.90221897e-06, -2.10077314e-06,  6.75003903e-05,  2.82429737e-05,\n",
              "         8.10763777e-06, -6.89307853e-06, -2.30381647e-05,  1.55333219e-05,\n",
              "         3.37082092e-05, -2.08363945e-05, -4.79617447e-05,  1.98428461e-06,\n",
              "        -1.64219582e-05,  5.49292381e-05, -1.07275537e-06,  3.16931000e-05,\n",
              "        -5.56853365e-06, -2.43885152e-05, -3.70338603e-05, -3.02670123e-05,\n",
              "        -2.50205412e-05,  1.19695978e-05, -1.04322135e-04, -3.63927866e-05,\n",
              "        -3.96845462e-06,  2.14660467e-05,  4.33635614e-06,  1.62823890e-05,\n",
              "         4.64581353e-05,  3.05695357e-05,  2.67936903e-05, -1.16201445e-05,\n",
              "        -1.28729152e-05,  3.92777147e-05, -1.83349912e-05,  4.36344490e-05,\n",
              "        -1.58616858e-05, -3.44788532e-05, -3.10229443e-05, -1.01082114e-05,\n",
              "        -3.89609268e-05, -4.85189412e-06,  2.38589255e-05, -2.92628611e-05,\n",
              "        -3.42091953e-05, -4.57244096e-06, -2.21435112e-05,  1.20999093e-05,\n",
              "         3.15671205e-05,  1.17370400e-05, -3.67149114e-05,  1.69935993e-05,\n",
              "        -1.38916130e-06, -7.09753804e-05, -2.19723024e-05,  4.47463681e-05,\n",
              "        -8.07775141e-05, -2.29850666e-05,  7.13620684e-05, -2.09978843e-05,\n",
              "        -1.49372217e-05,  3.20543186e-05, -2.86824852e-05,  4.99569942e-05,\n",
              "        -6.24500826e-05, -1.94519398e-05,  1.49651751e-04, -7.03064361e-05,\n",
              "         8.14645318e-06, -2.08611091e-05, -5.82140819e-06, -2.49617624e-05,\n",
              "        -1.34872580e-05,  9.47924491e-05, -4.88828809e-05, -3.13143973e-05,\n",
              "        -1.09761841e-05,  2.03274285e-05,  3.27567614e-05, -6.99639786e-05,\n",
              "         1.32215628e-05,  1.86114703e-05,  5.45647708e-05, -1.91110285e-05,\n",
              "        -4.78278525e-06,  2.24093419e-05,  1.25569873e-04, -4.63567176e-06,\n",
              "        -2.49849600e-05, -1.71153060e-05,  2.38750545e-05, -5.33641360e-05,\n",
              "         1.95088542e-05, -1.88857302e-06,  1.61261196e-05, -4.56956786e-06,\n",
              "        -3.23099375e-05, -5.22627088e-05, -4.33306413e-05,  1.95778659e-04,\n",
              "         1.02782178e-06, -1.23041791e-05, -7.51067410e-06, -4.55553854e-05,\n",
              "         1.01639547e-04,  4.51694032e-05,  3.53918731e-05,  1.77849743e-05,\n",
              "         4.75882553e-05,  2.31995164e-05,  1.04056278e-04, -5.55989245e-05,\n",
              "        -3.20246618e-05, -7.58357564e-05,  4.02536753e-05, -6.43347666e-05,\n",
              "         2.95307609e-06,  1.14346651e-04,  2.55987943e-05,  3.63011095e-05,\n",
              "        -2.82769524e-05, -1.24950544e-04, -2.73546684e-05, -4.84364455e-06,\n",
              "         2.77985237e-05,  6.79375953e-05,  8.51257864e-05,  1.07921214e-05,\n",
              "         2.55365376e-05,  9.94807760e-06,  8.90689771e-05,  4.05887149e-05,\n",
              "         4.16721414e-05,  1.16746851e-05, -3.56875171e-05,  2.91847027e-05,\n",
              "         2.68629083e-05, -1.16959836e-05, -6.38294150e-05, -5.76381854e-06,\n",
              "        -2.50402354e-05,  6.45961190e-05, -1.63001587e-05,  3.98804186e-05,\n",
              "        -3.39682265e-05, -5.06794240e-05, -4.90943312e-05, -4.02871083e-05,\n",
              "        -5.40224501e-05,  1.67523940e-05, -1.63575431e-04, -5.25919859e-05,\n",
              "        -2.00717695e-05,  4.02506303e-05,  8.49217577e-06,  4.63333345e-06,\n",
              "         7.47033700e-05,  3.43394167e-05,  7.52388587e-06,  2.30085243e-06,\n",
              "        -1.76872636e-05,  6.24605455e-05, -3.45274202e-05,  5.92899596e-05,\n",
              "        -1.45859449e-05, -4.37373419e-05, -2.44089606e-05, -4.47500461e-05,\n",
              "        -4.06742765e-05, -7.45412945e-06,  2.05477427e-05, -3.68150213e-05,\n",
              "        -5.93641380e-05, -2.41980615e-06, -2.97644001e-05,  2.30602418e-05,\n",
              "        -1.48851071e-02,  8.68072500e-04,  3.76110002e-02, -1.12427108e-03,\n",
              "        -1.89594962e-02,  3.32920589e-02,  2.03516223e-02,  1.51582118e-02,\n",
              "        -3.47572640e-02, -7.31773488e-03, -4.77930345e-02, -2.17947252e-02,\n",
              "         2.00162679e-02,  1.91598907e-02, -1.70769244e-02,  3.49474251e-02,\n",
              "         3.90195549e-02, -2.09989678e-02,  6.32176772e-02,  4.05897163e-02,\n",
              "        -5.07187620e-02,  1.07703116e-02, -1.61296222e-04,  1.64572820e-02,\n",
              "         5.54587785e-03,  1.79600045e-02, -2.86378968e-03, -1.21195707e-02,\n",
              "        -2.44012959e-02,  6.78621884e-03, -6.20409194e-03,  5.58853075e-02,\n",
              "        -1.92146823e-02, -2.35537291e-02,  4.87278849e-02,  1.67146381e-02,\n",
              "         1.67527492e-03, -7.09166098e-03,  3.86670083e-02,  4.27155867e-02,\n",
              "        -2.53355913e-02, -2.54042484e-02,  2.62148418e-02, -4.55039479e-02,\n",
              "         5.13304537e-03,  2.59008557e-02, -1.71953700e-02,  2.58480422e-02,\n",
              "        -2.64163837e-02,  1.56654082e-02,  8.24822858e-03, -5.05069606e-02,\n",
              "        -2.66394969e-02, -1.15890745e-02, -2.05563232e-02,  8.31225142e-03,\n",
              "        -3.00396569e-02,  1.09537086e-02,  6.25797221e-03, -2.49588545e-02,\n",
              "        -3.74298282e-02, -3.92438658e-03, -4.34433073e-02, -1.72587465e-02,\n",
              "        -1.09807085e-02, -3.36137153e-02,  2.22930405e-02,  3.30586615e-03,\n",
              "         2.01801062e-02, -3.68553624e-02,  2.23562121e-02,  6.95736660e-03,\n",
              "        -2.16059126e-02, -5.22243828e-02,  2.09236238e-02,  1.58816203e-02,\n",
              "         1.07097058e-02,  6.64588157e-03,  2.97525860e-02,  7.19209109e-03,\n",
              "        -1.21459197e-02, -7.00877188e-03,  3.26939188e-02, -6.37728162e-03,\n",
              "         3.80261727e-02,  4.74537835e-02, -1.11534297e-02,  2.95954831e-02,\n",
              "         7.93353072e-04,  3.05979922e-02, -2.92953961e-02, -2.30758321e-02,\n",
              "         1.44679751e-02, -4.97918203e-02,  7.83270970e-03,  1.83978193e-02,\n",
              "         3.03266235e-02,  2.53219549e-02,  1.79028660e-02,  5.08494116e-03,\n",
              "        -4.19811234e-02,  2.19721440e-02, -5.61214238e-02,  2.55001523e-02,\n",
              "         6.24031387e-03,  9.27367993e-03,  3.42565067e-02,  1.74358711e-02,\n",
              "        -1.76751912e-02, -8.36717058e-03, -1.25568723e-02,  8.58653896e-03,\n",
              "         3.41547560e-03,  2.77769212e-02,  1.76778017e-03, -5.74681349e-02,\n",
              "        -6.05817372e-03, -9.43016447e-03,  1.63821457e-03,  4.78397608e-02,\n",
              "         2.64327265e-02,  2.12084930e-02,  6.98102545e-03,  1.71492118e-02,\n",
              "         4.21547219e-02,  9.15334001e-03,  1.24756983e-02, -4.76173125e-04,\n",
              "         2.71922127e-05,  2.83097816e-05, -4.63879041e-06,  1.24598992e-05,\n",
              "        -7.24997608e-06, -7.68897298e-05, -3.53021824e-05,  4.76955538e-05,\n",
              "        -3.83406659e-05, -1.87830447e-05,  7.22289842e-05, -9.22058643e-06,\n",
              "        -3.24255197e-05,  6.25812390e-06, -1.29110231e-05,  2.82827332e-05,\n",
              "        -4.69197548e-05, -3.09929928e-05,  1.26658459e-04, -4.22396915e-05,\n",
              "        -6.58159706e-06, -2.29443831e-05,  6.27209738e-06, -9.27888323e-06,\n",
              "        -8.20566493e-06,  5.89812880e-05, -1.91806866e-05, -2.66603074e-05,\n",
              "        -2.16197404e-05,  2.56451494e-05,  4.13488851e-05, -6.08826849e-05,\n",
              "        -2.90158596e-06, -4.75688603e-06,  5.33599959e-05,  1.02142503e-05,\n",
              "        -1.48832423e-05,  9.48573143e-06,  1.17549826e-04, -1.28342144e-05,\n",
              "         3.54906661e-07, -8.65342281e-06, -7.39894131e-06, -6.38920246e-05,\n",
              "         2.56009425e-05,  3.10830728e-06,  2.01276162e-05, -5.17744138e-06,\n",
              "        -5.00804636e-05, -5.63357535e-05, -5.51958947e-05,  1.44427671e-04,\n",
              "        -1.34909587e-05,  3.92160109e-06, -8.27680924e-06, -4.88923943e-05,\n",
              "         4.55504123e-05,  1.72834189e-05,  2.71883946e-05,  4.68318194e-06,\n",
              "         2.76511782e-05,  4.15564573e-05,  8.95322955e-05, -5.87476679e-05,\n",
              "        -3.19953979e-05, -7.62364216e-05,  3.84795567e-05, -2.14101110e-05,\n",
              "         1.80806273e-05,  9.62800113e-05,  1.04157534e-05,  2.28335139e-05,\n",
              "        -2.80005770e-06, -1.07346263e-04,  3.77915285e-06, -3.20835443e-06,\n",
              "         3.30910116e-05,  4.76957139e-05,  5.18900415e-05,  2.03592117e-06,\n",
              "        -4.34406866e-06, -4.50984453e-06,  7.32257613e-05,  2.88076008e-05,\n",
              "         8.81431515e-06, -5.56418399e-06, -3.05960057e-05,  2.10133621e-05,\n",
              "         4.26833649e-05, -2.05751348e-05, -5.63931062e-05,  4.33056630e-06,\n",
              "        -1.89138154e-05,  5.92848373e-05, -2.37797440e-06,  3.67982066e-05,\n",
              "        -1.14505829e-05, -2.88448027e-05, -4.63041360e-05, -2.71171466e-05,\n",
              "        -2.37717904e-05,  1.45920530e-05, -1.17604839e-04, -3.29848117e-05,\n",
              "        -6.41874340e-06,  2.55232917e-05,  2.37398126e-06,  1.51725226e-05,\n",
              "         5.72629979e-05,  3.56307610e-05,  1.83532793e-05, -1.18047437e-05,\n",
              "        -1.12185253e-05,  4.88954029e-05, -1.93549440e-05,  4.78416441e-05,\n",
              "        -1.19591850e-05, -3.53252362e-05, -3.72830546e-05, -2.54627557e-05,\n",
              "        -4.60687188e-05, -7.98547262e-07,  2.83140143e-05, -3.19432802e-05,\n",
              "        -4.94791675e-05,  5.64362381e-07, -2.28451681e-05,  1.13324968e-05],\n",
              "       dtype=float32)>,\n",
              " <tf.Tensor: shape=(128, 10000), dtype=float32, numpy=\n",
              " array([[ 7.3626050e-04,  6.7842769e-04,  1.3867110e-03, ...,\n",
              "         -2.4323972e-06, -2.4311719e-06, -2.4315666e-06],\n",
              "        [-1.8606747e-03, -2.2840013e-03, -1.3177516e-03, ...,\n",
              "          3.3485890e-06,  3.3451752e-06,  3.3492406e-06],\n",
              "        [ 9.6937316e-04,  9.6926442e-04,  1.2500766e-03, ...,\n",
              "         -1.5520493e-06, -1.5497176e-06, -1.5516957e-06],\n",
              "        ...,\n",
              "        [ 5.6912517e-04,  7.8756572e-04,  5.4724558e-05, ...,\n",
              "         -1.2350126e-06, -1.2361572e-06, -1.2351630e-06],\n",
              "        [ 2.8984693e-03,  2.5560453e-03,  3.0225806e-03, ...,\n",
              "         -5.9116787e-06, -5.9071281e-06, -5.9117019e-06],\n",
              "        [-2.9584055e-04, -5.1222829e-04, -1.8995892e-03, ...,\n",
              "          1.5985307e-06,  1.5973137e-06,  1.5979807e-06]], dtype=float32)>,\n",
              " <tf.Tensor: shape=(10000,), dtype=float32, numpy=\n",
              " array([-0.7979982 , -1.0313314 , -1.0313319 , ...,  0.00200036,\n",
              "         0.00199916,  0.00200027], dtype=float32)>]"
            ]
          },
          "metadata": {},
          "execution_count": 50
        }
      ]
    },
    {
      "cell_type": "markdown",
      "metadata": {
        "id": "9U4cOa8txGEn"
      },
      "source": [
        "<h4> 4.Apply the optimizer to the variables/gradients tuple. </h4>\n"
      ]
    },
    {
      "cell_type": "code",
      "metadata": {
        "id": "_4cRIB3oxGEn"
      },
      "source": [
        "# Create the training TensorFlow Operation through our optimizer\n",
        "train_op = optimizer.apply_gradients(zip(grads, tvars))"
      ],
      "execution_count": null,
      "outputs": []
    },
    {
      "cell_type": "markdown",
      "metadata": {
        "id": "PFR6FQ5mxGEn"
      },
      "source": [
        "<a id=\"ltsm\"></a>\n",
        "\n",
        "<h2>LSTM</h2>\n"
      ]
    },
    {
      "cell_type": "markdown",
      "metadata": {
        "button": false,
        "deletable": true,
        "new_sheet": false,
        "run_control": {
          "read_only": false
        },
        "id": "gCtnvLVNxGEn"
      },
      "source": [
        "We learned how the model is build step by step. Noe, let's then create a Class that represents our model. This class needs a few things:\n",
        "\n",
        "<ul>\n",
        "    <li>We have to create the model in accordance with our defined hyperparameters</li>\n",
        "    <li>We have to create the LSTM cell structure and connect them with our RNN structure</li>\n",
        "    <li>We have to create the word embeddings and point them to the input data</li>\n",
        "    <li>We have to create the input structure for our RNN</li>\n",
        "    <li>We need to create a logistic structure to return the probability of our words</li>\n",
        "    <li>We need to create the loss and cost functions for our optimizer to work, and then create the optimizer</li>\n",
        "    <li>And finally, we need to create a training operation that can be run to actually train our model</li>\n",
        "</ul>\n"
      ]
    },
    {
      "cell_type": "code",
      "metadata": {
        "button": false,
        "deletable": true,
        "new_sheet": false,
        "run_control": {
          "read_only": false
        },
        "tags": [],
        "id": "D5URKDSuxGEn"
      },
      "source": [
        "class PTBModel(object):\n",
        "\n",
        "\n",
        "    def __init__(self):\n",
        "        ######################################\n",
        "        # Setting parameters for ease of use #\n",
        "        ######################################\n",
        "        self.batch_size = batch_size\n",
        "        self.num_steps = num_steps\n",
        "        self.hidden_size_l1 = hidden_size_l1\n",
        "        self.hidden_size_l2 = hidden_size_l2\n",
        "        self.vocab_size = vocab_size\n",
        "        self.embeding_vector_size = embeding_vector_size\n",
        "        # Create a variable for the learning rate\n",
        "        self._lr = 1.0\n",
        "        \n",
        "        ###############################################################################\n",
        "        # Initializing the model using keras Sequential API  #\n",
        "        ###############################################################################\n",
        "        \n",
        "        self._model = tf.keras.models.Sequential()\n",
        "        \n",
        "        ####################################################################\n",
        "        # Creating the word embeddings layer and adding it to the sequence #\n",
        "        ####################################################################\n",
        "        with tf.device(\"/cpu:0\"):\n",
        "            # Create the embeddings for our input data. Size is hidden size.\n",
        "            self._embedding_layer = tf.keras.layers.Embedding(self.vocab_size, self.embeding_vector_size,batch_input_shape=(self.batch_size, self.num_steps),trainable=True,name=\"embedding_vocab\")  #[10000x200]\n",
        "            self._model.add(self._embedding_layer)\n",
        "            \n",
        "\n",
        "        ##########################################################################\n",
        "        # Creating the LSTM cell structure and connect it with the RNN structure #\n",
        "        ##########################################################################\n",
        "        # Create the LSTM Cells. \n",
        "        # This creates only the structure for the LSTM and has to be associated with a RNN unit still.\n",
        "        # The argument  of LSTMCell is size of hidden layer, that is, the number of hidden units of the LSTM (inside A). \n",
        "        # LSTM cell processes one word at a time and computes probabilities of the possible continuations of the sentence.\n",
        "        lstm_cell_l1 = tf.keras.layers.LSTMCell(hidden_size_l1)\n",
        "        lstm_cell_l2 = tf.keras.layers.LSTMCell(hidden_size_l2)\n",
        "        \n",
        "\n",
        "        \n",
        "        # By taking in the LSTM cells as parameters, the StackedRNNCells function junctions the LSTM units to the RNN units.\n",
        "        # RNN cell composed sequentially of stacked simple cells.\n",
        "        stacked_lstm = tf.keras.layers.StackedRNNCells([lstm_cell_l1, lstm_cell_l2])\n",
        "\n",
        "\n",
        "        \n",
        "\n",
        "        ############################################\n",
        "        # Creating the input structure for our RNN #\n",
        "        ############################################\n",
        "        # Input structure is 20x[30x200]\n",
        "        # Considering each word is represended by a 200 dimentional vector, and we have 30 batchs, we create 30 word-vectors of size [30xx2000]\n",
        "        # The input structure is fed from the embeddings, which are filled in by the input data\n",
        "        # Feeding a batch of b sentences to a RNN:\n",
        "        # In step 1,  first word of each of the b sentences (in a batch) is input in parallel.  \n",
        "        # In step 2,  second word of each of the b sentences is input in parallel. \n",
        "        # The parallelism is only for efficiency.  \n",
        "        # Each sentence in a batch is handled in parallel, but the network sees one word of a sentence at a time and does the computations accordingly. \n",
        "        # All the computations involving the words of all sentences in a batch at a given time step are done in parallel. \n",
        "\n",
        "        ########################################################################################################\n",
        "        # Instantiating our RNN model and setting stateful to True to feed forward the state to the next layer #\n",
        "        ########################################################################################################\n",
        "        \n",
        "        self._RNNlayer  =  tf.keras.layers.RNN(stacked_lstm,[batch_size, num_steps],return_state=False,stateful=True,trainable=True)\n",
        "        \n",
        "        # Define the initial state, i.e., the model state for the very first data point\n",
        "        # It initialize the state of the LSTM memory. The memory state of the network is initialized with a vector of zeros and gets updated after reading each word.\n",
        "        self._initial_state = tf.Variable(tf.zeros([batch_size,embeding_vector_size]),trainable=False)\n",
        "        self._RNNlayer.inital_state = self._initial_state\n",
        "    \n",
        "        ############################################\n",
        "        # Adding RNN layer to keras sequential API #\n",
        "        ############################################        \n",
        "        self._model.add(self._RNNlayer)\n",
        "        \n",
        "        #self._model.add(tf.keras.layers.LSTM(hidden_size_l1,return_sequences=True,stateful=True))\n",
        "        #self._model.add(tf.keras.layers.LSTM(hidden_size_l2,return_sequences=True))\n",
        "        \n",
        "        \n",
        "        ####################################################################################################\n",
        "        # Instantiating a Dense layer that connects the output to the vocab_size  and adding layer to model#\n",
        "        ####################################################################################################\n",
        "        self._dense = tf.keras.layers.Dense(self.vocab_size)\n",
        "        self._model.add(self._dense)\n",
        " \n",
        "        \n",
        "        ####################################################################################################\n",
        "        # Adding softmax activation layer and deriving probability to each class and adding layer to model #\n",
        "        ####################################################################################################\n",
        "        self._activation = tf.keras.layers.Activation('softmax')\n",
        "        self._model.add(self._activation)\n",
        "\n",
        "        ##########################################################\n",
        "        # Instantiating the stochastic gradient decent optimizer #\n",
        "        ########################################################## \n",
        "        self._optimizer = tf.keras.optimizers.SGD(lr=self._lr, clipnorm=max_grad_norm)\n",
        "        \n",
        "        \n",
        "        ##############################################################################\n",
        "        # Compiling and summarizing the model stacked using the keras sequential API #\n",
        "        ##############################################################################\n",
        "        self._model.compile(loss=self.crossentropy, optimizer=self._optimizer)\n",
        "        self._model.summary()\n",
        "\n",
        "\n",
        "    def crossentropy(self,y_true, y_pred):\n",
        "        return tf.keras.losses.sparse_categorical_crossentropy(y_true, y_pred)\n",
        "\n",
        "    def train_batch(self,_input_data,_targets):\n",
        "        #################################################\n",
        "        # Creating the Training Operation for our Model #\n",
        "        #################################################\n",
        "        # Create a variable for the learning rate\n",
        "        self._lr = tf.Variable(0.0, trainable=False)\n",
        "        # Get all TensorFlow variables marked as \"trainable\" (i.e. all of them except _lr, which we just created)\n",
        "        tvars = self._model.trainable_variables\n",
        "        # Define the gradient clipping threshold\n",
        "        with tf.GradientTape() as tape:\n",
        "            # Forward pass.\n",
        "            output_words_prob = self._model(_input_data)\n",
        "            # Loss value for this batch.\n",
        "            loss  = self.crossentropy(_targets, output_words_prob)\n",
        "            # average across batch and reduce sum\n",
        "            cost = tf.reduce_sum(loss/ self.batch_size)\n",
        "        # Get gradients of loss wrt the trainable variables.\n",
        "        grad_t_list = tape.gradient(cost, tvars)\n",
        "        # Define the gradient clipping threshold\n",
        "        grads, _ = tf.clip_by_global_norm(grad_t_list, max_grad_norm)\n",
        "        # Create the training TensorFlow Operation through our optimizer\n",
        "        train_op = self._optimizer.apply_gradients(zip(grads, tvars))\n",
        "        return cost\n",
        "        \n",
        "    def test_batch(self,_input_data,_targets):\n",
        "        #################################################\n",
        "        # Creating the Testing Operation for our Model #\n",
        "        #################################################\n",
        "        output_words_prob = self._model(_input_data)\n",
        "        loss  = self.crossentropy(_targets, output_words_prob)\n",
        "        # average across batch and reduce sum\n",
        "        cost = tf.reduce_sum(loss/ self.batch_size)\n",
        "\n",
        "        return cost\n",
        "    @classmethod\n",
        "    def instance(cls) : \n",
        "        return PTBModel()"
      ],
      "execution_count": null,
      "outputs": []
    },
    {
      "cell_type": "markdown",
      "metadata": {
        "button": false,
        "deletable": true,
        "new_sheet": false,
        "run_control": {
          "read_only": false
        },
        "id": "u0BZDYVJxGEo"
      },
      "source": [
        "With that, the actual structure of our Recurrent Neural Network with Long Short-Term Memory is finished. What remains for us to do is to actually create the methods to run through time -- that is, the <code>run_epoch</code> method to be run at each epoch and a <code>main</code> script which ties all of this together.\n",
        "\n",
        "What our <code>run_epoch</code> method should do is take our input data and feed it to the relevant operations. This will return at the very least the current result for the cost function.\n"
      ]
    },
    {
      "cell_type": "code",
      "metadata": {
        "button": false,
        "deletable": true,
        "new_sheet": false,
        "run_control": {
          "read_only": false
        },
        "id": "LW4yCYDrxGEo"
      },
      "source": [
        "\n",
        "########################################################################################################################\n",
        "# run_one_epoch takes as parameters  the model instance, the data to be fed, training or testing mode and verbose info #\n",
        "########################################################################################################################\n",
        "def run_one_epoch(m, data,is_training=True,verbose=False):\n",
        "\n",
        "    #Define the epoch size based on the length of the data, batch size and the number of steps\n",
        "    epoch_size = ((len(data) // m.batch_size) - 1) // m.num_steps\n",
        "    start_time = time.time()\n",
        "    costs = 0.\n",
        "    iters = 0\n",
        "    \n",
        "    m._model.reset_states()\n",
        "    \n",
        "    #For each step and data point\n",
        "    for step, (x, y) in enumerate(reader.ptb_iterator(data, m.batch_size, m.num_steps)):\n",
        "        \n",
        "        #Evaluate and return cost, state by running cost, final_state and the function passed as parameter\n",
        "        #y = tf.keras.utils.to_categorical(y, num_classes=vocab_size)\n",
        "        if is_training : \n",
        "            loss=  m.train_batch(x, y)\n",
        "        else :\n",
        "            loss = m.test_batch(x, y)\n",
        "                                   \n",
        "\n",
        "        #Add returned cost to costs (which keeps track of the total costs for this epoch)\n",
        "        costs += loss\n",
        "        \n",
        "        #Add number of steps to iteration counter\n",
        "        iters += m.num_steps\n",
        "\n",
        "        if verbose and step % (epoch_size // 10) == 10:\n",
        "            print(\"Itr %d of %d, perplexity: %.3f speed: %.0f wps\" % (step , epoch_size, np.exp(costs / iters), iters * m.batch_size / (time.time() - start_time)))\n",
        "        \n",
        "\n",
        "\n",
        "    # Returns the Perplexity rating for us to keep track of how the model is evolving\n",
        "    return np.exp(costs / iters)\n"
      ],
      "execution_count": null,
      "outputs": []
    },
    {
      "cell_type": "markdown",
      "metadata": {
        "button": false,
        "deletable": true,
        "new_sheet": false,
        "run_control": {
          "read_only": false
        },
        "id": "OGv4MRGcxGEo"
      },
      "source": [
        "Now, we create the <code>main</code> method to tie everything together. The code here reads the data from the directory, using the <code>reader</code> helper module, and then trains and evaluates the model on both a testing and a validating subset of data.\n"
      ]
    },
    {
      "cell_type": "code",
      "metadata": {
        "button": false,
        "deletable": true,
        "new_sheet": false,
        "run_control": {
          "read_only": false
        },
        "tags": [],
        "id": "zPYp2IkXxGEo"
      },
      "source": [
        "# Reads the data and separates it into training data, validation data and testing data\n",
        "raw_data = reader.ptb_raw_data(data_dir)\n",
        "train_data, valid_data, test_data, _, _ = raw_data"
      ],
      "execution_count": null,
      "outputs": []
    },
    {
      "cell_type": "code",
      "metadata": {
        "tags": [],
        "id": "PrrwSus_xGEo",
        "colab": {
          "base_uri": "https://localhost:8080/"
        },
        "outputId": "a07d5962-16ab-451f-923b-aa72dca8c66b"
      },
      "source": [
        "# Instantiates the PTBModel class\n",
        "m=PTBModel.instance()   \n",
        "K = tf.keras.backend \n",
        "for i in range(max_epoch):\n",
        "    # Define the decay for this epoch\n",
        "    lr_decay = decay ** max(i - max_epoch_decay_lr, 0.0)\n",
        "    dcr = learning_rate * lr_decay\n",
        "    m._lr = dcr\n",
        "    K.set_value(m._model.optimizer.learning_rate,m._lr)\n",
        "    print(\"Epoch %d : Learning rate: %.3f\" % (i + 1, m._model.optimizer.learning_rate))\n",
        "    # Run the loop for this epoch in the training mode\n",
        "    train_perplexity = run_one_epoch(m, train_data,is_training=True,verbose=True)\n",
        "    print(\"Epoch %d : Train Perplexity: %.3f\" % (i + 1, train_perplexity))\n",
        "        \n",
        "    # Run the loop for this epoch in the validation mode\n",
        "    valid_perplexity = run_one_epoch(m, valid_data,is_training=False,verbose=False)\n",
        "    print(\"Epoch %d : Valid Perplexity: %.3f\" % (i + 1, valid_perplexity))\n",
        "    \n",
        "# Run the loop in the testing mode to see how effective was our training\n",
        "test_perplexity = run_one_epoch(m, test_data,is_training=False,verbose=False)\n",
        "print(\"Test Perplexity: %.3f\" % test_perplexity)\n",
        "\n"
      ],
      "execution_count": null,
      "outputs": [
        {
          "output_type": "stream",
          "name": "stdout",
          "text": [
            "Model: \"sequential_1\"\n",
            "_________________________________________________________________\n",
            "Layer (type)                 Output Shape              Param #   \n",
            "=================================================================\n",
            "embedding_vocab (Embedding)  (30, 20, 200)             2000000   \n",
            "_________________________________________________________________\n",
            "rnn_1 (RNN)                  (30, 20, 128)             671088    \n",
            "_________________________________________________________________\n",
            "dense_1 (Dense)              (30, 20, 10000)           1290000   \n",
            "_________________________________________________________________\n",
            "activation_1 (Activation)    (30, 20, 10000)           0         \n",
            "=================================================================\n",
            "Total params: 3,961,088\n",
            "Trainable params: 3,955,088\n",
            "Non-trainable params: 6,000\n",
            "_________________________________________________________________\n",
            "Epoch 1 : Learning rate: 1.000\n",
            "Itr 10 of 1549, perplexity: 4724.563 speed: 911 wps\n",
            "Itr 164 of 1549, perplexity: 1088.507 speed: 933 wps\n",
            "Itr 318 of 1549, perplexity: 836.435 speed: 933 wps\n",
            "Itr 472 of 1549, perplexity: 697.270 speed: 930 wps\n",
            "Itr 626 of 1549, perplexity: 597.147 speed: 930 wps\n",
            "Itr 780 of 1549, perplexity: 531.636 speed: 930 wps\n",
            "Itr 934 of 1549, perplexity: 480.261 speed: 932 wps\n",
            "Itr 1088 of 1549, perplexity: 441.724 speed: 932 wps\n",
            "Itr 1242 of 1549, perplexity: 411.987 speed: 933 wps\n",
            "Itr 1396 of 1549, perplexity: 384.053 speed: 933 wps\n",
            "Epoch 1 : Train Perplexity: 361.780\n",
            "Epoch 1 : Valid Perplexity: 213.619\n",
            "Epoch 2 : Learning rate: 1.000\n",
            "Itr 10 of 1549, perplexity: 243.546 speed: 939 wps\n",
            "Itr 164 of 1549, perplexity: 212.623 speed: 933 wps\n",
            "Itr 318 of 1549, perplexity: 203.750 speed: 932 wps\n",
            "Itr 472 of 1549, perplexity: 195.359 speed: 935 wps\n",
            "Itr 626 of 1549, perplexity: 186.304 speed: 937 wps\n",
            "Itr 780 of 1549, perplexity: 182.544 speed: 940 wps\n",
            "Itr 934 of 1549, perplexity: 178.472 speed: 942 wps\n",
            "Itr 1088 of 1549, perplexity: 174.973 speed: 943 wps\n",
            "Itr 1242 of 1549, perplexity: 172.572 speed: 945 wps\n",
            "Itr 1396 of 1549, perplexity: 168.464 speed: 945 wps\n",
            "Epoch 2 : Train Perplexity: 165.535\n",
            "Epoch 2 : Valid Perplexity: 162.732\n",
            "Epoch 3 : Learning rate: 1.000\n",
            "Itr 10 of 1549, perplexity: 164.473 speed: 940 wps\n",
            "Itr 164 of 1549, perplexity: 147.000 speed: 950 wps\n",
            "Itr 318 of 1549, perplexity: 143.997 speed: 945 wps\n",
            "Itr 472 of 1549, perplexity: 139.456 speed: 942 wps\n",
            "Itr 626 of 1549, perplexity: 134.319 speed: 943 wps\n",
            "Itr 780 of 1549, perplexity: 133.125 speed: 945 wps\n",
            "Itr 934 of 1549, perplexity: 131.500 speed: 946 wps\n",
            "Itr 1088 of 1549, perplexity: 129.978 speed: 946 wps\n",
            "Itr 1242 of 1549, perplexity: 129.122 speed: 946 wps\n",
            "Itr 1396 of 1549, perplexity: 126.815 speed: 946 wps\n",
            "Epoch 3 : Train Perplexity: 125.488\n",
            "Epoch 3 : Valid Perplexity: 144.351\n",
            "Epoch 4 : Learning rate: 1.000\n",
            "Itr 10 of 1549, perplexity: 131.082 speed: 949 wps\n",
            "Itr 164 of 1549, perplexity: 120.085 speed: 953 wps\n",
            "Itr 318 of 1549, perplexity: 118.542 speed: 951 wps\n",
            "Itr 472 of 1549, perplexity: 115.041 speed: 948 wps\n",
            "Itr 626 of 1549, perplexity: 111.032 speed: 948 wps\n",
            "Itr 780 of 1549, perplexity: 110.598 speed: 948 wps\n",
            "Itr 934 of 1549, perplexity: 109.523 speed: 949 wps\n",
            "Itr 1088 of 1549, perplexity: 108.594 speed: 950 wps\n",
            "Itr 1242 of 1549, perplexity: 108.229 speed: 951 wps\n",
            "Itr 1396 of 1549, perplexity: 106.581 speed: 952 wps\n",
            "Epoch 4 : Train Perplexity: 105.752\n",
            "Epoch 4 : Valid Perplexity: 137.105\n",
            "Epoch 5 : Learning rate: 1.000\n",
            "Itr 10 of 1549, perplexity: 111.942 speed: 958 wps\n",
            "Itr 164 of 1549, perplexity: 104.656 speed: 963 wps\n",
            "Itr 318 of 1549, perplexity: 103.473 speed: 958 wps\n",
            "Itr 472 of 1549, perplexity: 100.449 speed: 958 wps\n",
            "Itr 626 of 1549, perplexity: 97.079 speed: 957 wps\n",
            "Itr 780 of 1549, perplexity: 96.932 speed: 955 wps\n",
            "Itr 934 of 1549, perplexity: 96.218 speed: 956 wps\n",
            "Itr 1088 of 1549, perplexity: 95.609 speed: 956 wps\n",
            "Itr 1242 of 1549, perplexity: 95.385 speed: 957 wps\n",
            "Itr 1396 of 1549, perplexity: 94.092 speed: 957 wps\n",
            "Epoch 5 : Train Perplexity: 93.529\n",
            "Epoch 5 : Valid Perplexity: 133.773\n",
            "Epoch 6 : Learning rate: 0.500\n",
            "Itr 10 of 1549, perplexity: 99.769 speed: 948 wps\n",
            "Itr 164 of 1549, perplexity: 91.360 speed: 958 wps\n",
            "Itr 318 of 1549, perplexity: 88.794 speed: 961 wps\n",
            "Itr 472 of 1549, perplexity: 85.256 speed: 961 wps\n",
            "Itr 626 of 1549, perplexity: 81.582 speed: 960 wps\n",
            "Itr 780 of 1549, perplexity: 80.798 speed: 960 wps\n",
            "Itr 934 of 1549, perplexity: 79.573 speed: 959 wps\n",
            "Itr 1088 of 1549, perplexity: 78.508 speed: 958 wps\n",
            "Itr 1242 of 1549, perplexity: 77.755 speed: 957 wps\n",
            "Itr 1396 of 1549, perplexity: 76.114 speed: 956 wps\n",
            "Epoch 6 : Train Perplexity: 75.111\n",
            "Epoch 6 : Valid Perplexity: 123.750\n",
            "Epoch 7 : Learning rate: 0.250\n",
            "Itr 10 of 1549, perplexity: 85.111 speed: 931 wps\n",
            "Itr 164 of 1549, perplexity: 78.679 speed: 948 wps\n",
            "Itr 318 of 1549, perplexity: 76.505 speed: 947 wps\n",
            "Itr 472 of 1549, perplexity: 73.539 speed: 949 wps\n",
            "Itr 626 of 1549, perplexity: 70.278 speed: 949 wps\n",
            "Itr 780 of 1549, perplexity: 69.489 speed: 949 wps\n",
            "Itr 934 of 1549, perplexity: 68.353 speed: 949 wps\n",
            "Itr 1088 of 1549, perplexity: 67.294 speed: 949 wps\n",
            "Itr 1242 of 1549, perplexity: 66.506 speed: 949 wps\n",
            "Itr 1396 of 1549, perplexity: 64.944 speed: 949 wps\n",
            "Epoch 7 : Train Perplexity: 63.915\n",
            "Epoch 7 : Valid Perplexity: 122.040\n",
            "Epoch 8 : Learning rate: 0.125\n",
            "Itr 10 of 1549, perplexity: 76.786 speed: 940 wps\n",
            "Itr 164 of 1549, perplexity: 71.415 speed: 947 wps\n",
            "Itr 318 of 1549, perplexity: 69.611 speed: 950 wps\n",
            "Itr 472 of 1549, perplexity: 66.948 speed: 951 wps\n",
            "Itr 626 of 1549, perplexity: 63.953 speed: 950 wps\n",
            "Itr 780 of 1549, perplexity: 63.236 speed: 950 wps\n",
            "Itr 934 of 1549, perplexity: 62.183 speed: 950 wps\n",
            "Itr 1088 of 1549, perplexity: 61.176 speed: 950 wps\n",
            "Itr 1242 of 1549, perplexity: 60.403 speed: 950 wps\n",
            "Itr 1396 of 1549, perplexity: 58.929 speed: 950 wps\n",
            "Epoch 8 : Train Perplexity: 57.940\n",
            "Epoch 8 : Valid Perplexity: 121.718\n",
            "Epoch 9 : Learning rate: 0.062\n",
            "Itr 10 of 1549, perplexity: 72.340 speed: 942 wps\n",
            "Itr 164 of 1549, perplexity: 67.577 speed: 954 wps\n",
            "Itr 318 of 1549, perplexity: 65.971 speed: 955 wps\n",
            "Itr 472 of 1549, perplexity: 63.473 speed: 955 wps\n",
            "Itr 626 of 1549, perplexity: 60.631 speed: 956 wps\n",
            "Itr 780 of 1549, perplexity: 59.965 speed: 956 wps\n",
            "Itr 934 of 1549, perplexity: 58.968 speed: 955 wps\n",
            "Itr 1088 of 1549, perplexity: 57.993 speed: 953 wps\n",
            "Itr 1242 of 1549, perplexity: 57.230 speed: 953 wps\n",
            "Itr 1396 of 1549, perplexity: 55.807 speed: 952 wps\n",
            "Epoch 9 : Train Perplexity: 54.837\n",
            "Epoch 9 : Valid Perplexity: 121.404\n",
            "Epoch 10 : Learning rate: 0.031\n",
            "Itr 10 of 1549, perplexity: 69.876 speed: 937 wps\n",
            "Itr 164 of 1549, perplexity: 65.480 speed: 948 wps\n",
            "Itr 318 of 1549, perplexity: 63.981 speed: 950 wps\n",
            "Itr 472 of 1549, perplexity: 61.612 speed: 950 wps\n",
            "Itr 626 of 1549, perplexity: 58.855 speed: 951 wps\n",
            "Itr 780 of 1549, perplexity: 58.228 speed: 951 wps\n",
            "Itr 934 of 1549, perplexity: 57.265 speed: 950 wps\n",
            "Itr 1088 of 1549, perplexity: 56.306 speed: 950 wps\n",
            "Itr 1242 of 1549, perplexity: 55.548 speed: 949 wps\n",
            "Itr 1396 of 1549, perplexity: 54.148 speed: 948 wps\n",
            "Epoch 10 : Train Perplexity: 53.190\n",
            "Epoch 10 : Valid Perplexity: 121.098\n",
            "Epoch 11 : Learning rate: 0.016\n",
            "Itr 10 of 1549, perplexity: 68.540 speed: 936 wps\n",
            "Itr 164 of 1549, perplexity: 64.332 speed: 943 wps\n",
            "Itr 318 of 1549, perplexity: 62.867 speed: 944 wps\n",
            "Itr 472 of 1549, perplexity: 60.573 speed: 944 wps\n",
            "Itr 626 of 1549, perplexity: 57.872 speed: 944 wps\n",
            "Itr 780 of 1549, perplexity: 57.276 speed: 944 wps\n",
            "Itr 934 of 1549, perplexity: 56.334 speed: 945 wps\n",
            "Itr 1088 of 1549, perplexity: 55.388 speed: 946 wps\n",
            "Itr 1242 of 1549, perplexity: 54.631 speed: 947 wps\n",
            "Itr 1396 of 1549, perplexity: 53.244 speed: 948 wps\n",
            "Epoch 11 : Train Perplexity: 52.293\n",
            "Epoch 11 : Valid Perplexity: 120.876\n",
            "Epoch 12 : Learning rate: 0.008\n",
            "Itr 10 of 1549, perplexity: 67.843 speed: 953 wps\n",
            "Itr 164 of 1549, perplexity: 63.718 speed: 963 wps\n",
            "Itr 318 of 1549, perplexity: 62.261 speed: 960 wps\n",
            "Itr 472 of 1549, perplexity: 60.001 speed: 961 wps\n",
            "Itr 626 of 1549, perplexity: 57.330 speed: 961 wps\n",
            "Itr 780 of 1549, perplexity: 56.746 speed: 962 wps\n",
            "Itr 934 of 1549, perplexity: 55.820 speed: 963 wps\n",
            "Itr 1088 of 1549, perplexity: 54.882 speed: 964 wps\n",
            "Itr 1242 of 1549, perplexity: 54.127 speed: 965 wps\n",
            "Itr 1396 of 1549, perplexity: 52.745 speed: 966 wps\n",
            "Epoch 12 : Train Perplexity: 51.800\n",
            "Epoch 12 : Valid Perplexity: 120.684\n",
            "Epoch 13 : Learning rate: 0.004\n",
            "Itr 10 of 1549, perplexity: 67.500 speed: 961 wps\n",
            "Itr 164 of 1549, perplexity: 63.402 speed: 967 wps\n",
            "Itr 318 of 1549, perplexity: 61.950 speed: 970 wps\n",
            "Itr 472 of 1549, perplexity: 59.701 speed: 971 wps\n",
            "Itr 626 of 1549, perplexity: 57.043 speed: 971 wps\n",
            "Itr 780 of 1549, perplexity: 56.461 speed: 971 wps\n",
            "Itr 934 of 1549, perplexity: 55.544 speed: 972 wps\n",
            "Itr 1088 of 1549, perplexity: 54.610 speed: 972 wps\n",
            "Itr 1242 of 1549, perplexity: 53.854 speed: 971 wps\n",
            "Itr 1396 of 1549, perplexity: 52.477 speed: 971 wps\n",
            "Epoch 13 : Train Perplexity: 51.534\n",
            "Epoch 13 : Valid Perplexity: 120.504\n",
            "Epoch 14 : Learning rate: 0.002\n",
            "Itr 10 of 1549, perplexity: 67.316 speed: 955 wps\n",
            "Itr 164 of 1549, perplexity: 63.226 speed: 963 wps\n",
            "Itr 318 of 1549, perplexity: 61.783 speed: 963 wps\n",
            "Itr 472 of 1549, perplexity: 59.541 speed: 967 wps\n",
            "Itr 626 of 1549, perplexity: 56.889 speed: 967 wps\n",
            "Itr 780 of 1549, perplexity: 56.310 speed: 968 wps\n",
            "Itr 934 of 1549, perplexity: 55.398 speed: 968 wps\n",
            "Itr 1088 of 1549, perplexity: 54.466 speed: 968 wps\n",
            "Itr 1242 of 1549, perplexity: 53.710 speed: 968 wps\n",
            "Itr 1396 of 1549, perplexity: 52.335 speed: 969 wps\n",
            "Epoch 14 : Train Perplexity: 51.394\n",
            "Epoch 14 : Valid Perplexity: 120.371\n",
            "Epoch 15 : Learning rate: 0.001\n",
            "Itr 10 of 1549, perplexity: 67.215 speed: 952 wps\n",
            "Itr 164 of 1549, perplexity: 63.123 speed: 970 wps\n",
            "Itr 318 of 1549, perplexity: 61.687 speed: 967 wps\n",
            "Itr 472 of 1549, perplexity: 59.452 speed: 966 wps\n",
            "Itr 626 of 1549, perplexity: 56.805 speed: 967 wps\n",
            "Itr 780 of 1549, perplexity: 56.229 speed: 967 wps\n",
            "Itr 934 of 1549, perplexity: 55.320 speed: 966 wps\n",
            "Itr 1088 of 1549, perplexity: 54.389 speed: 966 wps\n",
            "Itr 1242 of 1549, perplexity: 53.633 speed: 967 wps\n",
            "Itr 1396 of 1549, perplexity: 52.261 speed: 967 wps\n",
            "Epoch 15 : Train Perplexity: 51.320\n",
            "Epoch 15 : Valid Perplexity: 120.295\n",
            "Test Perplexity: 116.521\n"
          ]
        }
      ]
    },
    {
      "cell_type": "markdown",
      "metadata": {
        "button": false,
        "deletable": true,
        "new_sheet": false,
        "run_control": {
          "read_only": false
        },
        "id": "9mMG6UeexGEo"
      },
      "source": [
        "As you can see, the model's perplexity rating drops very quickly after a few iterations. As was elaborated before, <b>lower Perplexity means that the model is more certain about its prediction</b>. As such, we can be sure that this model is performing well!\n"
      ]
    },
    {
      "cell_type": "markdown",
      "metadata": {
        "button": false,
        "deletable": true,
        "new_sheet": false,
        "run_control": {
          "read_only": false
        },
        "id": "tUHO3NIXxGEp"
      },
      "source": [
        "***\n"
      ]
    },
    {
      "cell_type": "markdown",
      "metadata": {
        "button": false,
        "deletable": true,
        "new_sheet": false,
        "run_control": {
          "read_only": false
        },
        "id": "4CeUSzwsxGEp"
      },
      "source": [
        "This is the end of the <b>Applying Recurrent Neural Networks to Text Processing</b> notebook. Hopefully you now have a better understanding of Recurrent Neural Networks and how to implement one utilizing TensorFlow. Thank you for reading this notebook, and good luck on your studies.\n"
      ]
    },
    {
      "cell_type": "markdown",
      "metadata": {
        "button": false,
        "deletable": true,
        "new_sheet": false,
        "run_control": {
          "read_only": false
        },
        "id": "isZJdh-RxGEp"
      },
      "source": [
        "### Thanks for completing this lesson!\n",
        "\n",
        "Notebook created by <a href=\"https://br.linkedin.com/in/walter-gomes-de-amorim-junior-624726121?utm_medium=Exinfluencer&utm_source=Exinfluencer&utm_content=000026UJ&utm_term=10006555&utm_id=NA-SkillsNetwork-Channel-SkillsNetworkCoursesIBMDeveloperSkillsNetworkDL0120ENSkillsNetwork20629446-2021-01-01\">Walter Gomes de Amorim Junior</a>, <a href = \"https://linkedin.com/in/saeedaghabozorgi?utm_medium=Exinfluencer&utm_source=Exinfluencer&utm_content=000026UJ&utm_term=10006555&utm_id=NA-SkillsNetwork-Channel-SkillsNetworkCoursesIBMDeveloperSkillsNetworkDL0120ENSkillsNetwork20629446-2021-01-01\"> Saeed Aghabozorgi </a></h4>\n",
        "\n",
        "Updated to TF 2.X by  <a href=\"https://www.linkedin.com/in/samaya-madhavan?utm_medium=Exinfluencer&utm_source=Exinfluencer&utm_content=000026UJ&utm_term=10006555&utm_id=NA-SkillsNetwork-Channel-SkillsNetworkCoursesIBMDeveloperSkillsNetworkDL0120ENSkillsNetwork20629446-2021-01-01\"> Samaya Madhavan </a>\n"
      ]
    },
    {
      "cell_type": "markdown",
      "metadata": {
        "button": false,
        "deletable": true,
        "new_sheet": false,
        "run_control": {
          "read_only": false
        },
        "id": "Av1sxbmvxGEp"
      },
      "source": [
        "<hr>\n",
        "\n",
        "Copyright © 2018 [Cognitive Class](https://cocl.us/DX0108EN_CC). This notebook and its source code are released under the terms of the [MIT License](https://bigdatauniversity.com/mit-license/?utm_medium=Exinfluencer&utm_source=Exinfluencer&utm_content=000026UJ&utm_term=10006555&utm_id=NA-SkillsNetwork-Channel-SkillsNetworkCoursesIBMDeveloperSkillsNetworkDL0120ENSkillsNetwork20629446-2021-01-01).\n"
      ]
    }
  ]
}