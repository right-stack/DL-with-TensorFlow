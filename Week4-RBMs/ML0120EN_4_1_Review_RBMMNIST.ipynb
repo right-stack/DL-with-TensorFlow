{
  "nbformat": 4,
  "nbformat_minor": 0,
  "metadata": {
    "kernelspec": {
      "display_name": "Python 3",
      "language": "python",
      "name": "python3"
    },
    "language_info": {
      "codemirror_mode": {
        "name": "ipython",
        "version": 3
      },
      "file_extension": ".py",
      "mimetype": "text/x-python",
      "name": "python",
      "nbconvert_exporter": "python",
      "pygments_lexer": "ipython3",
      "version": "3.8.0"
    },
    "colab": {
      "name": "ML0120EN-4.1-Review-RBMMNIST.ipynb",
      "provenance": []
    }
  },
  "cells": [
    {
      "cell_type": "markdown",
      "metadata": {
        "id": "_knxopW4ngRy"
      },
      "source": [
        "<a href=\"https://www.skills.network/?utm_medium=Exinfluencer&utm_source=Exinfluencer&utm_content=000026UJ&utm_term=10006555&utm_id=NA-SkillsNetwork-Channel-SkillsNetworkCoursesIBMDeveloperSkillsNetworkDL0120ENSkillsNetwork20629446-2021-01-01\"><img src=\"https://cf-courses-data.s3.us.cloud-object-storage.appdomain.cloud/IBM-DL0120ENedX/labs/Template%20for%20Instructional%20Hands-on%20Labs/images/IDSNlogo.png\" width=\"400px\" align=\"center\"></a>\n",
        "\n",
        "<h1 align=\"center\"><font size=\"5\">RESTRICTED BOLTZMANN MACHINES</font></h1>\n"
      ]
    },
    {
      "cell_type": "markdown",
      "metadata": {
        "id": "8tMPEbBtngRz"
      },
      "source": [
        "<h3>Introduction</h3>\n",
        "<b>Restricted Boltzmann Machine (RBM):</b>  RBMs are shallow neural nets that learn to reconstruct data by themselves in an unsupervised fashion.  \n",
        "\n",
        "<h4>Why are RBMs important?</h4>\n",
        "An RBM are a basic form of autoencoder.  It can automatically extract <b>meaningful</b> features from a given input.\n",
        "\n",
        "<h4>How does it work?</h4>\n",
        "RBM is a 2 layer neural network. Simply, RBM takes the inputs and translates those into a set of binary values that represents them in the hidden layer. Then, these numbers can be translated back to reconstruct the inputs. Through several forward and backward passes, the RBM will be trained, and a trained RBM can reveal which features are the most important ones when detecting patterns.   \n",
        "\n",
        "<h4>What are the applications of an RBM?</h4>\n",
        "RBM is useful for <a href='http://www.cs.utoronto.ca/~hinton/absps/netflixICML.pdf?utm_medium=Exinfluencer&utm_source=Exinfluencer&utm_content=000026UJ&utm_term=10006555&utm_id=NA-SkillsNetwork-Channel-SkillsNetworkCoursesIBMDeveloperSkillsNetworkDL0120ENSkillsNetwork20629446-2021-01-01'>  Collaborative Filtering</a>, dimensionality reduction, classification, regression, feature learning, topic modeling and even <b>Deep Belief Networks</b>.\n",
        "\n",
        "<h4>Is RBM a generative or Discriminative model?</h4>\n",
        "RBM is a generative model. Let me explain it by first, see what is different between discriminative and generative models: \n",
        "\n",
        "<b>Discriminative:</b> Consider a classification problem where we want to learn to distinguish between Sedan cars (y = 1) and SUV cars (y = 0), based on some features of cars. Given a training set, an algorithm like logistic regression tries to find a straight line, or <i>decision boundary</i>, that separates the suv and sedan.\n",
        "\n",
        "<b>Generative:</b> looking at cars, we can build a model of what Sedan cars look like. Then, looking at SUVs, we can build a separate model of what SUV cars look like. Finally, to classify a new car, we can match the new car against the Sedan model, and match it against the SUV model, to see whether the new car looks more like the SUV or Sedan.\n",
        "\n",
        "Generative Models specify a probability distribution over a dataset of input vectors. We can carry out both supervised and unsupervised tasks with generative models:\n",
        "\n",
        "<ul>\n",
        "    <li>In an unsupervised task, we try to form a model for $P(x)$, where $P$ is the probability given $x$ as an input vector.</li>\n",
        "    <li>In the supervised task, we first form a model for $P(x|y)$, where $P$ is the probability of $x$ given $y$(the label for $x$). For example, if $y = 0$ indicates that a car is an SUV, and $y = 1$ indicates that a car is a sedan, then $p(x|y = 0)$ models the distribution of SUV features, and $p(x|y = 1)$ models the distribution of sedan features. If we manage to find $P(x|y)$ and $P(y)$, then we can use <b>Bayes rule</b> to estimate $P(y|x)$, because:   \n",
        "        $$p(y|x) = \\frac{p(x|y)p(y)}{p(x)}$$</li>\n",
        "</ul>\n",
        "Now the question is, can we build a generative model, and then use it to create synthetic data by directly sampling from the modeled probability distributions? Lets see. \n"
      ]
    },
    {
      "cell_type": "markdown",
      "metadata": {
        "id": "SfhZ8UMCngR0"
      },
      "source": [
        "<h2>Table of Contents</h2>\n",
        "<ol>\n",
        "    <li><a href=\"https://#ref1\">Initialization</a></li>\n",
        "    <li><a href=\"https://#ref2\">RBM layers</a></li>\n",
        "    <li><a href=\"https://#ref3\">What RBM can do after training?</a></li>\n",
        "    <li><a href=\"https://#ref4\">How to train the model?</a></li>\n",
        "    <li><a href=\"https://#ref5\">Learned features</a></li>\n",
        "</ol>\n",
        "<p></p>\n",
        "</div>\n",
        "<br>\n",
        "\n",
        "<hr>\n"
      ]
    },
    {
      "cell_type": "markdown",
      "metadata": {
        "id": "KWiMgbqTngR0"
      },
      "source": [
        "<a id=\"ref1\"></a>\n",
        "\n",
        "<h3>Initialization</h3>\n",
        "\n",
        "First, we have to load the utility file which contains different utility functions that are not connected\n",
        "in any way to the networks presented in the tutorials, but rather help in\n",
        "processing the outputs into a more understandable way.\n"
      ]
    },
    {
      "cell_type": "code",
      "metadata": {
        "id": "6rDXk-NrngR0"
      },
      "source": [
        "import urllib.request\n",
        "with urllib.request.urlopen(\"https://cf-courses-data.s3.us.cloud-object-storage.appdomain.cloud/IBMDeveloperSkillsNetwork-DL0120EN-SkillsNetwork/labs/Week4/data/utils.py\") as url:\n",
        "    response = url.read()\n",
        "target = open('utils.py', 'w')\n",
        "target.write(response.decode('utf-8'))\n",
        "target.close()"
      ],
      "execution_count": 1,
      "outputs": []
    },
    {
      "cell_type": "markdown",
      "metadata": {
        "id": "JBLxy6eangR1"
      },
      "source": [
        "<h2>Installing TensorFlow </h2>\n",
        "\n",
        "We will installing TensorFlow version 2.2.0 and its required prerequistes.  Also installing pillow\\...\n"
      ]
    },
    {
      "cell_type": "code",
      "metadata": {
        "colab": {
          "base_uri": "https://localhost:8080/"
        },
        "id": "vh6xoBhIngR1",
        "outputId": "c4df8418-0cde-497e-ac9f-48a7db3a1175"
      },
      "source": [
        "!pip install grpcio==1.24.3\n",
        "!pip install tensorflow==2.2.0\n",
        "!pip install pillow"
      ],
      "execution_count": 2,
      "outputs": [
        {
          "output_type": "stream",
          "name": "stdout",
          "text": [
            "Collecting grpcio==1.24.3\n",
            "  Downloading grpcio-1.24.3-cp37-cp37m-manylinux2010_x86_64.whl (2.2 MB)\n",
            "\u001b[K     |████████████████████████████████| 2.2 MB 7.2 MB/s \n",
            "\u001b[?25hRequirement already satisfied: six>=1.5.2 in /usr/local/lib/python3.7/dist-packages (from grpcio==1.24.3) (1.15.0)\n",
            "Installing collected packages: grpcio\n",
            "  Attempting uninstall: grpcio\n",
            "    Found existing installation: grpcio 1.41.0\n",
            "    Uninstalling grpcio-1.41.0:\n",
            "      Successfully uninstalled grpcio-1.41.0\n",
            "\u001b[31mERROR: pip's dependency resolver does not currently take into account all the packages that are installed. This behaviour is the source of the following dependency conflicts.\n",
            "tensorflow 2.6.0 requires grpcio<2.0,>=1.37.0, but you have grpcio 1.24.3 which is incompatible.\u001b[0m\n",
            "Successfully installed grpcio-1.24.3\n",
            "Collecting tensorflow==2.2.0\n",
            "  Downloading tensorflow-2.2.0-cp37-cp37m-manylinux2010_x86_64.whl (516.2 MB)\n",
            "\u001b[K     |████████████████████████████████| 516.2 MB 4.3 kB/s \n",
            "\u001b[?25hRequirement already satisfied: termcolor>=1.1.0 in /usr/local/lib/python3.7/dist-packages (from tensorflow==2.2.0) (1.1.0)\n",
            "Requirement already satisfied: wheel>=0.26 in /usr/local/lib/python3.7/dist-packages (from tensorflow==2.2.0) (0.37.0)\n",
            "Requirement already satisfied: absl-py>=0.7.0 in /usr/local/lib/python3.7/dist-packages (from tensorflow==2.2.0) (0.12.0)\n",
            "Requirement already satisfied: opt-einsum>=2.3.2 in /usr/local/lib/python3.7/dist-packages (from tensorflow==2.2.0) (3.3.0)\n",
            "Requirement already satisfied: keras-preprocessing>=1.1.0 in /usr/local/lib/python3.7/dist-packages (from tensorflow==2.2.0) (1.1.2)\n",
            "Requirement already satisfied: grpcio>=1.8.6 in /usr/local/lib/python3.7/dist-packages (from tensorflow==2.2.0) (1.24.3)\n",
            "Collecting tensorflow-estimator<2.3.0,>=2.2.0\n",
            "  Downloading tensorflow_estimator-2.2.0-py2.py3-none-any.whl (454 kB)\n",
            "\u001b[K     |████████████████████████████████| 454 kB 49.7 MB/s \n",
            "\u001b[?25hRequirement already satisfied: astunparse==1.6.3 in /usr/local/lib/python3.7/dist-packages (from tensorflow==2.2.0) (1.6.3)\n",
            "Collecting h5py<2.11.0,>=2.10.0\n",
            "  Downloading h5py-2.10.0-cp37-cp37m-manylinux1_x86_64.whl (2.9 MB)\n",
            "\u001b[K     |████████████████████████████████| 2.9 MB 42.1 MB/s \n",
            "\u001b[?25hRequirement already satisfied: google-pasta>=0.1.8 in /usr/local/lib/python3.7/dist-packages (from tensorflow==2.2.0) (0.2.0)\n",
            "Collecting tensorboard<2.3.0,>=2.2.0\n",
            "  Downloading tensorboard-2.2.2-py3-none-any.whl (3.0 MB)\n",
            "\u001b[K     |████████████████████████████████| 3.0 MB 22.4 MB/s \n",
            "\u001b[?25hRequirement already satisfied: six>=1.12.0 in /usr/local/lib/python3.7/dist-packages (from tensorflow==2.2.0) (1.15.0)\n",
            "Collecting gast==0.3.3\n",
            "  Downloading gast-0.3.3-py2.py3-none-any.whl (9.7 kB)\n",
            "Requirement already satisfied: numpy<2.0,>=1.16.0 in /usr/local/lib/python3.7/dist-packages (from tensorflow==2.2.0) (1.19.5)\n",
            "Requirement already satisfied: wrapt>=1.11.1 in /usr/local/lib/python3.7/dist-packages (from tensorflow==2.2.0) (1.12.1)\n",
            "Requirement already satisfied: protobuf>=3.8.0 in /usr/local/lib/python3.7/dist-packages (from tensorflow==2.2.0) (3.17.3)\n",
            "Requirement already satisfied: scipy==1.4.1 in /usr/local/lib/python3.7/dist-packages (from tensorflow==2.2.0) (1.4.1)\n",
            "Requirement already satisfied: markdown>=2.6.8 in /usr/local/lib/python3.7/dist-packages (from tensorboard<2.3.0,>=2.2.0->tensorflow==2.2.0) (3.3.4)\n",
            "Requirement already satisfied: requests<3,>=2.21.0 in /usr/local/lib/python3.7/dist-packages (from tensorboard<2.3.0,>=2.2.0->tensorflow==2.2.0) (2.23.0)\n",
            "Requirement already satisfied: google-auth-oauthlib<0.5,>=0.4.1 in /usr/local/lib/python3.7/dist-packages (from tensorboard<2.3.0,>=2.2.0->tensorflow==2.2.0) (0.4.6)\n",
            "Requirement already satisfied: tensorboard-plugin-wit>=1.6.0 in /usr/local/lib/python3.7/dist-packages (from tensorboard<2.3.0,>=2.2.0->tensorflow==2.2.0) (1.8.0)\n",
            "Requirement already satisfied: setuptools>=41.0.0 in /usr/local/lib/python3.7/dist-packages (from tensorboard<2.3.0,>=2.2.0->tensorflow==2.2.0) (57.4.0)\n",
            "Requirement already satisfied: google-auth<2,>=1.6.3 in /usr/local/lib/python3.7/dist-packages (from tensorboard<2.3.0,>=2.2.0->tensorflow==2.2.0) (1.35.0)\n",
            "Requirement already satisfied: werkzeug>=0.11.15 in /usr/local/lib/python3.7/dist-packages (from tensorboard<2.3.0,>=2.2.0->tensorflow==2.2.0) (1.0.1)\n",
            "Requirement already satisfied: pyasn1-modules>=0.2.1 in /usr/local/lib/python3.7/dist-packages (from google-auth<2,>=1.6.3->tensorboard<2.3.0,>=2.2.0->tensorflow==2.2.0) (0.2.8)\n",
            "Requirement already satisfied: cachetools<5.0,>=2.0.0 in /usr/local/lib/python3.7/dist-packages (from google-auth<2,>=1.6.3->tensorboard<2.3.0,>=2.2.0->tensorflow==2.2.0) (4.2.4)\n",
            "Requirement already satisfied: rsa<5,>=3.1.4 in /usr/local/lib/python3.7/dist-packages (from google-auth<2,>=1.6.3->tensorboard<2.3.0,>=2.2.0->tensorflow==2.2.0) (4.7.2)\n",
            "Requirement already satisfied: requests-oauthlib>=0.7.0 in /usr/local/lib/python3.7/dist-packages (from google-auth-oauthlib<0.5,>=0.4.1->tensorboard<2.3.0,>=2.2.0->tensorflow==2.2.0) (1.3.0)\n",
            "Requirement already satisfied: importlib-metadata in /usr/local/lib/python3.7/dist-packages (from markdown>=2.6.8->tensorboard<2.3.0,>=2.2.0->tensorflow==2.2.0) (4.8.1)\n",
            "Requirement already satisfied: pyasn1<0.5.0,>=0.4.6 in /usr/local/lib/python3.7/dist-packages (from pyasn1-modules>=0.2.1->google-auth<2,>=1.6.3->tensorboard<2.3.0,>=2.2.0->tensorflow==2.2.0) (0.4.8)\n",
            "Requirement already satisfied: urllib3!=1.25.0,!=1.25.1,<1.26,>=1.21.1 in /usr/local/lib/python3.7/dist-packages (from requests<3,>=2.21.0->tensorboard<2.3.0,>=2.2.0->tensorflow==2.2.0) (1.24.3)\n",
            "Requirement already satisfied: idna<3,>=2.5 in /usr/local/lib/python3.7/dist-packages (from requests<3,>=2.21.0->tensorboard<2.3.0,>=2.2.0->tensorflow==2.2.0) (2.10)\n",
            "Requirement already satisfied: certifi>=2017.4.17 in /usr/local/lib/python3.7/dist-packages (from requests<3,>=2.21.0->tensorboard<2.3.0,>=2.2.0->tensorflow==2.2.0) (2021.5.30)\n",
            "Requirement already satisfied: chardet<4,>=3.0.2 in /usr/local/lib/python3.7/dist-packages (from requests<3,>=2.21.0->tensorboard<2.3.0,>=2.2.0->tensorflow==2.2.0) (3.0.4)\n",
            "Requirement already satisfied: oauthlib>=3.0.0 in /usr/local/lib/python3.7/dist-packages (from requests-oauthlib>=0.7.0->google-auth-oauthlib<0.5,>=0.4.1->tensorboard<2.3.0,>=2.2.0->tensorflow==2.2.0) (3.1.1)\n",
            "Requirement already satisfied: zipp>=0.5 in /usr/local/lib/python3.7/dist-packages (from importlib-metadata->markdown>=2.6.8->tensorboard<2.3.0,>=2.2.0->tensorflow==2.2.0) (3.6.0)\n",
            "Requirement already satisfied: typing-extensions>=3.6.4 in /usr/local/lib/python3.7/dist-packages (from importlib-metadata->markdown>=2.6.8->tensorboard<2.3.0,>=2.2.0->tensorflow==2.2.0) (3.7.4.3)\n",
            "Installing collected packages: tensorflow-estimator, tensorboard, h5py, gast, tensorflow\n",
            "  Attempting uninstall: tensorflow-estimator\n",
            "    Found existing installation: tensorflow-estimator 2.6.0\n",
            "    Uninstalling tensorflow-estimator-2.6.0:\n",
            "      Successfully uninstalled tensorflow-estimator-2.6.0\n",
            "  Attempting uninstall: tensorboard\n",
            "    Found existing installation: tensorboard 2.6.0\n",
            "    Uninstalling tensorboard-2.6.0:\n",
            "      Successfully uninstalled tensorboard-2.6.0\n",
            "  Attempting uninstall: h5py\n",
            "    Found existing installation: h5py 3.1.0\n",
            "    Uninstalling h5py-3.1.0:\n",
            "      Successfully uninstalled h5py-3.1.0\n",
            "  Attempting uninstall: gast\n",
            "    Found existing installation: gast 0.4.0\n",
            "    Uninstalling gast-0.4.0:\n",
            "      Successfully uninstalled gast-0.4.0\n",
            "  Attempting uninstall: tensorflow\n",
            "    Found existing installation: tensorflow 2.6.0\n",
            "    Uninstalling tensorflow-2.6.0:\n",
            "      Successfully uninstalled tensorflow-2.6.0\n",
            "Successfully installed gast-0.3.3 h5py-2.10.0 tensorboard-2.2.2 tensorflow-2.2.0 tensorflow-estimator-2.2.0\n",
            "Requirement already satisfied: pillow in /usr/local/lib/python3.7/dist-packages (7.1.2)\n"
          ]
        }
      ]
    },
    {
      "cell_type": "markdown",
      "metadata": {
        "id": "9g5jfGfCngR1"
      },
      "source": [
        "<b>Notice:</b> This notebook has been created with TensorFlow version 2.2, and might not work with other versions. Therefore we check:\n"
      ]
    },
    {
      "cell_type": "code",
      "metadata": {
        "id": "JMnBVi4vngR2"
      },
      "source": [
        "import tensorflow as tf\n",
        "from IPython.display import Markdown, display\n",
        "\n",
        "def printmd(string):\n",
        "    display(Markdown('# <span style=\"color:red\">'+string+'</span>'))\n",
        "\n",
        "\n",
        "if not tf.__version__ == '2.2.0':\n",
        "    printmd('<<<<<!!!!! ERROR !!!! please upgrade to TensorFlow 2.2.0, or restart your Kernel (Kernel->Restart & Clear Output)>>>>>')"
      ],
      "execution_count": 3,
      "outputs": []
    },
    {
      "cell_type": "markdown",
      "metadata": {
        "id": "-lz1zJrZngR2"
      },
      "source": [
        "Now, we load in all the packages that we use to create the net including the TensorFlow package:\n"
      ]
    },
    {
      "cell_type": "code",
      "metadata": {
        "id": "ylKKILwVngR2"
      },
      "source": [
        "import tensorflow as tf\n",
        "import numpy as np\n",
        "\n",
        "from PIL import Image\n",
        "from utils import tile_raster_images\n",
        "import matplotlib.pyplot as plt\n",
        "%matplotlib inline"
      ],
      "execution_count": 4,
      "outputs": []
    },
    {
      "cell_type": "markdown",
      "metadata": {
        "id": "D5FUxJhrngR2"
      },
      "source": [
        "<hr>\n"
      ]
    },
    {
      "cell_type": "markdown",
      "metadata": {
        "id": "xiJzWacpngR2"
      },
      "source": [
        "<a id=\"ref2\"></a>\n",
        "\n",
        "<h3>RBM layers</h3>\n",
        "\n",
        "An RBM has two layers. The first layer of the RBM is called the <b>visible</b> (or input layer). Imagine that our toy example, has only vectors with 7 values, so the visible layer must have $V=7$ input nodes.\n",
        "The second layer is the <b>hidden</b> layer, which has $H$ neurons in our case. Each hidden node takes on values of either 0 or 1 (i.e., $h_i = 1$ or $h_i$ = 0), with a probability that is a logistic function of the inputs it receives from the other $V$ visible units, called for example, $p(h_i = 1)$. For our toy sample, we'll use 2 nodes in the hidden layer, so $H = 2$.\n",
        "\n",
        "<center><img src=\"https://ibm.box.com/shared/static/eu26opvcefgls6vnwuo29uwp0nudmokh.png\" alt=\"RBM Model\" style=\"width: 400px;\"></center>\n"
      ]
    },
    {
      "cell_type": "markdown",
      "metadata": {
        "id": "g9gdGoPCngR3"
      },
      "source": [
        "Each node in the first layer also has a <b>bias</b>. We will denote the bias as $v\\_{bias}$, and this single value is shared among the $V$ visible units.\n",
        "\n",
        "The <b>bias</b> of the second is defined similarly as $h\\_{bias}$, and this single value among the $H$ hidden units.\n"
      ]
    },
    {
      "cell_type": "code",
      "metadata": {
        "id": "_gyKnRj7ngR3"
      },
      "source": [
        "v_bias = tf.Variable(tf.zeros([7]), tf.float32)\n",
        "h_bias = tf.Variable(tf.zeros([2]), tf.float32)"
      ],
      "execution_count": 5,
      "outputs": []
    },
    {
      "cell_type": "markdown",
      "metadata": {
        "id": "dRhceDWXngR3"
      },
      "source": [
        "We have to define weights among the input layer and hidden layer nodes. In the weight matrix, the number of rows are equal to the input nodes, and the number of columns are equal to the output nodes. We define a tensor $\\mathbf{W}$ of shape = (7,2), where the number of visible neurons = 7, and the number of hidden neurons = 2.\n"
      ]
    },
    {
      "cell_type": "code",
      "metadata": {
        "id": "kiz9MBdgngR3"
      },
      "source": [
        "W = tf.constant(np.random.normal(loc=0.0, scale=1.0, size=(7, 2)).astype(np.float32))"
      ],
      "execution_count": 6,
      "outputs": []
    },
    {
      "cell_type": "markdown",
      "metadata": {
        "id": "zqHETQEEngR3"
      },
      "source": [
        "<hr>\n"
      ]
    },
    {
      "cell_type": "markdown",
      "metadata": {
        "id": "oWpoYfusngR3"
      },
      "source": [
        "<a id=\"ref3\"></a>\n",
        "\n",
        "<h3>What RBM can do after training?</h3>\n",
        "Think of RBM as a model that has been trained based on images of a dataset of many SUV and sedan cars. Also, imagine that the RBM network has only two hidden nodes, where one node encodes the weight and, and the other encodes the size.  \n",
        "In a sense, the different configurations represent different cars, where one is an SUV and the other is Sedan.  In a training process, through many forward and backward passes, the RBM adjust its weights to send a stronger signal to either the SUV node (0, 1) or the sedan node (1, 0) in the hidden layer, given the pixels of images. Now, given an SUV in hidden layer, which distribution of pixels should we expect? RBM can give you 2 things. First, it encodes your images in hidden layer. Second, it gives you the probability of observing a case, given some hidden values.\n",
        "\n",
        "<h3>The Inference Process</h3>\n",
        "\n",
        "RBM has two phases:\n",
        "\n",
        "<ul>\n",
        "    <li>Forward Pass</li>  \n",
        "    <li>Backward Pass or Reconstruction</li>\n",
        "</ul>\n",
        "\n",
        "<b>Phase 1) Forward pass:</b>\n",
        "\n",
        "Input one training sample (one image) $\\mathbf{x}$ through all visible nodes, and pass it to all hidden nodes. Processing happens in each node in the hidden layer. This computation begins by making stochastic decisions about whether to transmit that input or not (i.e. to determine the state of each hidden layer).  First, the probability vector is computed using the input feature vector $\\mathbf{x}$, the weight matrix $\\mathbf{W}$, and the bias term $h\\_{bias}$, as\n",
        "\n",
        "$$p({h_j}|\\mathbf x)= \\sigma( \\sum\\_{i=1}^V W\\_{ij} x_i + h\\_{bias} )$$,\n",
        "\n",
        "where $\\sigma(z) = (1+e^{-z})^{-1}$ is the logistic function.\n",
        "\n",
        "So, what does $p({h_j})$ represent? It is the <b>probability distribution</b> of the hidden units. That is, RBM uses inputs $x_i$ to make predictions about hidden node activations. For example, imagine that the hidden node activation values are \\[0.51 0.84] for the first training item. It tells you that the conditional probability for each hidden neuron for Phase 1 is:\n",
        "\n",
        "$$p(h\\_{1} = 1|\\mathbf{v}) = 0.51$$\n",
        "$$p(h\\_{2} = 1|\\mathbf{v}) = 0.84$$\n",
        "\n",
        "As a result, for each row in the training set, vector of probabilities is generated.  In TensorFlow, this is referred to as a `tensor` with a shape of (1,2).\n",
        "\n",
        "We then turn unit $j$ with probability $p(h\\_{j}|\\mathbf{v})$, and turn it off with probability $1 - p(h\\_{j}|\\mathbf{v})$ by generating a uniform random number vector $\\mathbf{\\xi}$, and comparing it to the activation probability as\n",
        "\n",
        "<center>If $\\xi_j>p(h_{j}|\\mathbf{v})$, then $h_j=1$, else $h_j=0$.</center>\n",
        "\n",
        "Therefore, the conditional probability of a configuration of $\\mathbf{h}$ given $\\mathbf{v}$ (for a training sample) is:\n",
        "\n",
        "$$p(\\mathbf{h} \\mid \\mathbf{v}) = \\prod\\_{j=1}^H p(h_j \\mid \\mathbf{v})$$\n",
        "\n",
        "where $H$ is the number of hidden units.\n"
      ]
    },
    {
      "cell_type": "markdown",
      "metadata": {
        "id": "LMjnmPYkngR4"
      },
      "source": [
        "Before we go further, let's look at a toy example for one case out of all input. Assume that we have a trained RBM, and a very simple input vector, such as \\[1.0, 0.0, 0.0, 1.0, 0.0, 0.0, 0.0].\\\n",
        "Let's see what the output of forward pass would look like:\n"
      ]
    },
    {
      "cell_type": "code",
      "metadata": {
        "colab": {
          "base_uri": "https://localhost:8080/"
        },
        "id": "vE42AaZgngR4",
        "outputId": "df9bb69e-f889-4d5e-f79f-18d3e248b7a7"
      },
      "source": [
        "X = tf.constant([[1.0, 0.0, 0.0, 1.0, 0.0, 0.0, 0.0]], tf.float32)\n",
        "\n",
        "v_state = X\n",
        "print (\"Input: \", v_state)\n",
        "\n",
        "h_bias = tf.constant([0.1, 0.1])\n",
        "print (\"hb: \", h_bias)\n",
        "print (\"w: \", W)\n",
        "\n",
        "# Calculate the probabilities of turning the hidden units on:\n",
        "h_prob = tf.nn.sigmoid(tf.matmul(v_state, W) + h_bias)  #probabilities of the hidden units\n",
        "print (\"p(h|v): \", h_prob)\n",
        "\n",
        "# Draw samples from the distribution:\n",
        "h_state = tf.nn.relu(tf.sign(h_prob - tf.random.uniform(tf.shape(h_prob)))) #states\n",
        "print (\"h0 states:\", h_state)"
      ],
      "execution_count": 7,
      "outputs": [
        {
          "output_type": "stream",
          "name": "stdout",
          "text": [
            "Input:  tf.Tensor([[1. 0. 0. 1. 0. 0. 0.]], shape=(1, 7), dtype=float32)\n",
            "hb:  tf.Tensor([0.1 0.1], shape=(2,), dtype=float32)\n",
            "w:  tf.Tensor(\n",
            "[[-7.1621299e-01  1.0513408e-01]\n",
            " [-6.4248301e-04  4.1052669e-01]\n",
            " [ 7.4348545e-01  7.6541537e-01]\n",
            " [-3.6087447e-01 -1.4433877e-01]\n",
            " [-8.3904624e-01  7.8077638e-01]\n",
            " [ 5.1047671e-01 -9.5715085e-03]\n",
            " [-3.2804409e-01 -1.2617029e+00]], shape=(7, 2), dtype=float32)\n",
            "p(h|v):  tf.Tensor([[0.27347007 0.5151941 ]], shape=(1, 2), dtype=float32)\n",
            "h0 states: tf.Tensor([[0. 0.]], shape=(1, 2), dtype=float32)\n"
          ]
        }
      ]
    },
    {
      "cell_type": "markdown",
      "metadata": {
        "id": "vrp6FMqtngR4"
      },
      "source": [
        "<b>Phase 2) Backward Pass (Reconstruction):</b>\n",
        "The RBM reconstructs data by making several forward and backward passes between the visible and hidden layers.\n",
        "\n",
        "So, in the second phase (i.e. reconstruction phase), the samples from the hidden layer (i.e. $\\mathbf h$) becomes the input in the backward pass. The same weight matrix and visible layer biases are used to passed to the sigmoid function. The reproduced output is a reconstruction which is an approximation of the original input.\n"
      ]
    },
    {
      "cell_type": "code",
      "metadata": {
        "colab": {
          "base_uri": "https://localhost:8080/"
        },
        "id": "tVcxK1ixngR4",
        "outputId": "1327f550-dfb1-4dc8-9d83-497c811cdd63"
      },
      "source": [
        "vb = tf.constant([0.1, 0.2, 0.1, 0.1, 0.1, 0.2, 0.1])\n",
        "print (\"b: \", vb)\n",
        "v_prob = tf.nn.sigmoid(tf.matmul(h_state, tf.transpose(W)) + vb)\n",
        "print (\"p(vi∣h): \", v_prob)\n",
        "v_state = tf.nn.relu(tf.sign(v_prob - tf.random.uniform(tf.shape(v_prob))))\n",
        "print (\"v probability states: \", v_state)"
      ],
      "execution_count": 8,
      "outputs": [
        {
          "output_type": "stream",
          "name": "stdout",
          "text": [
            "b:  tf.Tensor([0.1 0.2 0.1 0.1 0.1 0.2 0.1], shape=(7,), dtype=float32)\n",
            "p(vi∣h):  tf.Tensor(\n",
            "[[0.5249792  0.54983395 0.5249792  0.5249792  0.5249792  0.54983395\n",
            "  0.5249792 ]], shape=(1, 7), dtype=float32)\n",
            "v probability states:  tf.Tensor([[1. 1. 0. 1. 0. 0. 1.]], shape=(1, 7), dtype=float32)\n"
          ]
        }
      ]
    },
    {
      "cell_type": "markdown",
      "metadata": {
        "id": "tLx4RWAangR-"
      },
      "source": [
        "RBM learns a probability distribution over the input, and then, after being trained, the RBM can generate new samples from the learned probability distribution. As you know, <b>probability distribution</b>, is a mathematical function that provides the probabilities of occurrence of different possible outcomes in an experiment.\n",
        "\n",
        "The (conditional) probability distribution over the visible units v is given by\n",
        "\n",
        "$$p(\\mathbf{v} \\mid \\mathbf{h}) = \\prod\\_{i=1}^V p(v_i \\mid \\mathbf{h}),$$\n",
        "\n",
        "where,\n",
        "\n",
        "$$p(v_i \\mid \\mathbf{h}) = \\sigma\\left(\\sum\\_{j=1}^H W\\_{ji} h_j + v\\_{bias} \\right)$$\n",
        "\n",
        "so, given current state of hidden units and weights, what is the probability of generating \\[1. 0. 0. 1. 0. 0. 0.] in reconstruction phase, based on the above <b>probability distribution</b> function?\n"
      ]
    },
    {
      "cell_type": "code",
      "metadata": {
        "colab": {
          "base_uri": "https://localhost:8080/"
        },
        "id": "diTAQx3jngR-",
        "outputId": "7fe34c8f-2be9-4684-95b2-a226200365ad"
      },
      "source": [
        "inp = X\n",
        "print(\"input X:\" , inp.numpy())\n",
        "\n",
        "print(\"probablity vector:\" , v_prob[0].numpy())\n",
        "v_probability = 1\n",
        "\n",
        "for elm, p in zip(inp[0],v_prob[0]) :\n",
        "    if elm ==1:\n",
        "        v_probability *= p\n",
        "    else:\n",
        "        v_probability *= (1-p)\n",
        "\n",
        "print(\"probability of generating X: \" , v_probability.numpy())"
      ],
      "execution_count": 9,
      "outputs": [
        {
          "output_type": "stream",
          "name": "stdout",
          "text": [
            "input X: [[1. 0. 0. 1. 0. 0. 0.]]\n",
            "probablity vector: [0.5249792  0.54983395 0.5249792  0.5249792  0.5249792  0.54983395\n",
            " 0.5249792 ]\n",
            "probability of generating X:  0.0059864256\n"
          ]
        }
      ]
    },
    {
      "cell_type": "markdown",
      "metadata": {
        "id": "BcRWaA_angR_"
      },
      "source": [
        "How similar are vectors $\\mathbf{x}$ and $\\mathbf{v}$? Of course, the reconstructed values most likely will not look anything like the input vector, because our network has not been trained yet. Our objective is to train the model in such a way that the input vector and reconstructed vector to be same. Therefore, based on how different the input values look to the ones that we just reconstructed, the weights are adjusted.\n"
      ]
    },
    {
      "cell_type": "markdown",
      "metadata": {
        "id": "lnJo4gJyngR_"
      },
      "source": [
        "<hr>\n"
      ]
    },
    {
      "cell_type": "markdown",
      "metadata": {
        "id": "pTMCXMH0ngR_"
      },
      "source": [
        "<h2>MNIST</h2>\n"
      ]
    },
    {
      "cell_type": "markdown",
      "metadata": {
        "id": "t9VZsaWJngR_"
      },
      "source": [
        "We will be using the MNIST dataset to practice the usage of RBMs. The following cell loads the MNIST dataset.\n"
      ]
    },
    {
      "cell_type": "code",
      "metadata": {
        "colab": {
          "base_uri": "https://localhost:8080/"
        },
        "id": "652Vk1NBngR_",
        "outputId": "1d736b66-8840-4ba3-9b3d-49b3c0281114"
      },
      "source": [
        "#loading training and test data\n",
        "mnist = tf.keras.datasets.mnist\n",
        "(trX, trY), (teX, teY) = mnist.load_data()\n",
        "\n",
        "# showing an example of the Flatten class and operation\n",
        "from tensorflow.keras.layers import Flatten\n",
        "flatten = Flatten(dtype='float32')\n",
        "trX = flatten(trX/255.0)\n",
        "trY = flatten(trY/255.0)"
      ],
      "execution_count": 10,
      "outputs": [
        {
          "output_type": "stream",
          "name": "stdout",
          "text": [
            "Downloading data from https://storage.googleapis.com/tensorflow/tf-keras-datasets/mnist.npz\n",
            "11493376/11490434 [==============================] - 0s 0us/step\n"
          ]
        }
      ]
    },
    {
      "cell_type": "markdown",
      "metadata": {
        "id": "yMvqEif7ngR_"
      },
      "source": [
        "Lets look at the dimension of the images.\n"
      ]
    },
    {
      "cell_type": "markdown",
      "metadata": {
        "id": "foa4kkjangR_"
      },
      "source": [
        "MNIST images have 784 pixels, so the visible layer must have 784 input nodes.  For our case, we'll use 50 nodes in the hidden layer, so i = 50.\n"
      ]
    },
    {
      "cell_type": "code",
      "metadata": {
        "collapsed": true,
        "jupyter": {
          "outputs_hidden": true
        },
        "id": "0ObKbQlSngR_"
      },
      "source": [
        "vb = tf.Variable(tf.zeros([784]), tf.float32)\n",
        "hb = tf.Variable(tf.zeros([50]), tf.float32)"
      ],
      "execution_count": 11,
      "outputs": []
    },
    {
      "cell_type": "markdown",
      "metadata": {
        "id": "Mb0KV8IYngSA"
      },
      "source": [
        "Let $\\mathbf W$ be the Tensor of 784x50 (784 - number of visible neurons, 50 - number of hidden neurons) that represents weights between the neurons.\n"
      ]
    },
    {
      "cell_type": "code",
      "metadata": {
        "collapsed": true,
        "jupyter": {
          "outputs_hidden": true
        },
        "id": "DqYoVQzqngSA"
      },
      "source": [
        "W = tf.Variable(tf.zeros([784,50]), tf.float32)"
      ],
      "execution_count": 12,
      "outputs": []
    },
    {
      "cell_type": "markdown",
      "metadata": {
        "id": "LeEVizxDngSA"
      },
      "source": [
        "Lets define the visible layer:\n"
      ]
    },
    {
      "cell_type": "code",
      "metadata": {
        "colab": {
          "base_uri": "https://localhost:8080/"
        },
        "id": "h_X-AG9engSA",
        "outputId": "744d8a17-f01b-452a-c906-8cf807150e4e"
      },
      "source": [
        "v0_state = tf.Variable(tf.zeros([784]), tf.float32)\n",
        "\n",
        "#testing to see if the matrix product works\n",
        "tf.matmul( [v0_state], W)"
      ],
      "execution_count": 13,
      "outputs": [
        {
          "output_type": "execute_result",
          "data": {
            "text/plain": [
              "<tf.Tensor: shape=(1, 50), dtype=float32, numpy=\n",
              "array([[0., 0., 0., 0., 0., 0., 0., 0., 0., 0., 0., 0., 0., 0., 0., 0.,\n",
              "        0., 0., 0., 0., 0., 0., 0., 0., 0., 0., 0., 0., 0., 0., 0., 0.,\n",
              "        0., 0., 0., 0., 0., 0., 0., 0., 0., 0., 0., 0., 0., 0., 0., 0.,\n",
              "        0., 0.]], dtype=float32)>"
            ]
          },
          "metadata": {},
          "execution_count": 13
        }
      ]
    },
    {
      "cell_type": "markdown",
      "metadata": {
        "id": "RVoHn7TDngSA"
      },
      "source": [
        "Now, we can define hidden layer:\n"
      ]
    },
    {
      "cell_type": "code",
      "metadata": {
        "colab": {
          "base_uri": "https://localhost:8080/"
        },
        "id": "FsBS41a-ngSA",
        "outputId": "96137405-66d0-4987-98cc-05a66d2e66d8"
      },
      "source": [
        "#computing the hidden nodes probability vector and checking shape\n",
        "h0_prob = tf.nn.sigmoid(tf.matmul([v0_state], W) + hb)  #probabilities of the hidden units\n",
        "print(\"h0_state shape: \" , tf.shape(h0_prob))\n",
        "\n",
        "#defining a function to return only the generated hidden states \n",
        "def hidden_layer(v0_state, W, hb):\n",
        "    h0_prob = tf.nn.sigmoid(tf.matmul([v0_state], W) + hb)  #probabilities of the hidden units\n",
        "    h0_state = tf.nn.relu(tf.sign(h0_prob - tf.random.uniform(tf.shape(h0_prob)))) #sample_h_given_X\n",
        "    return h0_state\n",
        "\n",
        "\n",
        "h0_state = hidden_layer(v0_state, W, hb)\n",
        "print(\"first 15 hidden states: \", h0_state[0][0:15])"
      ],
      "execution_count": 14,
      "outputs": [
        {
          "output_type": "stream",
          "name": "stdout",
          "text": [
            "h0_state shape:  tf.Tensor([ 1 50], shape=(2,), dtype=int32)\n",
            "first 15 hidden states:  tf.Tensor([1. 1. 0. 1. 0. 0. 0. 1. 0. 1. 0. 1. 1. 0. 1.], shape=(15,), dtype=float32)\n"
          ]
        }
      ]
    },
    {
      "cell_type": "markdown",
      "metadata": {
        "id": "F86Xpr1XngSA"
      },
      "source": [
        "Now, we define reconstruction part:\n"
      ]
    },
    {
      "cell_type": "code",
      "metadata": {
        "colab": {
          "base_uri": "https://localhost:8080/"
        },
        "id": "ms6W0v40ngSA",
        "outputId": "02861cee-d102-457b-d767-37c4c7ce6853"
      },
      "source": [
        "def reconstructed_output(h0_state, W, vb):\n",
        "    v1_prob = tf.nn.sigmoid(tf.matmul(h0_state, tf.transpose(W)) + vb) \n",
        "    v1_state = tf.nn.relu(tf.sign(v1_prob - tf.random.uniform(tf.shape(v1_prob)))) #sample_v_given_h\n",
        "    return v1_state[0]\n",
        "\n",
        "v1_state = reconstructed_output(h0_state, W, vb)\n",
        "print(\"hidden state shape: \", h0_state.shape)\n",
        "print(\"v0 state shape:  \", v0_state.shape)\n",
        "print(\"v1 state shape:  \", v1_state.shape)"
      ],
      "execution_count": 15,
      "outputs": [
        {
          "output_type": "stream",
          "name": "stdout",
          "text": [
            "hidden state shape:  (1, 50)\n",
            "v0 state shape:   (784,)\n",
            "v1 state shape:   (784,)\n"
          ]
        }
      ]
    },
    {
      "cell_type": "markdown",
      "metadata": {
        "id": "Q__AXYzDngSB"
      },
      "source": [
        "<h3>What is the objective function?</h3>\n",
        "\n",
        "<b>Goal</b>: Maximize the likelihood of our data being drawn from that distribution\n",
        "\n",
        "<b>Calculate error:</b>\\\n",
        "In each epoch, we compute the \"error\" as a sum of the squared difference between step 1 and step n,\n",
        "e.g the error shows the difference between the data and its reconstruction.\n",
        "\n",
        "<b>Note:</b> tf.reduce_mean computes the mean of elements across dimensions of a tensor.\n"
      ]
    },
    {
      "cell_type": "code",
      "metadata": {
        "colab": {
          "base_uri": "https://localhost:8080/"
        },
        "id": "GjLRyQVengSB",
        "outputId": "c7974121-eba0-44ad-ff2c-7ad23b30b2a2"
      },
      "source": [
        "def error(v0_state, v1_state):\n",
        "    return tf.reduce_mean(tf.square(v0_state - v1_state))\n",
        "\n",
        "err = tf.reduce_mean(tf.square(v0_state - v1_state))\n",
        "print(\"error\" , err.numpy())"
      ],
      "execution_count": 16,
      "outputs": [
        {
          "output_type": "stream",
          "name": "stdout",
          "text": [
            "error 0.5089286\n"
          ]
        }
      ]
    },
    {
      "cell_type": "markdown",
      "metadata": {
        "id": "dnNz84YangSB"
      },
      "source": [
        "<a id=\"ref4\"></a>\n",
        "\n",
        "<h3>Training the Model</h3>\n",
        "<b>Warning...</b> The following part is math-heavy, but you can skip it if you just want to run the cells in the next section.\n",
        "\n",
        "As mentioned, we want to give a high probability to the input data we train on. So, in order to train an RBM, we have to maximize the product of probabilities assigned to all rows $\\mathbf{v}$ (images) in the training set $\\mathbf{V}$ (a matrix, where each row of it is treated as a visible vector $\\mathbf{v}$)\n",
        "\n",
        "$$\\arg \\max_W \\prod\\_{\\mathbf{v}\\in\\mathbf{V}\\_T} p(\\mathbf{v})$$\n",
        "\n",
        "which is equivalent to maximizing the expectation of the log probability, given as\n",
        "\n",
        "$$\\arg\\max_W\\left\\[ \\mathbb{E} \\left(\\prod\\_{\\mathbf v\\in \\mathbf V}\\text{log} \\left(p(\\mathbf v)\\right) \\right) \\right].$$\n",
        "\n",
        "So, we have to update the weights $W\\_{ij}$  to increase $p(\\mathbf{v})$ for all $\\mathbf{v}$ in our training data during training. So we have to calculate the derivative:\n",
        "\n",
        "$$\\frac{\\partial \\log p(\\mathbf v)}{\\partial W\\_{ij}}$$\n",
        "\n",
        "This cannot be easily done by typical <b>gradient descent (SGD)</b>, so we can use another approach, which has 2 steps:\n",
        "\n",
        "<ol>\n",
        "    <li>Gibbs Sampling</li>\n",
        "    <li>Contrastive Divergence</li>\n",
        "</ol>    \n",
        "\n",
        "<h3>Gibbs Sampling</h3>   \n",
        "\n",
        "<h4>Gibbs Sampling Step 1</h4> \n",
        "Given an input vector $\\mathbf{v}$, we are using $p(\\mathbf{h}|\\mathbf{v})$ to predict the hidden values $\\mathbf{h}$. \n",
        "  $$p({h_j}|\\mathbf v)= \\sigma\\left(\\sum_{i=1}^V W_{ij} v_i + h_{bias} \\right)$$\n",
        "The samples are generated from this distribution by generating the uniform random variate vector $\\mathbf{\\xi} \\sim U[0,1]$ of length $H$ and comparing to the computed probabilities as\n",
        "\n",
        "<center>If $\\xi_j>p(h_{j}|\\mathbf{v})$, then $h_j=1$, else $h_j=0$.</center>\n",
        "\n",
        "<h4>Gibbs Sampling Step 2</h4> \n",
        "Then, knowing the hidden values, we use $p(\\mathbf v| \\mathbf h)$ for reconstructing of new input values v. \n",
        "\n",
        "$$p({v_i}|\\mathbf h)= \\sigma\\left(\\sum\\_{j=1}^H W^{T}*{ij} h_j + v*{bias} \\right)$$\n",
        "\n",
        "The samples are generated from this distribution by generating a uniform random variate vector $\\mathbf{\\xi} \\sim U\\[0,1]$ of length $V$ and comparing to the computed probabilities as\n",
        "\n",
        "<center>If $\\xi_i>p(v_{i}|\\mathbf{h})$, then $v_i=1$, else $v_i=0$.</center>\n",
        "\n",
        "Let vectors $\\mathbf v_k$ and $\\mathbf h_k$ be for the $k$th iteration.  In general, the $kth$ state is generrated as:\n",
        "\n",
        "<b>Iteration</b> $k$:\n",
        "\n",
        "$$\\mathbf v\\_{k-1} \\Rightarrow p(\\mathbf h\\_{k-1}|\\mathbf v\\_{k-1})\\Rightarrow \\mathbf h\\_{k-1}\\Rightarrow p(\\mathbf v\\_{k}|\\mathbf h\\_{k-1})\\Rightarrow \\mathbf v_k$$\n",
        "\n",
        "<h3>Contrastive Divergence (CD-k)</h3>\n",
        "The update of the weight matrix is done during the Contrastive Divergence step. \n",
        "\n",
        "Vectors v0 and vk are used to calculate the activation probabilities for hidden values h0 and hk. The difference between the outer products of those probabilities with input vectors v0 and vk results in the update matrix:\n",
        "\n",
        "$$\\Delta \\mathbf W_k =\\mathbf v_k \\otimes \\mathbf h_k - \\mathbf v\\_{k-1} \\otimes \\mathbf h\\_{k-1}$$\n",
        "\n",
        "Contrastive Divergence is actually matrix of values that is computed and used to adjust values of the $\\mathbf W$ matrix. Changing $\\mathbf W$ incrementally leads to training of the  $\\mathbf W$ values. Then, on each step (epoch), $\\mathbf W$ is updated using the following:\n",
        "\n",
        "$$\\mathbf W_k = \\mathbf W\\_{k-1} + \\alpha \\* \\Delta \\mathbf W_k$$\n",
        "\n",
        "Reconstruction steps:\n",
        "\n",
        "<ul>\n",
        "    <li> Get one data point from data set, like <i>x</i>, and pass it through the following steps:</li>\n",
        "\n",
        "<b>Iteration</b> $k=1$:\n",
        "\n",
        "Sampling (starting with input image)\n",
        "$$\\mathbf x = \\mathbf v\\_0 \\Rightarrow p(\\mathbf h\\_0|\\mathbf v\\_0)\\Rightarrow \\mathbf h\\_0 \\Rightarrow p(\\mathbf v\\_1|\\mathbf h\\_0)\\Rightarrow \\mathbf v\\_1$$\\\n",
        "followed by the CD-k step\n",
        "$$\\Delta \\mathbf W\\_1 =\\mathbf v\\_1 \\otimes \\mathbf h\\_1 - \\mathbf v\\_{0} \\otimes \\mathbf h\\_{0}$$\\\n",
        "$$\\mathbf W\\_1 = \\mathbf W\\_{0} + \\alpha \\* \\Delta \\mathbf W\\_1$$\n",
        "\n",
        "<li> $\\mathbf v_1$ is the reconstruction of $\\mathbf x$ sent to the next iteration).</li>\n",
        "\n",
        "<b>Iteration</b> $k=2$:\n",
        "\n",
        "Sampling (starting with $\\mathbf v\\_1$)\n",
        "\n",
        "$$\\mathbf v\\_1 \\Rightarrow p(\\mathbf h\\_1|\\mathbf v\\_1)\\Rightarrow \\mathbf h\\_1\\Rightarrow p(\\mathbf v\\_2|\\mathbf h\\_1)\\Rightarrow \\mathbf v\\_2$$\n",
        "\n",
        "followed by the CD-k step\n",
        "$$\\Delta \\mathbf W\\_2 =\\mathbf v\\_2 \\otimes \\mathbf h\\_2 - \\mathbf v\\_{1} \\otimes \\mathbf h\\_{1}$$\\\n",
        "$$\\mathbf W\\_2 = \\mathbf W\\_{1} + \\alpha \\* \\Delta \\mathbf W\\_2$$\n",
        "\n",
        "<li> $\\mathbf v_2$ is the reconstruction of $\\mathbf v_1$ sent to the next iteration).</li>    \n",
        "\n",
        "<b>Iteration</b> $k=K$:\n",
        "\n",
        "Sampling (starting with $\\mathbf v\\_{K-1}$)\n",
        "\n",
        "$$\\mathbf v\\_{K-1} \\Rightarrow p(\\mathbf h\\_{K-1}|\\mathbf v\\_{K-1})\\Rightarrow \\mathbf h\\_{K-1}\\Rightarrow p(\\mathbf v_K|\\mathbf h\\_{K-1})\\Rightarrow \\mathbf v_K$$\n",
        "\n",
        "followed by the CD-k step\n",
        "$$\\Delta \\mathbf W_K =\\mathbf v_K \\otimes \\mathbf h_K - \\mathbf v\\_{K-1} \\otimes \\mathbf h\\_{K-1}$$\\\n",
        "$$\\mathbf W_K = \\mathbf W\\_{K-1} + \\alpha \\* \\Delta \\mathbf W_K$$\n",
        "\n",
        "<b>What is $\\alpha$?</b>\\\n",
        "Here, alpha is some small step size, and is also known as the \"learning rate\".\n"
      ]
    },
    {
      "cell_type": "markdown",
      "metadata": {
        "id": "6rLwrxJhngSB"
      },
      "source": [
        "$K$ is adjustable, and good performance can be achieved with $K=1$, so that we just take one set of sampling steps per image.\n"
      ]
    },
    {
      "cell_type": "code",
      "metadata": {
        "id": "h853x7mvngSC"
      },
      "source": [
        "h1_prob = tf.nn.sigmoid(tf.matmul([v1_state], W) + hb)\n",
        "h1_state = tf.nn.relu(tf.sign(h1_prob - tf.random.uniform(tf.shape(h1_prob)))) #sample_h_given_X"
      ],
      "execution_count": 19,
      "outputs": []
    },
    {
      "cell_type": "markdown",
      "metadata": {
        "id": "Ca9sRO3HngSC"
      },
      "source": [
        "Lets look at the error of the first run:\n"
      ]
    },
    {
      "cell_type": "code",
      "metadata": {
        "colab": {
          "base_uri": "https://localhost:8080/"
        },
        "id": "eSVX4nDSngSC",
        "outputId": "aabc6a0d-e9ab-4805-8f50-2a42681c8e68"
      },
      "source": [
        "print(\"error: \", error(v0_state, v1_state))"
      ],
      "execution_count": 20,
      "outputs": [
        {
          "output_type": "stream",
          "name": "stdout",
          "text": [
            "error:  tf.Tensor(0.5089286, shape=(), dtype=float32)\n"
          ]
        }
      ]
    },
    {
      "cell_type": "code",
      "metadata": {
        "colab": {
          "base_uri": "https://localhost:8080/"
        },
        "id": "-DkNAxpbngSC",
        "outputId": "8a13d8f7-8aee-4173-cb0b-f1539584a637"
      },
      "source": [
        "#Parameters\n",
        "alpha = 0.01\n",
        "epochs = 1\n",
        "batchsize = 200\n",
        "weights = []\n",
        "errors = []\n",
        "batch_number = 0\n",
        "K = 1\n",
        "\n",
        "#creating datasets\n",
        "train_ds = \\\n",
        "    tf.data.Dataset.from_tensor_slices((trX, trY)).batch(batchsize)\n",
        "\n",
        "for epoch in range(epochs):\n",
        "    for batch_x, batch_y in train_ds:\n",
        "        batch_number += 1\n",
        "        for i_sample in range(batchsize):           \n",
        "            for k in range(K):\n",
        "                v0_state = batch_x[i_sample]\n",
        "                h0_state = hidden_layer(v0_state, W, hb)\n",
        "                v1_state = reconstructed_output(h0_state, W, vb)\n",
        "                h1_state = hidden_layer(v1_state, W, hb)\n",
        "\n",
        "                delta_W = tf.matmul(tf.transpose([v0_state]), h0_state) - tf.matmul(tf.transpose([v1_state]), h1_state)\n",
        "                W = W + alpha * delta_W\n",
        "\n",
        "                vb = vb + alpha * tf.reduce_mean(v0_state - v1_state, 0)\n",
        "                hb = hb + alpha * tf.reduce_mean(h0_state - h1_state, 0) \n",
        "\n",
        "                v0_state = v1_state\n",
        "\n",
        "            if i_sample == batchsize-1:\n",
        "                err = error(batch_x[i_sample], v1_state)\n",
        "                errors.append(err)\n",
        "                weights.append(W)\n",
        "                print ( 'Epoch: %d' % epoch, \n",
        "                       \"batch #: %i \" % batch_number, \"of %i\" % int(60e3/batchsize), \n",
        "                       \"sample #: %i\" % i_sample,\n",
        "                       'reconstruction error: %f' % err)\n",
        "\n"
      ],
      "execution_count": 21,
      "outputs": [
        {
          "output_type": "stream",
          "name": "stdout",
          "text": [
            "Epoch: 0 batch #: 1  of 300 sample #: 199 reconstruction error: 0.140269\n",
            "Epoch: 0 batch #: 2  of 300 sample #: 199 reconstruction error: 0.239108\n",
            "Epoch: 0 batch #: 3  of 300 sample #: 199 reconstruction error: 0.117133\n",
            "Epoch: 0 batch #: 4  of 300 sample #: 199 reconstruction error: 0.114232\n",
            "Epoch: 0 batch #: 5  of 300 sample #: 199 reconstruction error: 0.102164\n",
            "Epoch: 0 batch #: 6  of 300 sample #: 199 reconstruction error: 0.195437\n",
            "Epoch: 0 batch #: 7  of 300 sample #: 199 reconstruction error: 0.094846\n",
            "Epoch: 0 batch #: 8  of 300 sample #: 199 reconstruction error: 0.122730\n",
            "Epoch: 0 batch #: 9  of 300 sample #: 199 reconstruction error: 0.092424\n",
            "Epoch: 0 batch #: 10  of 300 sample #: 199 reconstruction error: 0.175706\n",
            "Epoch: 0 batch #: 11  of 300 sample #: 199 reconstruction error: 0.092106\n",
            "Epoch: 0 batch #: 12  of 300 sample #: 199 reconstruction error: 0.144239\n",
            "Epoch: 0 batch #: 13  of 300 sample #: 199 reconstruction error: 0.065054\n",
            "Epoch: 0 batch #: 14  of 300 sample #: 199 reconstruction error: 0.104773\n",
            "Epoch: 0 batch #: 15  of 300 sample #: 199 reconstruction error: 0.094869\n",
            "Epoch: 0 batch #: 16  of 300 sample #: 199 reconstruction error: 0.094652\n",
            "Epoch: 0 batch #: 17  of 300 sample #: 199 reconstruction error: 0.058731\n",
            "Epoch: 0 batch #: 18  of 300 sample #: 199 reconstruction error: 0.121450\n",
            "Epoch: 0 batch #: 19  of 300 sample #: 199 reconstruction error: 0.133748\n",
            "Epoch: 0 batch #: 20  of 300 sample #: 199 reconstruction error: 0.095634\n",
            "Epoch: 0 batch #: 21  of 300 sample #: 199 reconstruction error: 0.090804\n",
            "Epoch: 0 batch #: 22  of 300 sample #: 199 reconstruction error: 0.069631\n",
            "Epoch: 0 batch #: 23  of 300 sample #: 199 reconstruction error: 0.106458\n",
            "Epoch: 0 batch #: 24  of 300 sample #: 199 reconstruction error: 0.145502\n",
            "Epoch: 0 batch #: 25  of 300 sample #: 199 reconstruction error: 0.094968\n",
            "Epoch: 0 batch #: 26  of 300 sample #: 199 reconstruction error: 0.114618\n",
            "Epoch: 0 batch #: 27  of 300 sample #: 199 reconstruction error: 0.106137\n",
            "Epoch: 0 batch #: 28  of 300 sample #: 199 reconstruction error: 0.094635\n",
            "Epoch: 0 batch #: 29  of 300 sample #: 199 reconstruction error: 0.100120\n",
            "Epoch: 0 batch #: 30  of 300 sample #: 199 reconstruction error: 0.096296\n",
            "Epoch: 0 batch #: 31  of 300 sample #: 199 reconstruction error: 0.087357\n",
            "Epoch: 0 batch #: 32  of 300 sample #: 199 reconstruction error: 0.124956\n",
            "Epoch: 0 batch #: 33  of 300 sample #: 199 reconstruction error: 0.063059\n",
            "Epoch: 0 batch #: 34  of 300 sample #: 199 reconstruction error: 0.060879\n",
            "Epoch: 0 batch #: 35  of 300 sample #: 199 reconstruction error: 0.076206\n",
            "Epoch: 0 batch #: 36  of 300 sample #: 199 reconstruction error: 0.082913\n",
            "Epoch: 0 batch #: 37  of 300 sample #: 199 reconstruction error: 0.069601\n",
            "Epoch: 0 batch #: 38  of 300 sample #: 199 reconstruction error: 0.073109\n",
            "Epoch: 0 batch #: 39  of 300 sample #: 199 reconstruction error: 0.099605\n",
            "Epoch: 0 batch #: 40  of 300 sample #: 199 reconstruction error: 0.116061\n",
            "Epoch: 0 batch #: 41  of 300 sample #: 199 reconstruction error: 0.078103\n",
            "Epoch: 0 batch #: 42  of 300 sample #: 199 reconstruction error: 0.067185\n",
            "Epoch: 0 batch #: 43  of 300 sample #: 199 reconstruction error: 0.122107\n",
            "Epoch: 0 batch #: 44  of 300 sample #: 199 reconstruction error: 0.087226\n",
            "Epoch: 0 batch #: 45  of 300 sample #: 199 reconstruction error: 0.065404\n",
            "Epoch: 0 batch #: 46  of 300 sample #: 199 reconstruction error: 0.029981\n",
            "Epoch: 0 batch #: 47  of 300 sample #: 199 reconstruction error: 0.040495\n",
            "Epoch: 0 batch #: 48  of 300 sample #: 199 reconstruction error: 0.035585\n",
            "Epoch: 0 batch #: 49  of 300 sample #: 199 reconstruction error: 0.124628\n",
            "Epoch: 0 batch #: 50  of 300 sample #: 199 reconstruction error: 0.043865\n",
            "Epoch: 0 batch #: 51  of 300 sample #: 199 reconstruction error: 0.063946\n",
            "Epoch: 0 batch #: 52  of 300 sample #: 199 reconstruction error: 0.027162\n",
            "Epoch: 0 batch #: 53  of 300 sample #: 199 reconstruction error: 0.107157\n",
            "Epoch: 0 batch #: 54  of 300 sample #: 199 reconstruction error: 0.044621\n",
            "Epoch: 0 batch #: 55  of 300 sample #: 199 reconstruction error: 0.106978\n",
            "Epoch: 0 batch #: 56  of 300 sample #: 199 reconstruction error: 0.056371\n",
            "Epoch: 0 batch #: 57  of 300 sample #: 199 reconstruction error: 0.047589\n",
            "Epoch: 0 batch #: 58  of 300 sample #: 199 reconstruction error: 0.070646\n",
            "Epoch: 0 batch #: 59  of 300 sample #: 199 reconstruction error: 0.057391\n",
            "Epoch: 0 batch #: 60  of 300 sample #: 199 reconstruction error: 0.103243\n",
            "Epoch: 0 batch #: 61  of 300 sample #: 199 reconstruction error: 0.067657\n",
            "Epoch: 0 batch #: 62  of 300 sample #: 199 reconstruction error: 0.084365\n",
            "Epoch: 0 batch #: 63  of 300 sample #: 199 reconstruction error: 0.061574\n",
            "Epoch: 0 batch #: 64  of 300 sample #: 199 reconstruction error: 0.105785\n",
            "Epoch: 0 batch #: 65  of 300 sample #: 199 reconstruction error: 0.084379\n",
            "Epoch: 0 batch #: 66  of 300 sample #: 199 reconstruction error: 0.073691\n",
            "Epoch: 0 batch #: 67  of 300 sample #: 199 reconstruction error: 0.050155\n",
            "Epoch: 0 batch #: 68  of 300 sample #: 199 reconstruction error: 0.061368\n",
            "Epoch: 0 batch #: 69  of 300 sample #: 199 reconstruction error: 0.097463\n",
            "Epoch: 0 batch #: 70  of 300 sample #: 199 reconstruction error: 0.091816\n",
            "Epoch: 0 batch #: 71  of 300 sample #: 199 reconstruction error: 0.082092\n",
            "Epoch: 0 batch #: 72  of 300 sample #: 199 reconstruction error: 0.054372\n",
            "Epoch: 0 batch #: 73  of 300 sample #: 199 reconstruction error: 0.088049\n",
            "Epoch: 0 batch #: 74  of 300 sample #: 199 reconstruction error: 0.103198\n",
            "Epoch: 0 batch #: 75  of 300 sample #: 199 reconstruction error: 0.048753\n",
            "Epoch: 0 batch #: 76  of 300 sample #: 199 reconstruction error: 0.070603\n",
            "Epoch: 0 batch #: 77  of 300 sample #: 199 reconstruction error: 0.111453\n",
            "Epoch: 0 batch #: 78  of 300 sample #: 199 reconstruction error: 0.096281\n",
            "Epoch: 0 batch #: 79  of 300 sample #: 199 reconstruction error: 0.106616\n",
            "Epoch: 0 batch #: 80  of 300 sample #: 199 reconstruction error: 0.033462\n",
            "Epoch: 0 batch #: 81  of 300 sample #: 199 reconstruction error: 0.055781\n",
            "Epoch: 0 batch #: 82  of 300 sample #: 199 reconstruction error: 0.050219\n",
            "Epoch: 0 batch #: 83  of 300 sample #: 199 reconstruction error: 0.076830\n",
            "Epoch: 0 batch #: 84  of 300 sample #: 199 reconstruction error: 0.080419\n",
            "Epoch: 0 batch #: 85  of 300 sample #: 199 reconstruction error: 0.053481\n",
            "Epoch: 0 batch #: 86  of 300 sample #: 199 reconstruction error: 0.077515\n",
            "Epoch: 0 batch #: 87  of 300 sample #: 199 reconstruction error: 0.077406\n",
            "Epoch: 0 batch #: 88  of 300 sample #: 199 reconstruction error: 0.031683\n",
            "Epoch: 0 batch #: 89  of 300 sample #: 199 reconstruction error: 0.062064\n",
            "Epoch: 0 batch #: 90  of 300 sample #: 199 reconstruction error: 0.082778\n",
            "Epoch: 0 batch #: 91  of 300 sample #: 199 reconstruction error: 0.048146\n",
            "Epoch: 0 batch #: 92  of 300 sample #: 199 reconstruction error: 0.062697\n",
            "Epoch: 0 batch #: 93  of 300 sample #: 199 reconstruction error: 0.096980\n",
            "Epoch: 0 batch #: 94  of 300 sample #: 199 reconstruction error: 0.120598\n",
            "Epoch: 0 batch #: 95  of 300 sample #: 199 reconstruction error: 0.066006\n",
            "Epoch: 0 batch #: 96  of 300 sample #: 199 reconstruction error: 0.055971\n",
            "Epoch: 0 batch #: 97  of 300 sample #: 199 reconstruction error: 0.106360\n",
            "Epoch: 0 batch #: 98  of 300 sample #: 199 reconstruction error: 0.085728\n",
            "Epoch: 0 batch #: 99  of 300 sample #: 199 reconstruction error: 0.061647\n",
            "Epoch: 0 batch #: 100  of 300 sample #: 199 reconstruction error: 0.072768\n",
            "Epoch: 0 batch #: 101  of 300 sample #: 199 reconstruction error: 0.077754\n",
            "Epoch: 0 batch #: 102  of 300 sample #: 199 reconstruction error: 0.078125\n",
            "Epoch: 0 batch #: 103  of 300 sample #: 199 reconstruction error: 0.079760\n",
            "Epoch: 0 batch #: 104  of 300 sample #: 199 reconstruction error: 0.068031\n",
            "Epoch: 0 batch #: 105  of 300 sample #: 199 reconstruction error: 0.056520\n",
            "Epoch: 0 batch #: 106  of 300 sample #: 199 reconstruction error: 0.121163\n",
            "Epoch: 0 batch #: 107  of 300 sample #: 199 reconstruction error: 0.143705\n",
            "Epoch: 0 batch #: 108  of 300 sample #: 199 reconstruction error: 0.057197\n",
            "Epoch: 0 batch #: 109  of 300 sample #: 199 reconstruction error: 0.127372\n",
            "Epoch: 0 batch #: 110  of 300 sample #: 199 reconstruction error: 0.061828\n",
            "Epoch: 0 batch #: 111  of 300 sample #: 199 reconstruction error: 0.096205\n",
            "Epoch: 0 batch #: 112  of 300 sample #: 199 reconstruction error: 0.046973\n",
            "Epoch: 0 batch #: 113  of 300 sample #: 199 reconstruction error: 0.072523\n",
            "Epoch: 0 batch #: 114  of 300 sample #: 199 reconstruction error: 0.075835\n",
            "Epoch: 0 batch #: 115  of 300 sample #: 199 reconstruction error: 0.053543\n",
            "Epoch: 0 batch #: 116  of 300 sample #: 199 reconstruction error: 0.045513\n",
            "Epoch: 0 batch #: 117  of 300 sample #: 199 reconstruction error: 0.039691\n",
            "Epoch: 0 batch #: 118  of 300 sample #: 199 reconstruction error: 0.074011\n",
            "Epoch: 0 batch #: 119  of 300 sample #: 199 reconstruction error: 0.134127\n",
            "Epoch: 0 batch #: 120  of 300 sample #: 199 reconstruction error: 0.078872\n",
            "Epoch: 0 batch #: 121  of 300 sample #: 199 reconstruction error: 0.043143\n",
            "Epoch: 0 batch #: 122  of 300 sample #: 199 reconstruction error: 0.109386\n",
            "Epoch: 0 batch #: 123  of 300 sample #: 199 reconstruction error: 0.078154\n",
            "Epoch: 0 batch #: 124  of 300 sample #: 199 reconstruction error: 0.063900\n",
            "Epoch: 0 batch #: 125  of 300 sample #: 199 reconstruction error: 0.068325\n",
            "Epoch: 0 batch #: 126  of 300 sample #: 199 reconstruction error: 0.105695\n",
            "Epoch: 0 batch #: 127  of 300 sample #: 199 reconstruction error: 0.110278\n",
            "Epoch: 0 batch #: 128  of 300 sample #: 199 reconstruction error: 0.066276\n",
            "Epoch: 0 batch #: 129  of 300 sample #: 199 reconstruction error: 0.045278\n",
            "Epoch: 0 batch #: 130  of 300 sample #: 199 reconstruction error: 0.067691\n",
            "Epoch: 0 batch #: 131  of 300 sample #: 199 reconstruction error: 0.072246\n",
            "Epoch: 0 batch #: 132  of 300 sample #: 199 reconstruction error: 0.042214\n",
            "Epoch: 0 batch #: 133  of 300 sample #: 199 reconstruction error: 0.059616\n",
            "Epoch: 0 batch #: 134  of 300 sample #: 199 reconstruction error: 0.097483\n",
            "Epoch: 0 batch #: 135  of 300 sample #: 199 reconstruction error: 0.093943\n",
            "Epoch: 0 batch #: 136  of 300 sample #: 199 reconstruction error: 0.091795\n",
            "Epoch: 0 batch #: 137  of 300 sample #: 199 reconstruction error: 0.070772\n",
            "Epoch: 0 batch #: 138  of 300 sample #: 199 reconstruction error: 0.071182\n",
            "Epoch: 0 batch #: 139  of 300 sample #: 199 reconstruction error: 0.097365\n",
            "Epoch: 0 batch #: 140  of 300 sample #: 199 reconstruction error: 0.093843\n",
            "Epoch: 0 batch #: 141  of 300 sample #: 199 reconstruction error: 0.105939\n",
            "Epoch: 0 batch #: 142  of 300 sample #: 199 reconstruction error: 0.065998\n",
            "Epoch: 0 batch #: 143  of 300 sample #: 199 reconstruction error: 0.064600\n",
            "Epoch: 0 batch #: 144  of 300 sample #: 199 reconstruction error: 0.073065\n",
            "Epoch: 0 batch #: 145  of 300 sample #: 199 reconstruction error: 0.083733\n",
            "Epoch: 0 batch #: 146  of 300 sample #: 199 reconstruction error: 0.106396\n",
            "Epoch: 0 batch #: 147  of 300 sample #: 199 reconstruction error: 0.066754\n",
            "Epoch: 0 batch #: 148  of 300 sample #: 199 reconstruction error: 0.074484\n",
            "Epoch: 0 batch #: 149  of 300 sample #: 199 reconstruction error: 0.060244\n",
            "Epoch: 0 batch #: 150  of 300 sample #: 199 reconstruction error: 0.036762\n",
            "Epoch: 0 batch #: 151  of 300 sample #: 199 reconstruction error: 0.113569\n",
            "Epoch: 0 batch #: 152  of 300 sample #: 199 reconstruction error: 0.098765\n",
            "Epoch: 0 batch #: 153  of 300 sample #: 199 reconstruction error: 0.060637\n",
            "Epoch: 0 batch #: 154  of 300 sample #: 199 reconstruction error: 0.067400\n",
            "Epoch: 0 batch #: 155  of 300 sample #: 199 reconstruction error: 0.057756\n",
            "Epoch: 0 batch #: 156  of 300 sample #: 199 reconstruction error: 0.056249\n",
            "Epoch: 0 batch #: 157  of 300 sample #: 199 reconstruction error: 0.089763\n",
            "Epoch: 0 batch #: 158  of 300 sample #: 199 reconstruction error: 0.080284\n",
            "Epoch: 0 batch #: 159  of 300 sample #: 199 reconstruction error: 0.051268\n",
            "Epoch: 0 batch #: 160  of 300 sample #: 199 reconstruction error: 0.073019\n",
            "Epoch: 0 batch #: 161  of 300 sample #: 199 reconstruction error: 0.083195\n",
            "Epoch: 0 batch #: 162  of 300 sample #: 199 reconstruction error: 0.115134\n",
            "Epoch: 0 batch #: 163  of 300 sample #: 199 reconstruction error: 0.039517\n",
            "Epoch: 0 batch #: 164  of 300 sample #: 199 reconstruction error: 0.071768\n",
            "Epoch: 0 batch #: 165  of 300 sample #: 199 reconstruction error: 0.076248\n",
            "Epoch: 0 batch #: 166  of 300 sample #: 199 reconstruction error: 0.066038\n",
            "Epoch: 0 batch #: 167  of 300 sample #: 199 reconstruction error: 0.094362\n",
            "Epoch: 0 batch #: 168  of 300 sample #: 199 reconstruction error: 0.043889\n",
            "Epoch: 0 batch #: 169  of 300 sample #: 199 reconstruction error: 0.032934\n",
            "Epoch: 0 batch #: 170  of 300 sample #: 199 reconstruction error: 0.060284\n",
            "Epoch: 0 batch #: 171  of 300 sample #: 199 reconstruction error: 0.032867\n",
            "Epoch: 0 batch #: 172  of 300 sample #: 199 reconstruction error: 0.050862\n",
            "Epoch: 0 batch #: 173  of 300 sample #: 199 reconstruction error: 0.090021\n",
            "Epoch: 0 batch #: 174  of 300 sample #: 199 reconstruction error: 0.100485\n",
            "Epoch: 0 batch #: 175  of 300 sample #: 199 reconstruction error: 0.075749\n",
            "Epoch: 0 batch #: 176  of 300 sample #: 199 reconstruction error: 0.048387\n",
            "Epoch: 0 batch #: 177  of 300 sample #: 199 reconstruction error: 0.042685\n",
            "Epoch: 0 batch #: 178  of 300 sample #: 199 reconstruction error: 0.103795\n",
            "Epoch: 0 batch #: 179  of 300 sample #: 199 reconstruction error: 0.076895\n",
            "Epoch: 0 batch #: 180  of 300 sample #: 199 reconstruction error: 0.092005\n",
            "Epoch: 0 batch #: 181  of 300 sample #: 199 reconstruction error: 0.104601\n",
            "Epoch: 0 batch #: 182  of 300 sample #: 199 reconstruction error: 0.082214\n",
            "Epoch: 0 batch #: 183  of 300 sample #: 199 reconstruction error: 0.114956\n",
            "Epoch: 0 batch #: 184  of 300 sample #: 199 reconstruction error: 0.076698\n",
            "Epoch: 0 batch #: 185  of 300 sample #: 199 reconstruction error: 0.080211\n",
            "Epoch: 0 batch #: 186  of 300 sample #: 199 reconstruction error: 0.117270\n",
            "Epoch: 0 batch #: 187  of 300 sample #: 199 reconstruction error: 0.065301\n",
            "Epoch: 0 batch #: 188  of 300 sample #: 199 reconstruction error: 0.106833\n",
            "Epoch: 0 batch #: 189  of 300 sample #: 199 reconstruction error: 0.075601\n",
            "Epoch: 0 batch #: 190  of 300 sample #: 199 reconstruction error: 0.068875\n",
            "Epoch: 0 batch #: 191  of 300 sample #: 199 reconstruction error: 0.099510\n",
            "Epoch: 0 batch #: 192  of 300 sample #: 199 reconstruction error: 0.136681\n",
            "Epoch: 0 batch #: 193  of 300 sample #: 199 reconstruction error: 0.097306\n",
            "Epoch: 0 batch #: 194  of 300 sample #: 199 reconstruction error: 0.080034\n",
            "Epoch: 0 batch #: 195  of 300 sample #: 199 reconstruction error: 0.046789\n",
            "Epoch: 0 batch #: 196  of 300 sample #: 199 reconstruction error: 0.049079\n",
            "Epoch: 0 batch #: 197  of 300 sample #: 199 reconstruction error: 0.051969\n",
            "Epoch: 0 batch #: 198  of 300 sample #: 199 reconstruction error: 0.101464\n",
            "Epoch: 0 batch #: 199  of 300 sample #: 199 reconstruction error: 0.070780\n",
            "Epoch: 0 batch #: 200  of 300 sample #: 199 reconstruction error: 0.109694\n",
            "Epoch: 0 batch #: 201  of 300 sample #: 199 reconstruction error: 0.094724\n",
            "Epoch: 0 batch #: 202  of 300 sample #: 199 reconstruction error: 0.024572\n",
            "Epoch: 0 batch #: 203  of 300 sample #: 199 reconstruction error: 0.077586\n",
            "Epoch: 0 batch #: 204  of 300 sample #: 199 reconstruction error: 0.065190\n",
            "Epoch: 0 batch #: 205  of 300 sample #: 199 reconstruction error: 0.020715\n",
            "Epoch: 0 batch #: 206  of 300 sample #: 199 reconstruction error: 0.059651\n",
            "Epoch: 0 batch #: 207  of 300 sample #: 199 reconstruction error: 0.075005\n",
            "Epoch: 0 batch #: 208  of 300 sample #: 199 reconstruction error: 0.058972\n",
            "Epoch: 0 batch #: 209  of 300 sample #: 199 reconstruction error: 0.028700\n",
            "Epoch: 0 batch #: 210  of 300 sample #: 199 reconstruction error: 0.116644\n",
            "Epoch: 0 batch #: 211  of 300 sample #: 199 reconstruction error: 0.094945\n",
            "Epoch: 0 batch #: 212  of 300 sample #: 199 reconstruction error: 0.089319\n",
            "Epoch: 0 batch #: 213  of 300 sample #: 199 reconstruction error: 0.110372\n",
            "Epoch: 0 batch #: 214  of 300 sample #: 199 reconstruction error: 0.106631\n",
            "Epoch: 0 batch #: 215  of 300 sample #: 199 reconstruction error: 0.026961\n",
            "Epoch: 0 batch #: 216  of 300 sample #: 199 reconstruction error: 0.089012\n",
            "Epoch: 0 batch #: 217  of 300 sample #: 199 reconstruction error: 0.090430\n",
            "Epoch: 0 batch #: 218  of 300 sample #: 199 reconstruction error: 0.065020\n",
            "Epoch: 0 batch #: 219  of 300 sample #: 199 reconstruction error: 0.075123\n",
            "Epoch: 0 batch #: 220  of 300 sample #: 199 reconstruction error: 0.044680\n",
            "Epoch: 0 batch #: 221  of 300 sample #: 199 reconstruction error: 0.098612\n",
            "Epoch: 0 batch #: 222  of 300 sample #: 199 reconstruction error: 0.081664\n",
            "Epoch: 0 batch #: 223  of 300 sample #: 199 reconstruction error: 0.072368\n",
            "Epoch: 0 batch #: 224  of 300 sample #: 199 reconstruction error: 0.059054\n",
            "Epoch: 0 batch #: 225  of 300 sample #: 199 reconstruction error: 0.083859\n",
            "Epoch: 0 batch #: 226  of 300 sample #: 199 reconstruction error: 0.128352\n",
            "Epoch: 0 batch #: 227  of 300 sample #: 199 reconstruction error: 0.080322\n",
            "Epoch: 0 batch #: 228  of 300 sample #: 199 reconstruction error: 0.082642\n",
            "Epoch: 0 batch #: 229  of 300 sample #: 199 reconstruction error: 0.099369\n",
            "Epoch: 0 batch #: 230  of 300 sample #: 199 reconstruction error: 0.043482\n",
            "Epoch: 0 batch #: 231  of 300 sample #: 199 reconstruction error: 0.032367\n",
            "Epoch: 0 batch #: 232  of 300 sample #: 199 reconstruction error: 0.065987\n",
            "Epoch: 0 batch #: 233  of 300 sample #: 199 reconstruction error: 0.088162\n",
            "Epoch: 0 batch #: 234  of 300 sample #: 199 reconstruction error: 0.077302\n",
            "Epoch: 0 batch #: 235  of 300 sample #: 199 reconstruction error: 0.076122\n",
            "Epoch: 0 batch #: 236  of 300 sample #: 199 reconstruction error: 0.085551\n",
            "Epoch: 0 batch #: 237  of 300 sample #: 199 reconstruction error: 0.072472\n",
            "Epoch: 0 batch #: 238  of 300 sample #: 199 reconstruction error: 0.109053\n",
            "Epoch: 0 batch #: 239  of 300 sample #: 199 reconstruction error: 0.036984\n",
            "Epoch: 0 batch #: 240  of 300 sample #: 199 reconstruction error: 0.086582\n",
            "Epoch: 0 batch #: 241  of 300 sample #: 199 reconstruction error: 0.098622\n",
            "Epoch: 0 batch #: 242  of 300 sample #: 199 reconstruction error: 0.070910\n",
            "Epoch: 0 batch #: 243  of 300 sample #: 199 reconstruction error: 0.068999\n",
            "Epoch: 0 batch #: 244  of 300 sample #: 199 reconstruction error: 0.078237\n",
            "Epoch: 0 batch #: 245  of 300 sample #: 199 reconstruction error: 0.058942\n",
            "Epoch: 0 batch #: 246  of 300 sample #: 199 reconstruction error: 0.082227\n",
            "Epoch: 0 batch #: 247  of 300 sample #: 199 reconstruction error: 0.046595\n",
            "Epoch: 0 batch #: 248  of 300 sample #: 199 reconstruction error: 0.070388\n",
            "Epoch: 0 batch #: 249  of 300 sample #: 199 reconstruction error: 0.038773\n",
            "Epoch: 0 batch #: 250  of 300 sample #: 199 reconstruction error: 0.088032\n",
            "Epoch: 0 batch #: 251  of 300 sample #: 199 reconstruction error: 0.047701\n",
            "Epoch: 0 batch #: 252  of 300 sample #: 199 reconstruction error: 0.073908\n",
            "Epoch: 0 batch #: 253  of 300 sample #: 199 reconstruction error: 0.061092\n",
            "Epoch: 0 batch #: 254  of 300 sample #: 199 reconstruction error: 0.032299\n",
            "Epoch: 0 batch #: 255  of 300 sample #: 199 reconstruction error: 0.051546\n",
            "Epoch: 0 batch #: 256  of 300 sample #: 199 reconstruction error: 0.089595\n",
            "Epoch: 0 batch #: 257  of 300 sample #: 199 reconstruction error: 0.081360\n",
            "Epoch: 0 batch #: 258  of 300 sample #: 199 reconstruction error: 0.090079\n",
            "Epoch: 0 batch #: 259  of 300 sample #: 199 reconstruction error: 0.076154\n",
            "Epoch: 0 batch #: 260  of 300 sample #: 199 reconstruction error: 0.126780\n",
            "Epoch: 0 batch #: 261  of 300 sample #: 199 reconstruction error: 0.033647\n",
            "Epoch: 0 batch #: 262  of 300 sample #: 199 reconstruction error: 0.059045\n",
            "Epoch: 0 batch #: 263  of 300 sample #: 199 reconstruction error: 0.088866\n",
            "Epoch: 0 batch #: 264  of 300 sample #: 199 reconstruction error: 0.062980\n",
            "Epoch: 0 batch #: 265  of 300 sample #: 199 reconstruction error: 0.064231\n",
            "Epoch: 0 batch #: 266  of 300 sample #: 199 reconstruction error: 0.036589\n",
            "Epoch: 0 batch #: 267  of 300 sample #: 199 reconstruction error: 0.048223\n",
            "Epoch: 0 batch #: 268  of 300 sample #: 199 reconstruction error: 0.017987\n",
            "Epoch: 0 batch #: 269  of 300 sample #: 199 reconstruction error: 0.082105\n",
            "Epoch: 0 batch #: 270  of 300 sample #: 199 reconstruction error: 0.074588\n",
            "Epoch: 0 batch #: 271  of 300 sample #: 199 reconstruction error: 0.048649\n",
            "Epoch: 0 batch #: 272  of 300 sample #: 199 reconstruction error: 0.065447\n",
            "Epoch: 0 batch #: 273  of 300 sample #: 199 reconstruction error: 0.047945\n",
            "Epoch: 0 batch #: 274  of 300 sample #: 199 reconstruction error: 0.051835\n",
            "Epoch: 0 batch #: 275  of 300 sample #: 199 reconstruction error: 0.089792\n",
            "Epoch: 0 batch #: 276  of 300 sample #: 199 reconstruction error: 0.079019\n",
            "Epoch: 0 batch #: 277  of 300 sample #: 199 reconstruction error: 0.065171\n",
            "Epoch: 0 batch #: 278  of 300 sample #: 199 reconstruction error: 0.051897\n",
            "Epoch: 0 batch #: 279  of 300 sample #: 199 reconstruction error: 0.047474\n",
            "Epoch: 0 batch #: 280  of 300 sample #: 199 reconstruction error: 0.083576\n",
            "Epoch: 0 batch #: 281  of 300 sample #: 199 reconstruction error: 0.086299\n",
            "Epoch: 0 batch #: 282  of 300 sample #: 199 reconstruction error: 0.107577\n",
            "Epoch: 0 batch #: 283  of 300 sample #: 199 reconstruction error: 0.050688\n",
            "Epoch: 0 batch #: 284  of 300 sample #: 199 reconstruction error: 0.055574\n",
            "Epoch: 0 batch #: 285  of 300 sample #: 199 reconstruction error: 0.065010\n",
            "Epoch: 0 batch #: 286  of 300 sample #: 199 reconstruction error: 0.078757\n",
            "Epoch: 0 batch #: 287  of 300 sample #: 199 reconstruction error: 0.073610\n",
            "Epoch: 0 batch #: 288  of 300 sample #: 199 reconstruction error: 0.027652\n",
            "Epoch: 0 batch #: 289  of 300 sample #: 199 reconstruction error: 0.090404\n",
            "Epoch: 0 batch #: 290  of 300 sample #: 199 reconstruction error: 0.094082\n",
            "Epoch: 0 batch #: 291  of 300 sample #: 199 reconstruction error: 0.097854\n",
            "Epoch: 0 batch #: 292  of 300 sample #: 199 reconstruction error: 0.070722\n",
            "Epoch: 0 batch #: 293  of 300 sample #: 199 reconstruction error: 0.069085\n",
            "Epoch: 0 batch #: 294  of 300 sample #: 199 reconstruction error: 0.085582\n",
            "Epoch: 0 batch #: 295  of 300 sample #: 199 reconstruction error: 0.070670\n",
            "Epoch: 0 batch #: 296  of 300 sample #: 199 reconstruction error: 0.033501\n",
            "Epoch: 0 batch #: 297  of 300 sample #: 199 reconstruction error: 0.111975\n",
            "Epoch: 0 batch #: 298  of 300 sample #: 199 reconstruction error: 0.059530\n",
            "Epoch: 0 batch #: 299  of 300 sample #: 199 reconstruction error: 0.048110\n",
            "Epoch: 0 batch #: 300  of 300 sample #: 199 reconstruction error: 0.080099\n"
          ]
        }
      ]
    },
    {
      "cell_type": "markdown",
      "metadata": {
        "id": "MawA4RLCngSC"
      },
      "source": [
        "Let's take a look at the errors at the end of each batch:\n"
      ]
    },
    {
      "cell_type": "code",
      "metadata": {
        "colab": {
          "base_uri": "https://localhost:8080/",
          "height": 283
        },
        "id": "AnehAJqgngSC",
        "outputId": "63de57ba-2d6a-4b98-e4c2-310d58bc04ab"
      },
      "source": [
        "plt.plot(errors)\n",
        "plt.xlabel(\"Batch Number\")\n",
        "plt.ylabel(\"Error\")\n",
        "plt.show()"
      ],
      "execution_count": 22,
      "outputs": [
        {
          "output_type": "display_data",
          "data": {
            "image/png": "[encoded data removed]",
            "text/plain": [
              "<Figure size 432x288 with 1 Axes>"
            ]
          },
          "metadata": {
            "needs_background": "light"
          }
        }
      ]
    },
    {
      "cell_type": "markdown",
      "metadata": {
        "id": "e_HUGXtWngSC"
      },
      "source": [
        "What is the final weight matrix $W$ after training?\n"
      ]
    },
    {
      "cell_type": "code",
      "metadata": {
        "colab": {
          "base_uri": "https://localhost:8080/"
        },
        "id": "Qk4BN3gDngSC",
        "outputId": "83a5ffdc-2f9f-469e-dfc3-d0e62efce5c3"
      },
      "source": [
        "print(W.numpy()) # a weight matrix of shape (50,784)"
      ],
      "execution_count": 23,
      "outputs": [
        {
          "output_type": "stream",
          "name": "stdout",
          "text": [
            "[[-0.45999983 -0.10999998 -0.35999992 ... -0.19000001 -0.29999998\n",
            "  -0.35999992]\n",
            " [-0.5199998  -0.22000003 -0.3999999  ... -0.24000004 -0.34999993\n",
            "  -0.30999997]\n",
            " [-0.45999983 -0.12999998 -0.3899999  ... -0.21000002 -0.28\n",
            "  -0.32999995]\n",
            " ...\n",
            " [-0.5399998  -0.14999999 -0.3799999  ... -0.21000002 -0.32999995\n",
            "  -0.33999994]\n",
            " [-0.3999999  -0.21000002 -0.3899999  ... -0.25000003 -0.28\n",
            "  -0.32999995]\n",
            " [-0.4999998  -0.11999998 -0.35999992 ... -0.16       -0.33999994\n",
            "  -0.33999994]]\n"
          ]
        }
      ]
    },
    {
      "cell_type": "markdown",
      "metadata": {
        "id": "LacvKlPVngSD"
      },
      "source": [
        "<a id=\"ref5\"></a>\n",
        "\n",
        "<h3>Learned features</h3> \n"
      ]
    },
    {
      "cell_type": "markdown",
      "metadata": {
        "id": "4caVH_-engSD"
      },
      "source": [
        "We can take each hidden unit and visualize the connections between that hidden unit and each element in the input vector. In our case, we have 50 hidden units. Lets visualize those.\n"
      ]
    },
    {
      "cell_type": "markdown",
      "metadata": {
        "id": "Eo7ocJWCngSD"
      },
      "source": [
        "Let's plot the current weights: <b>tile_raster_images</b> helps in generating an easy to grasp image from a set of samples or weights. It transforms the <b>uw</b> (with one flattened image per row of size 784), into an array (of size $28\\times28$) in which images are reshaped and laid out like tiles on a floor.\n"
      ]
    },
    {
      "cell_type": "code",
      "metadata": {
        "colab": {
          "base_uri": "https://localhost:8080/",
          "height": 551
        },
        "id": "8VtHbk3fngSD",
        "outputId": "f49193fc-1017-41c3-ab17-fe92958c0eff"
      },
      "source": [
        "tile_raster_images(X=W.numpy().T, img_shape=(28, 28), tile_shape=(5, 10), tile_spacing=(1, 1))\n",
        "import matplotlib.pyplot as plt\n",
        "from PIL import Image\n",
        "%matplotlib inline\n",
        "image = Image.fromarray(tile_raster_images(X=W.numpy().T, img_shape=(28, 28) ,tile_shape=(5, 10), tile_spacing=(1, 1)))\n",
        "### Plot image\n",
        "plt.rcParams['figure.figsize'] = (18.0, 18.0)\n",
        "imgplot = plt.imshow(image)\n",
        "imgplot.set_cmap('gray')  "
      ],
      "execution_count": 24,
      "outputs": [
        {
          "output_type": "display_data",
          "data": {
            "image/png": "[encoded data removed]",
            "text/plain": [
              "<Figure size 1296x1296 with 1 Axes>"
            ]
          },
          "metadata": {
            "needs_background": "light"
          }
        }
      ]
    },
    {
      "cell_type": "markdown",
      "metadata": {
        "id": "uw_dWTSjngSD"
      },
      "source": [
        "Each tile in the above visualization corresponds to a vector of connections between a hidden unit and visible layer's units.\n"
      ]
    },
    {
      "cell_type": "markdown",
      "metadata": {
        "id": "3aETWjNPngSD"
      },
      "source": [
        "Let's look at one of the learned weights corresponding to one of hidden units for example. In this particular square, the gray color represents weight = 0, and the whiter it is, the more positive the weights are (closer to 1). Conversely, the darker pixels are, the more negative the weights. The positive pixels will increase the probability of activation in hidden units (after multiplying by input/visible pixels), and negative pixels will decrease the probability of a unit hidden to be 1 (activated). So, why is this important?  So we can see that this specific square (hidden unit) can detect a feature (e.g. a \"/\" shape) and if it exists in the input.\n"
      ]
    },
    {
      "cell_type": "code",
      "metadata": {
        "colab": {
          "base_uri": "https://localhost:8080/",
          "height": 265
        },
        "id": "QfWgicODngSD",
        "outputId": "4ec14150-ed65-4c1b-98e5-77bb1b6a2bf8"
      },
      "source": [
        "from PIL import Image\n",
        "image = Image.fromarray(tile_raster_images(X =W.numpy().T[10:11], img_shape=(28, 28),tile_shape=(1, 1), tile_spacing=(1, 1)))\n",
        "### Plot image\n",
        "plt.rcParams['figure.figsize'] = (4.0, 4.0)\n",
        "imgplot = plt.imshow(image)\n",
        "imgplot.set_cmap('gray')  "
      ],
      "execution_count": 25,
      "outputs": [
        {
          "output_type": "display_data",
          "data": {
            "image/png": "[encoded data removed]",
            "text/plain": [
              "<Figure size 288x288 with 1 Axes>"
            ]
          },
          "metadata": {
            "needs_background": "light"
          }
        }
      ]
    },
    {
      "cell_type": "markdown",
      "metadata": {
        "id": "gIMtsz0bngSD"
      },
      "source": [
        "Let's look at the reconstruction of an image now. Imagine that we have a destructed image of figure 3. Lets see if our trained network can fix it:\n",
        "\n",
        "First we plot the image:\n"
      ]
    },
    {
      "cell_type": "code",
      "metadata": {
        "colab": {
          "base_uri": "https://localhost:8080/",
          "height": 650
        },
        "id": "uJXI4WHingSE",
        "outputId": "382deaab-8b1d-423d-874d-6f185524e60e"
      },
      "source": [
        "!wget -O destructed3.jpg  https://ibm.box.com/shared/static/vvm1b63uvuxq88vbw9znpwu5ol380mco.jpg\n",
        "img = Image.open('destructed3.jpg')\n",
        "img"
      ],
      "execution_count": 26,
      "outputs": [
        {
          "output_type": "stream",
          "name": "stdout",
          "text": [
            "--2021-10-31 18:50:06--  https://ibm.box.com/shared/static/vvm1b63uvuxq88vbw9znpwu5ol380mco.jpg\n",
            "Resolving ibm.box.com (ibm.box.com)... 107.152.25.197\n",
            "Connecting to ibm.box.com (ibm.box.com)|107.152.25.197|:443... connected.\n",
            "HTTP request sent, awaiting response... 301 Moved Permanently\n",
            "Location: /public/static/vvm1b63uvuxq88vbw9znpwu5ol380mco.jpg [following]\n",
            "--2021-10-31 18:50:06--  https://ibm.box.com/public/static/vvm1b63uvuxq88vbw9znpwu5ol380mco.jpg\n",
            "Reusing existing connection to ibm.box.com:443.\n",
            "HTTP request sent, awaiting response... 301 Moved Permanently\n",
            "Location: https://ibm.ent.box.com/public/static/vvm1b63uvuxq88vbw9znpwu5ol380mco.jpg [following]\n",
            "--2021-10-31 18:50:06--  https://ibm.ent.box.com/public/static/vvm1b63uvuxq88vbw9znpwu5ol380mco.jpg\n",
            "Resolving ibm.ent.box.com (ibm.ent.box.com)... 107.152.25.201\n",
            "Connecting to ibm.ent.box.com (ibm.ent.box.com)|107.152.25.201|:443... connected.\n",
            "HTTP request sent, awaiting response... 302 Found\n",
            "Location: https://public.boxcloud.com/d/1/b1!ev_ZA9W8E3V3Q4rjCwsftGhCjdrCVtDRxU5Va3uLI5cfH2bXgFr2CfxGvwfpk0pXklfYUth19CuQK3iVEdrUPa9gVrf1WzeH1WsExKo04Xx2zv4O1dSzqgu8I5YlkBR_5Hyosk3w_spilCrCJBi1ikMBbXxODNSQyS-zoE5Wiiff6pQ8_ffCGufkv1DQA92GTGXEhYu3YaeF3hQkKsuriLoItH-XRJ8rglqsA34CBwOSTWIadyXLc3dpyw7eSNNezzsXRoxgjAGXTiNUGYuOggOrGJH89Er1O2YNIdLSiJTwUo7Fu6LhPsjsQk8TTo6BvpRn4TMqTES_rM-s9TXt3VhLHjaOEXa1__D780bxPezUqX0WopJmFfnJkn4_6Tp_H0k1aE5bnUf61iEJHNvfQaKa-azpOXjHICLb3gUg-llNkqcdDk0bVAzj0qOW0KiAcu551FbssVvpg0omC2pXXt8Owx7FWtrWGn6ls_cOrYHf5N9bVqB254G61iNRhsUj8XCI8QdFN_ZolINtvfuglb0CNKVumgCb4T8uXVRNGkI3oix8RbSxIAA0U4fO1lFpbKGtLTt0UtLfyq60CHlhd_N5CT99WD99at16ykQVFM1UqsCBxrbPNFw3pqXPIVMtMxgxyG0pvlDYN1sx00XtThjJL81c35eA4oeXqvleJI0YBxa10y5khjbmZh8ike3IrlfV7kT9zi1762C0HQ9ioevpeESm_EkXbcE9Pg9rnKHbaQ_PZsG3YMkCugHb1gllHLFl0yF0lIC8fALplrxcObhbc4rsrxDsPTAF0yJNvYYIKyAW8fG07Er2pqWpYVxT3mehiSGVE3ZCbN6GG-lwNtYMA_KNiLwof3u05Xk4pGQHuhv6mdvHeFUfx5HTMDS5qWbZqi4-1aad7U5w_IMecF27nBhLaLX-Herfz3MsioAkhD6oBp0dkSO0SK5b12RTF_Fma1vbzWG84DWO4kfXZs3XFzpasscmQM_nW6mrX4Rv3D_zcIw-LZN2s3WDOzaMdOwjEiiFMK6G6lriZJ_ez1YzVCh6FUMiBbF6IU0R6p0-ul0x7xIOE85z0epHqq0ee_XbdBGP4qKbuHEwdR5oN2qm8vjwUTHaNALRIUD6I-a7lbIYzj9DgUP3QlNCzzwR7Y27OAUbTtO1bi5SH-78VL7mzDOvb79_j4DcwMzpQI8EGH-yXOBGouP5UN895GOC1aZe31u1SzzZ1XfuE9EDj0BAbVe26YdB0Uac-ybXyYoizB8vWy2y3myXSOZPoxXOkuCpyw_K2lHq9EB_c-jmdmCMPdHRCIXN41Mfo5vB8RPaGkwFSwPkpRbSmR5t-inAzQMYCb38xE768XKAiESirtElYts8qJsDVISb5WroN_NzsSMIn2eSFiDio53Ff_s8qDy5ffCB7XekCeOt80kWWIajA_oqUg../download [following]\n",
            "--2021-10-31 18:50:07--  https://public.boxcloud.com/d/1/b1!ev_ZA9W8E3V3Q4rjCwsftGhCjdrCVtDRxU5Va3uLI5cfH2bXgFr2CfxGvwfpk0pXklfYUth19CuQK3iVEdrUPa9gVrf1WzeH1WsExKo04Xx2zv4O1dSzqgu8I5YlkBR_5Hyosk3w_spilCrCJBi1ikMBbXxODNSQyS-zoE5Wiiff6pQ8_ffCGufkv1DQA92GTGXEhYu3YaeF3hQkKsuriLoItH-XRJ8rglqsA34CBwOSTWIadyXLc3dpyw7eSNNezzsXRoxgjAGXTiNUGYuOggOrGJH89Er1O2YNIdLSiJTwUo7Fu6LhPsjsQk8TTo6BvpRn4TMqTES_rM-s9TXt3VhLHjaOEXa1__D780bxPezUqX0WopJmFfnJkn4_6Tp_H0k1aE5bnUf61iEJHNvfQaKa-azpOXjHICLb3gUg-llNkqcdDk0bVAzj0qOW0KiAcu551FbssVvpg0omC2pXXt8Owx7FWtrWGn6ls_cOrYHf5N9bVqB254G61iNRhsUj8XCI8QdFN_ZolINtvfuglb0CNKVumgCb4T8uXVRNGkI3oix8RbSxIAA0U4fO1lFpbKGtLTt0UtLfyq60CHlhd_N5CT99WD99at16ykQVFM1UqsCBxrbPNFw3pqXPIVMtMxgxyG0pvlDYN1sx00XtThjJL81c35eA4oeXqvleJI0YBxa10y5khjbmZh8ike3IrlfV7kT9zi1762C0HQ9ioevpeESm_EkXbcE9Pg9rnKHbaQ_PZsG3YMkCugHb1gllHLFl0yF0lIC8fALplrxcObhbc4rsrxDsPTAF0yJNvYYIKyAW8fG07Er2pqWpYVxT3mehiSGVE3ZCbN6GG-lwNtYMA_KNiLwof3u05Xk4pGQHuhv6mdvHeFUfx5HTMDS5qWbZqi4-1aad7U5w_IMecF27nBhLaLX-Herfz3MsioAkhD6oBp0dkSO0SK5b12RTF_Fma1vbzWG84DWO4kfXZs3XFzpasscmQM_nW6mrX4Rv3D_zcIw-LZN2s3WDOzaMdOwjEiiFMK6G6lriZJ_ez1YzVCh6FUMiBbF6IU0R6p0-ul0x7xIOE85z0epHqq0ee_XbdBGP4qKbuHEwdR5oN2qm8vjwUTHaNALRIUD6I-a7lbIYzj9DgUP3QlNCzzwR7Y27OAUbTtO1bi5SH-78VL7mzDOvb79_j4DcwMzpQI8EGH-yXOBGouP5UN895GOC1aZe31u1SzzZ1XfuE9EDj0BAbVe26YdB0Uac-ybXyYoizB8vWy2y3myXSOZPoxXOkuCpyw_K2lHq9EB_c-jmdmCMPdHRCIXN41Mfo5vB8RPaGkwFSwPkpRbSmR5t-inAzQMYCb38xE768XKAiESirtElYts8qJsDVISb5WroN_NzsSMIn2eSFiDio53Ff_s8qDy5ffCB7XekCeOt80kWWIajA_oqUg../download\n",
            "Resolving public.boxcloud.com (public.boxcloud.com)... 107.152.24.200\n",
            "Connecting to public.boxcloud.com (public.boxcloud.com)|107.152.24.200|:443... connected.\n",
            "HTTP request sent, awaiting response... 200 OK\n",
            "Length: 24383 (24K) [image/jpeg]\n",
            "Saving to: ‘destructed3.jpg’\n",
            "\n",
            "destructed3.jpg     100%[===================>]  23.81K  --.-KB/s    in 0.01s   \n",
            "\n",
            "2021-10-31 18:50:07 (1.57 MB/s) - ‘destructed3.jpg’ saved [24383/24383]\n",
            "\n"
          ]
        },
        {
          "output_type": "execute_result",
          "data": {
            "image/png": "[encoded data removed]",
            "text/plain": [
              "<PIL.JpegImagePlugin.JpegImageFile image mode=RGB size=181x181 at 0x7FCDF85D9810>"
            ]
          },
          "metadata": {},
          "execution_count": 26
        }
      ]
    },
    {
      "cell_type": "markdown",
      "metadata": {
        "id": "ZCxl72vZngSE"
      },
      "source": [
        "Now let's pass this image through the neural net:\n"
      ]
    },
    {
      "cell_type": "code",
      "metadata": {
        "id": "Chedwe-jngSE"
      },
      "source": [
        "# convert the image to a 1d numpy array\n",
        "sample_case = np.array(img.convert('I').resize((28,28))).ravel().reshape((1, -1))/255.0\n",
        "\n",
        "sample_case = tf.cast(sample_case, dtype=tf.float32)"
      ],
      "execution_count": 27,
      "outputs": []
    },
    {
      "cell_type": "markdown",
      "metadata": {
        "id": "Z81yT5psngSE"
      },
      "source": [
        "Feed the sample case into the network and reconstruct the output:\n"
      ]
    },
    {
      "cell_type": "code",
      "metadata": {
        "colab": {
          "base_uri": "https://localhost:8080/"
        },
        "id": "ydqNxAK3ngSE",
        "outputId": "4b1017f9-717d-4675-b614-5a8c76c60b57"
      },
      "source": [
        "hh0_p = tf.nn.sigmoid(tf.matmul(sample_case, W) + hb)\n",
        "hh0_s = tf.round(hh0_p)\n",
        "\n",
        "print(\"Probability nodes in hidden layer:\" ,hh0_p)\n",
        "print(\"activated nodes in hidden layer:\" ,hh0_s)\n",
        "\n",
        "# reconstruct\n",
        "vv1_p = tf.nn.sigmoid(tf.matmul(hh0_s, tf.transpose(W)) + vb)\n",
        "\n",
        "print(vv1_p)\n",
        "#rec_prob = sess.run(vv1_p, feed_dict={ hh0_s: hh0_s_val, W: prv_w, vb: prv_vb})"
      ],
      "execution_count": 28,
      "outputs": [
        {
          "output_type": "stream",
          "name": "stdout",
          "text": [
            "Probability nodes in hidden layer: tf.Tensor(\n",
            "[[7.01883137e-02 9.14580800e-10 4.27871943e-04 5.94313860e-05\n",
            "  1.69656277e-01 3.37489009e-01 2.02669999e-05 9.99997258e-01\n",
            "  3.50732626e-06 2.15212221e-08 4.30579021e-08 4.41259260e-08\n",
            "  4.26040758e-09 5.33172533e-05 1.00000000e+00 8.92212093e-01\n",
            "  1.96282389e-13 1.77285270e-11 2.89878249e-03 9.73408103e-01\n",
            "  1.00000000e+00 5.41969836e-01 8.62950087e-03 1.21036470e-02\n",
            "  1.00000000e+00 1.00000000e+00 7.58328259e-01 3.27042855e-08\n",
            "  5.41040663e-07 1.00000000e+00 2.17479640e-16 1.15838379e-08\n",
            "  4.63769129e-06 1.85120967e-07 9.43945706e-01 9.99969244e-01\n",
            "  2.94926372e-09 1.77836718e-10 1.00000000e+00 9.99772310e-01\n",
            "  4.80103493e-03 2.48117655e-16 2.15042233e-02 4.85636010e-05\n",
            "  4.39132858e-18 1.42753124e-04 9.99999762e-01 2.67912777e-14\n",
            "  1.45935735e-08 3.23821405e-06]], shape=(1, 50), dtype=float32)\n",
            "activated nodes in hidden layer: tf.Tensor(\n",
            "[[0. 0. 0. 0. 0. 0. 0. 1. 0. 0. 0. 0. 0. 0. 1. 1. 0. 0. 0. 1. 1. 1. 0. 0.\n",
            "  1. 1. 1. 0. 0. 1. 0. 0. 0. 0. 1. 1. 0. 0. 1. 1. 0. 0. 0. 0. 0. 0. 1. 0.\n",
            "  0. 0.]], shape=(1, 50), dtype=float32)\n",
            "tf.Tensor(\n",
            "[[7.04497099e-04 4.67628241e-04 8.18371773e-04 8.18371773e-04\n",
            "  5.76853752e-04 6.50316477e-04 6.70164824e-04 4.81843948e-04\n",
            "  6.63489103e-04 8.10265541e-04 5.11676073e-04 5.88446856e-04\n",
            "  7.26372004e-04 7.94768333e-04 6.91115856e-04 7.49588013e-04\n",
            "  6.43849373e-04 5.37902117e-04 3.75360250e-04 5.76853752e-04\n",
            "  4.96566296e-04 5.43326139e-04 6.24895096e-04 4.86731529e-04\n",
            "  6.56843185e-04 5.88566065e-04 5.22047281e-04 6.90519810e-04\n",
            "  6.76900148e-04 5.21987677e-04 6.76900148e-04 5.37902117e-04\n",
            "  6.52372837e-04 4.91529703e-04 4.90695238e-04 5.12450933e-04\n",
            "  4.58389521e-04 7.46667385e-04 6.67661428e-04 7.84218311e-04\n",
            "  5.91814518e-04 6.42150640e-04 7.48872757e-04 4.52816486e-04\n",
            "  8.89778137e-04 7.72088766e-04 7.85171986e-04 5.00619411e-04\n",
            "  4.64886427e-04 5.27799129e-04 9.05126333e-04 5.37514687e-04\n",
            "  8.86529684e-04 7.25924969e-04 9.13441181e-04 3.94582748e-04\n",
            "  4.40448523e-04 7.55548477e-04 6.97493553e-04 7.61777163e-04\n",
            "  4.46379185e-04 5.51998615e-04 4.18752432e-04 5.58465719e-04\n",
            "  5.24759293e-04 2.11954117e-04 1.43319368e-04 1.65551901e-04\n",
            "  1.71273947e-04 1.90466642e-04 1.83761120e-04 2.80708075e-04\n",
            "  2.29269266e-04 2.12967396e-04 1.99526548e-04 2.14993954e-04\n",
            "  2.05487013e-04 5.86032867e-04 1.16285682e-03 9.74386930e-04\n",
            "  9.58204269e-04 4.95493412e-04 7.55548477e-04 7.70717859e-04\n",
            "  8.10265541e-04 6.70164824e-04 6.10440969e-04 4.03851271e-04\n",
            "  6.73860312e-04 4.71055508e-04 8.74072313e-04 3.85791063e-04\n",
            "  2.43663788e-04 4.21375036e-04 9.27885994e-05 3.49670649e-04\n",
            "  3.06874514e-04 1.05246902e-03 1.09806657e-03 1.58283114e-03\n",
            "  1.89170241e-03 4.33897972e-03 4.58487868e-03 4.45702672e-03\n",
            "  2.42522359e-03 1.85325742e-03 2.02396512e-03 1.20553374e-03\n",
            "  1.25420094e-03 7.43389130e-04 6.96033239e-04 7.55548477e-04\n",
            "  5.48690557e-04 6.28858805e-04 6.61373138e-04 4.93913889e-04\n",
            "  1.28278136e-03 1.04051828e-03 1.30254030e-03 1.48117542e-03\n",
            "  1.52623653e-03 1.43009424e-03 2.82830000e-03 5.84214926e-03\n",
            "  5.05688787e-03 1.17444694e-02 1.00973547e-02 3.13969553e-02\n",
            "  6.70420825e-02 1.23497605e-01 2.34365404e-01 1.09797865e-01\n",
            "  4.51887846e-02 1.06472075e-02 2.15984881e-02 1.00628734e-02\n",
            "  6.57021999e-03 1.79061294e-03 9.75817442e-04 6.86079264e-04\n",
            "  7.04497099e-04 5.88566065e-04 6.08742237e-04 5.98698854e-04\n",
            "  1.61442161e-03 1.73896551e-03 3.25548649e-03 3.40309739e-03\n",
            "  5.19123673e-03 1.31766200e-02 3.30761373e-02 4.81081903e-02\n",
            "  8.16173553e-02 2.89770126e-01 4.83554482e-01 7.98041582e-01\n",
            "  8.87971759e-01 8.58720541e-01 8.21236134e-01 6.52481496e-01\n",
            "  3.42258036e-01 1.17099166e-01 5.41297495e-02 3.96226645e-02\n",
            "  1.30825639e-02 4.61438298e-03 1.59528852e-03 6.04450703e-04\n",
            "  6.43938780e-04 6.15835190e-04 5.94705343e-04 1.27232075e-03\n",
            "  2.41976976e-03 4.73672152e-03 4.38857079e-03 9.98187065e-03\n",
            "  1.63910985e-02 1.20031416e-01 1.92574263e-01 5.26006281e-01\n",
            "  6.30923927e-01 8.34064484e-01 9.11643744e-01 9.56372142e-01\n",
            "  9.15237427e-01 8.06968451e-01 8.28435957e-01 7.75585473e-01\n",
            "  5.59287667e-01 3.05016458e-01 7.93871880e-02 3.97173762e-02\n",
            "  2.17006207e-02 5.23069501e-03 2.15581059e-03 6.33388758e-04\n",
            "  4.81128693e-04 8.55058432e-04 1.41498446e-03 5.13058901e-03\n",
            "  6.37891889e-03 7.05814362e-03 2.21349895e-02 5.25753200e-02\n",
            "  1.87681794e-01 3.95827264e-01 7.42762029e-01 8.54032636e-01\n",
            "  9.12494779e-01 9.43851471e-01 9.54609871e-01 8.53828669e-01\n",
            "  6.32816434e-01 3.38517100e-01 3.31099242e-01 6.59335375e-01\n",
            "  7.27806211e-01 5.10107994e-01 7.00201094e-02 3.48372757e-02\n",
            "  1.34232342e-02 2.30485201e-03 2.15908885e-03 4.80860472e-04\n",
            "  5.47289848e-04 5.68032265e-04 2.26885080e-03 3.76379490e-03\n",
            "  4.07278538e-03 1.63319111e-02 2.42676437e-02 7.33221173e-02\n",
            "  2.05497921e-01 5.25333226e-01 6.04231238e-01 7.82231033e-01\n",
            "  8.96765292e-01 8.63440156e-01 7.78184533e-01 4.06204581e-01\n",
            "  1.14414185e-01 1.00660861e-01 2.20227003e-01 5.10655224e-01\n",
            "  7.36680508e-01 4.10735190e-01 1.05655491e-01 1.36372149e-02\n",
            "  4.68084216e-03 1.06388330e-03 1.59239769e-03 7.52121210e-04\n",
            "  5.97536564e-04 1.03718042e-03 1.37642026e-03 4.98187542e-03\n",
            "  6.98712468e-03 1.16629004e-02 4.01101410e-02 6.46006167e-02\n",
            "  1.98661298e-01 1.95462495e-01 3.01007241e-01 2.95803905e-01\n",
            "  1.94334954e-01 2.03652859e-01 1.26633257e-01 4.24499512e-02\n",
            "  2.25636065e-02 4.52895164e-02 2.69981503e-01 7.39521503e-01\n",
            "  7.84049928e-01 5.38475990e-01 6.79319799e-02 5.84176183e-03\n",
            "  2.13378668e-03 1.61340833e-03 1.32021308e-03 8.22722912e-04\n",
            "  7.62701035e-04 1.18088722e-03 1.45387650e-03 3.05971503e-03\n",
            "  4.15807962e-03 7.24756718e-03 9.65246558e-03 2.12471485e-02\n",
            "  4.37094271e-02 5.88069260e-02 8.99997354e-02 3.24015617e-02\n",
            "  3.45088840e-02 1.06829584e-01 7.77229965e-02 4.12540436e-02\n",
            "  6.23822510e-02 1.65869236e-01 8.49099517e-01 9.34427321e-01\n",
            "  7.77892113e-01 1.79385036e-01 2.63238251e-02 4.14928794e-03\n",
            "  1.36327744e-03 1.42183900e-03 1.07455254e-03 8.29666853e-04\n",
            "  9.24050808e-04 6.11335039e-04 2.05177069e-03 2.17545033e-03\n",
            "  1.91453099e-03 2.91517377e-03 7.35348463e-03 5.16042113e-03\n",
            "  9.03114676e-03 7.59726763e-03 4.22435999e-03 1.15586519e-02\n",
            "  6.13374114e-02 3.35738301e-01 2.19068825e-01 1.58536285e-01\n",
            "  3.63487870e-01 7.88783491e-01 9.26184118e-01 8.73382747e-01\n",
            "  4.61859137e-01 2.70220935e-02 3.79067659e-03 1.23816729e-03\n",
            "  6.08623028e-04 1.32694840e-03 8.31216574e-04 9.02205706e-04\n",
            "  4.43160534e-04 7.64638186e-04 1.97607279e-03 9.81628895e-04\n",
            "  8.68290663e-04 2.67806649e-03 4.10485268e-03 2.42924690e-03\n",
            "  1.73732638e-03 2.12511420e-03 2.90066004e-03 3.82435024e-02\n",
            "  4.81176943e-01 6.23391867e-01 5.59624493e-01 6.00062251e-01\n",
            "  7.99021363e-01 9.12929773e-01 9.59029198e-01 7.39332855e-01\n",
            "  2.02739090e-01 6.58991933e-03 1.16869807e-03 3.63439322e-04\n",
            "  2.88724899e-04 8.91387463e-04 5.01960516e-04 7.21991062e-04\n",
            "  5.13046980e-04 7.50333071e-04 9.68813896e-04 7.45207071e-04\n",
            "  1.40139461e-03 3.28013301e-03 3.41835618e-03 1.41495466e-03\n",
            "  8.47637653e-04 2.21210718e-03 1.17057264e-02 4.39479440e-01\n",
            "  6.73197269e-01 8.69237185e-01 7.18058884e-01 7.44974792e-01\n",
            "  9.03310359e-01 9.40739393e-01 8.92591298e-01 4.30509597e-01\n",
            "  2.33216584e-02 1.70001388e-03 4.01735306e-04 2.08854675e-04\n",
            "  2.15679407e-04 7.57008791e-04 1.39382482e-03 4.36723232e-04\n",
            "  6.08325005e-04 5.77270985e-04 9.21577215e-04 1.44490600e-03\n",
            "  1.26361847e-03 2.82821059e-03 1.15051866e-03 6.87211752e-04\n",
            "  5.88446856e-04 3.11693549e-03 2.65467167e-02 3.53572726e-01\n",
            "  6.61833644e-01 7.16607392e-01 7.50788450e-01 9.36760545e-01\n",
            "  9.26618814e-01 8.96928549e-01 6.27265573e-01 6.31138980e-02\n",
            "  6.96814060e-03 1.16965175e-03 3.46094370e-04 3.85463238e-04\n",
            "  3.18378210e-04 2.82377005e-04 5.87433577e-04 4.83810902e-04\n",
            "  6.76423311e-04 5.70625067e-04 1.17513537e-03 1.98748708e-03\n",
            "  3.78352404e-03 2.46354938e-03 2.63279676e-03 8.32974911e-04\n",
            "  1.07088685e-03 3.03271413e-03 2.81301737e-02 1.13265663e-01\n",
            "  3.06961000e-01 3.82207215e-01 5.47428250e-01 8.80124211e-01\n",
            "  8.39019418e-01 6.98564768e-01 3.76148045e-01 5.88988066e-02\n",
            "  1.74060464e-03 6.93142414e-04 4.75406647e-04 4.87327576e-04\n",
            "  5.38825989e-04 4.61250544e-04 9.09209251e-04 4.43816185e-04\n",
            "  6.70790672e-04 8.40961933e-04 1.32113695e-03 3.78286839e-03\n",
            "  1.12301707e-02 6.28629327e-03 4.38073277e-03 2.01940536e-03\n",
            "  1.74131989e-03 4.40520048e-03 1.30830705e-02 3.20352614e-02\n",
            "  1.44498259e-01 1.52016848e-01 2.82786340e-01 4.39008117e-01\n",
            "  6.62872732e-01 6.13753676e-01 1.99257910e-01 1.42822266e-02\n",
            "  2.11954117e-03 7.78794289e-04 7.93546438e-04 4.00066376e-04\n",
            "  4.87655401e-04 4.12911177e-04 6.82771206e-04 5.78910112e-04\n",
            "  5.71072102e-04 6.74694777e-04 1.83171034e-03 1.08996034e-02\n",
            "  3.19643915e-02 1.05404556e-02 2.26653516e-02 8.27819109e-03\n",
            "  3.81571054e-03 7.33193755e-03 1.03437006e-02 9.33304429e-03\n",
            "  1.84672475e-02 2.33499706e-02 8.80980194e-02 1.49368554e-01\n",
            "  3.65243495e-01 5.18836379e-01 1.80138409e-01 3.93133759e-02\n",
            "  2.57676840e-03 1.66583061e-03 8.92370939e-04 6.91533089e-04\n",
            "  1.18592381e-03 6.29484653e-04 1.01876259e-03 4.55528498e-04\n",
            "  5.71519136e-04 5.02526760e-04 3.24535370e-03 4.44374382e-02\n",
            "  6.39891922e-02 3.25691700e-02 4.65053022e-02 2.37248242e-02\n",
            "  1.10181570e-02 1.75746679e-02 9.79411602e-03 5.50684333e-03\n",
            "  4.94626164e-03 1.45099461e-02 3.07536125e-02 1.04445010e-01\n",
            "  3.53072524e-01 7.09702492e-01 6.11316621e-01 7.30496645e-02\n",
            "  1.15910470e-02 1.28167868e-03 1.22159719e-03 1.80643797e-03\n",
            "  9.26077366e-04 6.78330660e-04 1.26075745e-03 6.44534826e-04\n",
            "  5.09530306e-04 1.00550056e-03 7.41174817e-03 7.41671026e-02\n",
            "  2.16249138e-01 2.32812136e-01 1.24078363e-01 9.63805616e-02\n",
            "  7.78989196e-02 7.00815022e-02 4.95389700e-02 1.12128258e-02\n",
            "  6.73437119e-03 1.62219107e-02 3.22056115e-02 1.09597862e-01\n",
            "  5.52603424e-01 8.74060571e-01 6.70317054e-01 1.42777264e-01\n",
            "  1.27948821e-02 2.42707133e-03 8.35806131e-04 8.75294209e-04\n",
            "  8.77797604e-04 1.40073895e-03 1.18967891e-03 6.72012568e-04\n",
            "  6.24895096e-04 6.09248877e-04 1.51446760e-02 3.00054014e-01\n",
            "  4.21665341e-01 2.49581307e-01 3.49534273e-01 3.79980534e-01\n",
            "  4.17220324e-01 3.08954626e-01 1.31530792e-01 3.02988291e-02\n",
            "  2.72907913e-02 2.50794590e-02 6.82616830e-02 2.69388467e-01\n",
            "  6.36241078e-01 8.71414065e-01 8.67075682e-01 4.13860261e-01\n",
            "  1.68205798e-02 3.54012847e-03 9.08821821e-04 1.65575743e-03\n",
            "  2.97537446e-03 1.42651796e-03 1.00353360e-03 5.92976809e-04\n",
            "  6.77764416e-04 7.29113817e-04 8.39871168e-03 2.79400766e-01\n",
            "  3.28582346e-01 5.27669549e-01 6.39840484e-01 8.36746573e-01\n",
            "  7.80843973e-01 5.66169202e-01 4.54893887e-01 2.21240133e-01\n",
            "  1.63001984e-01 1.77979201e-01 3.84351313e-01 5.35061836e-01\n",
            "  7.76832223e-01 9.03620243e-01 7.83229351e-01 2.05006778e-01\n",
            "  1.44634247e-02 2.58910656e-03 1.52847171e-03 1.60634518e-03\n",
            "  1.69557333e-03 1.87522173e-03 7.26073980e-04 5.55455685e-04\n",
            "  5.43743372e-04 7.15970993e-04 6.71958923e-03 7.88052678e-02\n",
            "  2.35091239e-01 3.64244580e-01 6.15486145e-01 8.43803704e-01\n",
            "  8.86208057e-01 8.83679032e-01 8.13256264e-01 6.72307909e-01\n",
            "  3.87987375e-01 6.61741078e-01 6.21980608e-01 7.23617494e-01\n",
            "  7.26534367e-01 7.25089073e-01 5.02038062e-01 7.38684833e-02\n",
            "  8.78977776e-03 2.11679935e-03 2.33802199e-03 2.53748894e-03\n",
            "  1.53458118e-03 1.38175488e-03 1.11347437e-03 7.35163689e-04\n",
            "  4.40448523e-04 4.77075577e-04 1.53452158e-03 2.06248462e-02\n",
            "  1.64246589e-01 3.46397579e-01 5.50744832e-01 8.21888089e-01\n",
            "  9.01104033e-01 9.30121541e-01 9.23776686e-01 8.54606807e-01\n",
            "  6.46092951e-01 6.35223508e-01 4.26084310e-01 4.48809534e-01\n",
            "  3.41146559e-01 2.52098024e-01 7.56018758e-02 2.64670849e-02\n",
            "  6.48570061e-03 1.43978000e-03 1.17760897e-03 1.11916661e-03\n",
            "  1.66001916e-03 1.08557940e-03 6.90668821e-04 3.94582748e-04\n",
            "  4.02510166e-04 6.63489103e-04 1.04486942e-03 2.28708982e-03\n",
            "  4.45757806e-02 1.05382115e-01 2.06926852e-01 2.76279837e-01\n",
            "  4.26818669e-01 7.28313982e-01 6.52882934e-01 4.07645404e-01\n",
            "  3.66328776e-01 2.10630536e-01 1.25513226e-01 5.59518635e-02\n",
            "  5.10001183e-02 4.98506427e-02 1.16902888e-02 5.39943576e-03\n",
            "  2.16248631e-03 5.82396984e-04 1.14452839e-03 8.46713781e-04\n",
            "  5.71042299e-04 6.45816326e-04 6.43521547e-04 8.95410776e-04\n",
            "  7.55548477e-04 7.86334276e-04 7.12752342e-04 7.35789537e-04\n",
            "  1.43709779e-03 4.59089875e-03 1.15659535e-02 2.11763084e-02\n",
            "  1.63578093e-02 2.51578987e-02 2.96245515e-02 3.23290527e-02\n",
            "  2.73904502e-02 1.49651468e-02 5.42259216e-03 8.17012787e-03\n",
            "  7.12808967e-03 1.08660161e-02 6.73514605e-03 4.98941541e-03\n",
            "  8.02546740e-04 5.75810671e-04 5.46544790e-04 9.92417336e-04\n",
            "  6.52730465e-04 6.83903694e-04 6.73145056e-04 6.06417656e-04\n",
            "  7.40587711e-04 6.37471676e-04 4.36007977e-04 5.79655170e-04\n",
            "  7.18832016e-04 1.76340342e-03 2.01946497e-03 8.86350870e-04\n",
            "  9.11504030e-04 1.21411681e-03 3.18217278e-03 3.36301327e-03\n",
            "  3.13299894e-03 1.94182992e-03 1.44615769e-03 1.60795450e-03\n",
            "  3.08534503e-03 2.97111273e-03 4.74673510e-03 2.00605392e-03\n",
            "  7.75426626e-04 8.86410475e-04 8.19653273e-04 8.12232494e-04\n",
            "  4.51296568e-04 3.06248665e-04 6.06477261e-04 6.56843185e-04\n",
            "  7.78526068e-04 5.82605600e-04 4.96566296e-04 6.18606806e-04\n",
            "  5.38527966e-04 9.40799713e-04 1.09544396e-03 1.07952952e-03\n",
            "  7.81297684e-04 1.49965286e-03 2.00664997e-03 3.30606103e-03\n",
            "  2.21419334e-03 2.30145454e-03 1.39692426e-03 1.85286999e-03\n",
            "  1.98325515e-03 1.82539225e-03 1.52701139e-03 1.21065974e-03\n",
            "  8.14497471e-04 4.53531742e-04 6.34074211e-04 6.37084246e-04\n",
            "  5.59836626e-04 5.16831875e-04 6.37561083e-04 7.40587711e-04]], shape=(1, 784), dtype=float32)\n"
          ]
        }
      ]
    },
    {
      "cell_type": "markdown",
      "metadata": {
        "id": "llOg1CEVngSE"
      },
      "source": [
        "Here we plot the reconstructed image:\n"
      ]
    },
    {
      "cell_type": "code",
      "metadata": {
        "colab": {
          "base_uri": "https://localhost:8080/",
          "height": 265
        },
        "id": "-lgK1lWWngSE",
        "outputId": "2c301837-3e99-4ae9-c17b-e8fe69853284"
      },
      "source": [
        "img = Image.fromarray(tile_raster_images(X=vv1_p.numpy(), img_shape=(28, 28),tile_shape=(1, 1), tile_spacing=(1, 1)))\n",
        "plt.rcParams['figure.figsize'] = (4.0, 4.0)\n",
        "imgplot = plt.imshow(img)\n",
        "imgplot.set_cmap('gray') "
      ],
      "execution_count": 29,
      "outputs": [
        {
          "output_type": "display_data",
          "data": {
            "image/png": "[encoded data removed]",
            "text/plain": [
              "<Figure size 288x288 with 1 Axes>"
            ]
          },
          "metadata": {
            "needs_background": "light"
          }
        }
      ]
    },
    {
      "cell_type": "markdown",
      "metadata": {
        "id": "N3fwUZVmngSE"
      },
      "source": [
        "<hr>\n",
        "\n",
        "## Want to learn more?\n",
        "\n",
        "Also, you can use **Watson Studio** to run these notebooks faster with bigger datasets.**Watson Studio** is IBM’s leading cloud solution for data scientists, built by data scientists. With Jupyter notebooks, RStudio, Apache Spark and popular libraries pre-packaged in the cloud, **Watson Studio** enables data scientists to collaborate on their projects without having to install anything. Join the fast-growing community of **Watson Studio** users today with a free account at [Watson Studio](https://cocl.us/ML0120EN_DSX).This is the end of this lesson. Thank you for reading this notebook, and good luck on your studies.\n"
      ]
    },
    {
      "cell_type": "markdown",
      "metadata": {
        "id": "wTrVZyT-ngSF"
      },
      "source": [
        "### Thanks for completing this lesson!\n",
        "\n",
        "Notebook created by: <a href = \"https://ca.linkedin.com/in/saeedaghabozorgi?utm_medium=Exinfluencer&utm_source=Exinfluencer&utm_content=000026UJ&utm_term=10006555&utm_id=NA-SkillsNetwork-Channel-SkillsNetworkCoursesIBMDeveloperSkillsNetworkDL0120ENSkillsNetwork20629446-2021-01-01\">Saeed Aghabozorgi</a>\n",
        "\n",
        "Updated to TF 2.X by  <a href=\"https://ca.linkedin.com/in/nilmeier?utm_medium=Exinfluencer&utm_source=Exinfluencer&utm_content=000026UJ&utm_term=10006555&utm_id=NA-SkillsNetwork-Channel-SkillsNetworkCoursesIBMDeveloperSkillsNetworkDL0120ENSkillsNetwork20629446-2021-01-01\"> Jerome Nilmeier</a><br />\n"
      ]
    },
    {
      "cell_type": "markdown",
      "metadata": {
        "id": "KRVVB2KCngSF"
      },
      "source": [
        "### References:\n",
        "\n",
        "[https://en.wikipedia.org/wiki/Restricted_Boltzmann_machine](https://en.wikipedia.org/wiki/Restricted_Boltzmann_machine?utm_medium=Exinfluencer&utm_source=Exinfluencer&utm_content=000026UJ&utm_term=10006555&utm_id=NA-SkillsNetwork-Channel-SkillsNetworkCoursesIBMDeveloperSkillsNetworkDL0120ENSkillsNetwork20629446-2021-01-01)\\\n",
        "[http://deeplearning.net/tutorial/rbm.html](http://deeplearning.net/tutorial/rbm.html?utm_medium=Exinfluencer&utm_source=Exinfluencer&utm_content=000026UJ&utm_term=10006555&utm_id=NA-SkillsNetwork-Channel-SkillsNetworkCoursesIBMDeveloperSkillsNetworkDL0120ENSkillsNetwork20629446-2021-01-01)\\\n",
        "[http://www.cs.utoronto.ca/\\~hinton/absps/netflixICML.pdf](http://www.cs.utoronto.ca/\\~hinton/absps/netflixICML.pdf?utm_medium=Exinfluencer&utm_source=Exinfluencer&utm_content=000026UJ&utm_term=10006555&utm_id=NA-SkillsNetwork-Channel-SkillsNetworkCoursesIBMDeveloperSkillsNetworkDL0120ENSkillsNetwork20629446-2021-01-01)<br>\n",
        "<http://imonad.com/rbm/restricted-boltzmann-machine/>\n"
      ]
    },
    {
      "cell_type": "markdown",
      "metadata": {
        "id": "jle2zkmgngSF"
      },
      "source": [
        "<hr>\n",
        "\n",
        "Copyright © 2018 [Cognitive Class](https://cocl.us/DX0108EN_CC). This notebook and its source code are released under the terms of the [MIT License](https://bigdatauniversity.com/mit-license/?utm_medium=Exinfluencer&utm_source=Exinfluencer&utm_content=000026UJ&utm_term=10006555&utm_id=NA-SkillsNetwork-Channel-SkillsNetworkCoursesIBMDeveloperSkillsNetworkDL0120ENSkillsNetwork20629446-2021-01-01).\n"
      ]
    }
  ]
}